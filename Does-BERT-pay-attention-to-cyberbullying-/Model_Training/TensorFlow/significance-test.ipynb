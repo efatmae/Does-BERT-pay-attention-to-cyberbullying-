{
 "cells": [
  {
   "cell_type": "code",
   "execution_count": 2,
   "metadata": {},
   "outputs": [],
   "source": [
    "import scipy.stats as stat"
   ]
  },
  {
   "cell_type": "code",
   "execution_count": 4,
   "metadata": {},
   "outputs": [
    {
     "data": {
      "text/plain": [
       "FriedmanchisquareResult(statistic=27.38267148014438, pvalue=4.804217646562121e-05)"
      ]
     },
     "execution_count": 4,
     "metadata": {},
     "output_type": "execute_result"
    }
   ],
   "source": [
    "stat.friedmanchisquare([0.264,\n",
    "0.650,\n",
    "0.7180,\n",
    "0.7330,\n",
    "0.694,\n",
    "0.711,\n",
    "0.746,\n",
    "0.610],[0.115,\n",
    "0.554,\n",
    "0.706,\n",
    "0.650,\n",
    "0.658,\n",
    "0.679,\n",
    "0.714,\n",
    "0.570],[0.124,\n",
    "0.564,\n",
    "0.663,\n",
    "0.654,\n",
    "0.686,\n",
    "0.696,\n",
    "0.726,\n",
    "0.615],[0.172,\n",
    "0.554,\n",
    "0.669,\n",
    "0.650,\n",
    "0.654,\n",
    "0.698,\n",
    "0.718,\n",
    "0.640],[0.216,\n",
    "0.508,\n",
    "0.254,\n",
    "0.370,\n",
    "0.226,\n",
    "0.080,\n",
    "0.087,\n",
    "0.114],[0.285,\n",
    "0.700,\n",
    "0.753,\n",
    "0.745,\n",
    "0.760,\n",
    "0.755,\n",
    "0.785,\n",
    "0.57])"
   ]
  },
  {
   "cell_type": "code",
   "execution_count": null,
   "metadata": {},
   "outputs": [],
   "source": []
  }
 ],
 "metadata": {
  "kernelspec": {
   "display_name": "env",
   "language": "python",
   "name": "env"
  },
  "language_info": {
   "codemirror_mode": {
    "name": "ipython",
    "version": 3
   },
   "file_extension": ".py",
   "mimetype": "text/x-python",
   "name": "python",
   "nbconvert_exporter": "python",
   "pygments_lexer": "ipython3",
   "version": "3.6.9"
  }
 },
 "nbformat": 4,
 "nbformat_minor": 4
}
