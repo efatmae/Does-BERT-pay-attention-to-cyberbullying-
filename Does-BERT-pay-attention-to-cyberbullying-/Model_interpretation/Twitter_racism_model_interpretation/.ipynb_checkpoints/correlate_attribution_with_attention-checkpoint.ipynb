{
 "cells": [
  {
   "cell_type": "code",
   "execution_count": 1,
   "metadata": {},
   "outputs": [
    {
     "name": "stderr",
     "output_type": "stream",
     "text": [
      "In /home/fatma/.local/lib/python3.6/site-packages/matplotlib/mpl-data/stylelib/_classic_test.mplstyle: \n",
      "The text.latex.preview rcparam was deprecated in Matplotlib 3.3 and will be removed two minor releases later.\n",
      "In /home/fatma/.local/lib/python3.6/site-packages/matplotlib/mpl-data/stylelib/_classic_test.mplstyle: \n",
      "The mathtext.fallback_to_cm rcparam was deprecated in Matplotlib 3.3 and will be removed two minor releases later.\n",
      "In /home/fatma/.local/lib/python3.6/site-packages/matplotlib/mpl-data/stylelib/_classic_test.mplstyle: Support for setting the 'mathtext.fallback_to_cm' rcParam is deprecated since 3.3 and will be removed two minor releases later; use 'mathtext.fallback : 'cm' instead.\n",
      "In /home/fatma/.local/lib/python3.6/site-packages/matplotlib/mpl-data/stylelib/_classic_test.mplstyle: \n",
      "The validate_bool_maybe_none function was deprecated in Matplotlib 3.3 and will be removed two minor releases later.\n",
      "In /home/fatma/.local/lib/python3.6/site-packages/matplotlib/mpl-data/stylelib/_classic_test.mplstyle: \n",
      "The savefig.jpeg_quality rcparam was deprecated in Matplotlib 3.3 and will be removed two minor releases later.\n",
      "In /home/fatma/.local/lib/python3.6/site-packages/matplotlib/mpl-data/stylelib/_classic_test.mplstyle: \n",
      "The keymap.all_axes rcparam was deprecated in Matplotlib 3.3 and will be removed two minor releases later.\n",
      "In /home/fatma/.local/lib/python3.6/site-packages/matplotlib/mpl-data/stylelib/_classic_test.mplstyle: \n",
      "The animation.avconv_path rcparam was deprecated in Matplotlib 3.3 and will be removed two minor releases later.\n",
      "In /home/fatma/.local/lib/python3.6/site-packages/matplotlib/mpl-data/stylelib/_classic_test.mplstyle: \n",
      "The animation.avconv_args rcparam was deprecated in Matplotlib 3.3 and will be removed two minor releases later.\n"
     ]
    }
   ],
   "source": [
    "import pandas as pd\n",
    "import numpy as np\n",
    "import matplotlib.pyplot as plt"
   ]
  },
  {
   "cell_type": "code",
   "execution_count": 2,
   "metadata": {},
   "outputs": [],
   "source": [
    "attribution_scores = pd.read_csv(\"attribution_Scores/Fine-tuned_BERT/Twitter_racism_1000_data_fine_tuned_bert_attribution_scores.csv\")"
   ]
  },
  {
   "cell_type": "code",
   "execution_count": 3,
   "metadata": {},
   "outputs": [],
   "source": [
    "attenion_weigths = pd.read_csv(\"attention_maps/bert_with_fine_tuning/attention_weights_for_1000_data.csv\")"
   ]
  },
  {
   "cell_type": "code",
   "execution_count": 4,
   "metadata": {},
   "outputs": [],
   "source": [
    "attribution_scores[\"abs_attribution\"] = [np.absolute(i) for i in attribution_scores.attribution]"
   ]
  },
  {
   "cell_type": "code",
   "execution_count": 5,
   "metadata": {},
   "outputs": [],
   "source": [
    "word_attribution_grp = attribution_scores.groupby(attribution_scores[\"words\"])"
   ]
  },
  {
   "cell_type": "code",
   "execution_count": 6,
   "metadata": {},
   "outputs": [],
   "source": [
    "import numpy as np\n",
    "\n",
    "unique_words = []\n",
    "avg_attribution = []\n",
    "avg_abs_attribution = []\n",
    "no_occurances = []\n",
    "for name,grp in word_attribution_grp:\n",
    "    unique_words.append(name)\n",
    "    avg_attribution.append(np.mean(grp[\"attribution\"]))\n",
    "    avg_abs_attribution.append(np.mean(grp[\"abs_attribution\"]))\n",
    "    no_occurances.append(len(grp[\"attribution\"]))"
   ]
  },
  {
   "cell_type": "code",
   "execution_count": 7,
   "metadata": {},
   "outputs": [],
   "source": [
    "word_attribution_unique = {}\n",
    "word_attribution_unique[\"unique_words\"] = unique_words\n",
    "word_attribution_unique[\"attribution\"] = avg_attribution\n",
    "word_attribution_unique[\"abs_attribution\"] = avg_abs_attribution\n",
    "word_attribution_unique[\"No_occurences\"] = no_occurances"
   ]
  },
  {
   "cell_type": "code",
   "execution_count": 8,
   "metadata": {},
   "outputs": [],
   "source": [
    "word_attribution_unique_df = pd.DataFrame.from_dict(word_attribution_unique)"
   ]
  },
  {
   "cell_type": "code",
   "execution_count": 9,
   "metadata": {},
   "outputs": [
    {
     "data": {
      "text/plain": [
       "3991"
      ]
     },
     "execution_count": 9,
     "metadata": {},
     "output_type": "execute_result"
    }
   ],
   "source": [
    "len(word_attribution_unique_df)"
   ]
  },
  {
   "cell_type": "code",
   "execution_count": 10,
   "metadata": {},
   "outputs": [
    {
     "data": {
      "text/html": [
       "<div>\n",
       "<style scoped>\n",
       "    .dataframe tbody tr th:only-of-type {\n",
       "        vertical-align: middle;\n",
       "    }\n",
       "\n",
       "    .dataframe tbody tr th {\n",
       "        vertical-align: top;\n",
       "    }\n",
       "\n",
       "    .dataframe thead th {\n",
       "        text-align: right;\n",
       "    }\n",
       "</style>\n",
       "<table border=\"1\" class=\"dataframe\">\n",
       "  <thead>\n",
       "    <tr style=\"text-align: right;\">\n",
       "      <th></th>\n",
       "      <th>unique_words</th>\n",
       "      <th>attribution</th>\n",
       "      <th>abs_attribution</th>\n",
       "      <th>No_occurences</th>\n",
       "    </tr>\n",
       "  </thead>\n",
       "  <tbody>\n",
       "    <tr>\n",
       "      <th>0</th>\n",
       "      <td>!</td>\n",
       "      <td>-2.874636e-03</td>\n",
       "      <td>6.956983e-03</td>\n",
       "      <td>165</td>\n",
       "    </tr>\n",
       "    <tr>\n",
       "      <th>1</th>\n",
       "      <td>##0</td>\n",
       "      <td>1.336902e-03</td>\n",
       "      <td>1.338236e-03</td>\n",
       "      <td>14</td>\n",
       "    </tr>\n",
       "    <tr>\n",
       "      <th>2</th>\n",
       "      <td>##01</td>\n",
       "      <td>-1.879063e-08</td>\n",
       "      <td>1.879063e-08</td>\n",
       "      <td>1</td>\n",
       "    </tr>\n",
       "    <tr>\n",
       "      <th>3</th>\n",
       "      <td>##0s</td>\n",
       "      <td>7.557407e-07</td>\n",
       "      <td>8.093852e-07</td>\n",
       "      <td>2</td>\n",
       "    </tr>\n",
       "    <tr>\n",
       "      <th>4</th>\n",
       "      <td>##1</td>\n",
       "      <td>1.130324e-02</td>\n",
       "      <td>1.329127e-02</td>\n",
       "      <td>26</td>\n",
       "    </tr>\n",
       "  </tbody>\n",
       "</table>\n",
       "</div>"
      ],
      "text/plain": [
       "  unique_words   attribution  abs_attribution  No_occurences\n",
       "0            ! -2.874636e-03     6.956983e-03            165\n",
       "1          ##0  1.336902e-03     1.338236e-03             14\n",
       "2         ##01 -1.879063e-08     1.879063e-08              1\n",
       "3         ##0s  7.557407e-07     8.093852e-07              2\n",
       "4          ##1  1.130324e-02     1.329127e-02             26"
      ]
     },
     "execution_count": 10,
     "metadata": {},
     "output_type": "execute_result"
    }
   ],
   "source": [
    "word_attribution_unique_df.head(5)"
   ]
  },
  {
   "cell_type": "code",
   "execution_count": 11,
   "metadata": {},
   "outputs": [
    {
     "data": {
      "text/html": [
       "<div>\n",
       "<style scoped>\n",
       "    .dataframe tbody tr th:only-of-type {\n",
       "        vertical-align: middle;\n",
       "    }\n",
       "\n",
       "    .dataframe tbody tr th {\n",
       "        vertical-align: top;\n",
       "    }\n",
       "\n",
       "    .dataframe thead th {\n",
       "        text-align: right;\n",
       "    }\n",
       "</style>\n",
       "<table border=\"1\" class=\"dataframe\">\n",
       "  <thead>\n",
       "    <tr style=\"text-align: right;\">\n",
       "      <th></th>\n",
       "      <th>word</th>\n",
       "      <th>attention_map</th>\n",
       "    </tr>\n",
       "  </thead>\n",
       "  <tbody>\n",
       "    <tr>\n",
       "      <th>0</th>\n",
       "      <td>[CLS]</td>\n",
       "      <td>{1: {1: 0.07809098064899445}}</td>\n",
       "    </tr>\n",
       "    <tr>\n",
       "      <th>1</th>\n",
       "      <td>[CLS]</td>\n",
       "      <td>{1: {2: 0.03365688771009445}}</td>\n",
       "    </tr>\n",
       "    <tr>\n",
       "      <th>2</th>\n",
       "      <td>[CLS]</td>\n",
       "      <td>{1: {3: 0.28811508417129517}}</td>\n",
       "    </tr>\n",
       "    <tr>\n",
       "      <th>3</th>\n",
       "      <td>[CLS]</td>\n",
       "      <td>{1: {4: 0.10459336638450623}}</td>\n",
       "    </tr>\n",
       "    <tr>\n",
       "      <th>4</th>\n",
       "      <td>[CLS]</td>\n",
       "      <td>{1: {5: 0.1066456213593483}}</td>\n",
       "    </tr>\n",
       "  </tbody>\n",
       "</table>\n",
       "</div>"
      ],
      "text/plain": [
       "    word                  attention_map\n",
       "0  [CLS]  {1: {1: 0.07809098064899445}}\n",
       "1  [CLS]  {1: {2: 0.03365688771009445}}\n",
       "2  [CLS]  {1: {3: 0.28811508417129517}}\n",
       "3  [CLS]  {1: {4: 0.10459336638450623}}\n",
       "4  [CLS]   {1: {5: 0.1066456213593483}}"
      ]
     },
     "execution_count": 11,
     "metadata": {},
     "output_type": "execute_result"
    }
   ],
   "source": [
    "attenion_weigths.head(5)"
   ]
  },
  {
   "cell_type": "code",
   "execution_count": 12,
   "metadata": {},
   "outputs": [
    {
     "data": {
      "text/plain": [
       "3273984"
      ]
     },
     "execution_count": 12,
     "metadata": {},
     "output_type": "execute_result"
    }
   ],
   "source": [
    "len(attenion_weigths)"
   ]
  },
  {
   "cell_type": "code",
   "execution_count": 13,
   "metadata": {},
   "outputs": [],
   "source": [
    "unique_words_attention = []\n",
    "\n",
    "for g, i in attenion_weigths.groupby(\"word\"):\n",
    "    unique_words_attention.append(g)"
   ]
  },
  {
   "cell_type": "code",
   "execution_count": 14,
   "metadata": {},
   "outputs": [
    {
     "data": {
      "text/plain": [
       "3993"
      ]
     },
     "execution_count": 14,
     "metadata": {},
     "output_type": "execute_result"
    }
   ],
   "source": [
    "len(unique_words_attention)"
   ]
  },
  {
   "cell_type": "code",
   "execution_count": 15,
   "metadata": {},
   "outputs": [],
   "source": [
    "unique_words_attention_common = [i for i in unique_words_attention if i in list(word_attribution_unique_df.unique_words.values)]\n"
   ]
  },
  {
   "cell_type": "code",
   "execution_count": 16,
   "metadata": {},
   "outputs": [
    {
     "data": {
      "text/plain": [
       "3991"
      ]
     },
     "execution_count": 16,
     "metadata": {},
     "output_type": "execute_result"
    }
   ],
   "source": [
    "len(unique_words_attention_common)"
   ]
  },
  {
   "cell_type": "code",
   "execution_count": 17,
   "metadata": {},
   "outputs": [],
   "source": [
    "common_words_attention = attenion_weigths[attenion_weigths[\"word\"].isin(unique_words_attention_common)]"
   ]
  },
  {
   "cell_type": "code",
   "execution_count": 18,
   "metadata": {},
   "outputs": [
    {
     "data": {
      "text/plain": [
       "2985840"
      ]
     },
     "execution_count": 18,
     "metadata": {},
     "output_type": "execute_result"
    }
   ],
   "source": [
    "len(common_words_attention)"
   ]
  },
  {
   "cell_type": "code",
   "execution_count": 19,
   "metadata": {},
   "outputs": [],
   "source": [
    "def generate_attention_attention_layers_per_head_for_word(word,attention_map_df):\n",
    "  import ast\n",
    "  frames = []\n",
    "  #len(attention_map_df[attention_map_df[\"word\"]==word][\"attention_map\"].values)\n",
    "  for i in attention_map_df[attention_map_df[\"word\"]==word][\"attention_map\"].values:\n",
    "    frames.append(pd.DataFrame.from_dict(ast.literal_eval(i)))\n",
    "  res = pd.concat(frames)\n",
    "  res = res.fillna(0)\n",
    "  res = res.groupby(res.index).mean()\n",
    "  return res"
   ]
  },
  {
   "cell_type": "code",
   "execution_count": 20,
   "metadata": {},
   "outputs": [],
   "source": [
    "mean_attetnion_weigth_of_last_layers = []\n",
    "for i in unique_words_attention_common:\n",
    "    res = generate_attention_attention_layers_per_head_for_word(i,common_words_attention)\n",
    "    avg_head_res_ft = res.mean(axis=1).values\n",
    "    mean_attetnion_weigth_of_last_layers.append(np.mean(avg_head_res_ft[-4:]))"
   ]
  },
  {
   "cell_type": "code",
   "execution_count": 21,
   "metadata": {},
   "outputs": [],
   "source": [
    "#max_attetnion_weigth_of_last_layers = []\n",
    "#for i in unique_words_attention_common:\n",
    " #   res = generate_attention_attention_layers_per_head_for_word(i,common_words_attention)\n",
    "  #  avg_head_res_ft = res.mean(axis=1).values\n",
    "   # max_attetnion_weigth_of_last_layers.append(max(avg_head_res_ft[-4:]))"
   ]
  },
  {
   "cell_type": "code",
   "execution_count": 22,
   "metadata": {},
   "outputs": [],
   "source": [
    "attribution_scores_common = word_attribution_unique_df[word_attribution_unique_df[\"unique_words\"].isin(unique_words_attention_common)]"
   ]
  },
  {
   "cell_type": "code",
   "execution_count": 23,
   "metadata": {},
   "outputs": [],
   "source": [
    "attribution_scores_common = attribution_scores_common.sort_values(\"unique_words\")"
   ]
  },
  {
   "cell_type": "code",
   "execution_count": 24,
   "metadata": {},
   "outputs": [
    {
     "name": "stderr",
     "output_type": "stream",
     "text": [
      "/home/fatma/.local/lib/python3.6/site-packages/ipykernel_launcher.py:5: SettingWithCopyWarning: \n",
      "A value is trying to be set on a copy of a slice from a DataFrame.\n",
      "Try using .loc[row_indexer,col_indexer] = value instead\n",
      "\n",
      "See the caveats in the documentation: https://pandas.pydata.org/pandas-docs/stable/user_guide/indexing.html#returning-a-view-versus-a-copy\n",
      "  \"\"\"\n"
     ]
    }
   ],
   "source": [
    "attribution_scores_common_list = []\n",
    "for i in unique_words_attention_common:\n",
    "    index = unique_words_attention_common.index(i)\n",
    "    attribution_scores_common = word_attribution_unique_df[word_attribution_unique_df[\"unique_words\"] == i]\n",
    "    attribution_scores_common[\"avg_attention_weigth_in_last_layers\"] = mean_attetnion_weigth_of_last_layers[index]\n",
    "    #attribution_scores_common[\"max_attention_weigth_in_last_layers\"] = max_attetnion_weigth_of_last_layers[index]\n",
    "    attribution_scores_common_list.append(attribution_scores_common)"
   ]
  },
  {
   "cell_type": "code",
   "execution_count": 25,
   "metadata": {},
   "outputs": [],
   "source": [
    "attribution_scores_common = pd.concat(attribution_scores_common_list)"
   ]
  },
  {
   "cell_type": "code",
   "execution_count": 26,
   "metadata": {},
   "outputs": [
    {
     "data": {
      "text/plain": [
       "3991"
      ]
     },
     "execution_count": 26,
     "metadata": {},
     "output_type": "execute_result"
    }
   ],
   "source": [
    "len(attribution_scores_common)"
   ]
  },
  {
   "cell_type": "code",
   "execution_count": 27,
   "metadata": {},
   "outputs": [
    {
     "data": {
      "text/html": [
       "<div>\n",
       "<style scoped>\n",
       "    .dataframe tbody tr th:only-of-type {\n",
       "        vertical-align: middle;\n",
       "    }\n",
       "\n",
       "    .dataframe tbody tr th {\n",
       "        vertical-align: top;\n",
       "    }\n",
       "\n",
       "    .dataframe thead th {\n",
       "        text-align: right;\n",
       "    }\n",
       "</style>\n",
       "<table border=\"1\" class=\"dataframe\">\n",
       "  <thead>\n",
       "    <tr style=\"text-align: right;\">\n",
       "      <th></th>\n",
       "      <th>unique_words</th>\n",
       "      <th>attribution</th>\n",
       "      <th>abs_attribution</th>\n",
       "      <th>No_occurences</th>\n",
       "      <th>avg_attention_weigth_in_last_layers</th>\n",
       "    </tr>\n",
       "  </thead>\n",
       "  <tbody>\n",
       "    <tr>\n",
       "      <th>0</th>\n",
       "      <td>!</td>\n",
       "      <td>-2.874636e-03</td>\n",
       "      <td>6.956983e-03</td>\n",
       "      <td>165</td>\n",
       "      <td>5.848550</td>\n",
       "    </tr>\n",
       "    <tr>\n",
       "      <th>1</th>\n",
       "      <td>##0</td>\n",
       "      <td>1.336902e-03</td>\n",
       "      <td>1.338236e-03</td>\n",
       "      <td>14</td>\n",
       "      <td>0.458247</td>\n",
       "    </tr>\n",
       "    <tr>\n",
       "      <th>2</th>\n",
       "      <td>##01</td>\n",
       "      <td>-1.879063e-08</td>\n",
       "      <td>1.879063e-08</td>\n",
       "      <td>1</td>\n",
       "      <td>0.052259</td>\n",
       "    </tr>\n",
       "    <tr>\n",
       "      <th>3</th>\n",
       "      <td>##0s</td>\n",
       "      <td>7.557407e-07</td>\n",
       "      <td>8.093852e-07</td>\n",
       "      <td>2</td>\n",
       "      <td>0.078234</td>\n",
       "    </tr>\n",
       "    <tr>\n",
       "      <th>4</th>\n",
       "      <td>##1</td>\n",
       "      <td>1.130324e-02</td>\n",
       "      <td>1.329127e-02</td>\n",
       "      <td>26</td>\n",
       "      <td>0.890804</td>\n",
       "    </tr>\n",
       "  </tbody>\n",
       "</table>\n",
       "</div>"
      ],
      "text/plain": [
       "  unique_words   attribution  abs_attribution  No_occurences  \\\n",
       "0            ! -2.874636e-03     6.956983e-03            165   \n",
       "1          ##0  1.336902e-03     1.338236e-03             14   \n",
       "2         ##01 -1.879063e-08     1.879063e-08              1   \n",
       "3         ##0s  7.557407e-07     8.093852e-07              2   \n",
       "4          ##1  1.130324e-02     1.329127e-02             26   \n",
       "\n",
       "   avg_attention_weigth_in_last_layers  \n",
       "0                             5.848550  \n",
       "1                             0.458247  \n",
       "2                             0.052259  \n",
       "3                             0.078234  \n",
       "4                             0.890804  "
      ]
     },
     "execution_count": 27,
     "metadata": {},
     "output_type": "execute_result"
    }
   ],
   "source": [
    "attribution_scores_common.head()"
   ]
  },
  {
   "cell_type": "code",
   "execution_count": 28,
   "metadata": {},
   "outputs": [],
   "source": [
    "subtokens = attribution_scores_common[attribution_scores_common.unique_words.str.contains(\"#\")]"
   ]
  },
  {
   "cell_type": "code",
   "execution_count": 29,
   "metadata": {},
   "outputs": [
    {
     "data": {
      "text/html": [
       "<div>\n",
       "<style scoped>\n",
       "    .dataframe tbody tr th:only-of-type {\n",
       "        vertical-align: middle;\n",
       "    }\n",
       "\n",
       "    .dataframe tbody tr th {\n",
       "        vertical-align: top;\n",
       "    }\n",
       "\n",
       "    .dataframe thead th {\n",
       "        text-align: right;\n",
       "    }\n",
       "</style>\n",
       "<table border=\"1\" class=\"dataframe\">\n",
       "  <thead>\n",
       "    <tr style=\"text-align: right;\">\n",
       "      <th></th>\n",
       "      <th>unique_words</th>\n",
       "      <th>attribution</th>\n",
       "      <th>abs_attribution</th>\n",
       "      <th>No_occurences</th>\n",
       "      <th>avg_attention_weigth_in_last_layers</th>\n",
       "    </tr>\n",
       "  </thead>\n",
       "  <tbody>\n",
       "    <tr>\n",
       "      <th>1</th>\n",
       "      <td>##0</td>\n",
       "      <td>1.336902e-03</td>\n",
       "      <td>1.338236e-03</td>\n",
       "      <td>14</td>\n",
       "      <td>0.458247</td>\n",
       "    </tr>\n",
       "    <tr>\n",
       "      <th>2</th>\n",
       "      <td>##01</td>\n",
       "      <td>-1.879063e-08</td>\n",
       "      <td>1.879063e-08</td>\n",
       "      <td>1</td>\n",
       "      <td>0.052259</td>\n",
       "    </tr>\n",
       "    <tr>\n",
       "      <th>3</th>\n",
       "      <td>##0s</td>\n",
       "      <td>7.557407e-07</td>\n",
       "      <td>8.093852e-07</td>\n",
       "      <td>2</td>\n",
       "      <td>0.078234</td>\n",
       "    </tr>\n",
       "    <tr>\n",
       "      <th>4</th>\n",
       "      <td>##1</td>\n",
       "      <td>1.130324e-02</td>\n",
       "      <td>1.329127e-02</td>\n",
       "      <td>26</td>\n",
       "      <td>0.890804</td>\n",
       "    </tr>\n",
       "    <tr>\n",
       "      <th>5</th>\n",
       "      <td>##10</td>\n",
       "      <td>-4.042788e-05</td>\n",
       "      <td>4.087117e-05</td>\n",
       "      <td>4</td>\n",
       "      <td>0.087886</td>\n",
       "    </tr>\n",
       "  </tbody>\n",
       "</table>\n",
       "</div>"
      ],
      "text/plain": [
       "  unique_words   attribution  abs_attribution  No_occurences  \\\n",
       "1          ##0  1.336902e-03     1.338236e-03             14   \n",
       "2         ##01 -1.879063e-08     1.879063e-08              1   \n",
       "3         ##0s  7.557407e-07     8.093852e-07              2   \n",
       "4          ##1  1.130324e-02     1.329127e-02             26   \n",
       "5         ##10 -4.042788e-05     4.087117e-05              4   \n",
       "\n",
       "   avg_attention_weigth_in_last_layers  \n",
       "1                             0.458247  \n",
       "2                             0.052259  \n",
       "3                             0.078234  \n",
       "4                             0.890804  \n",
       "5                             0.087886  "
      ]
     },
     "execution_count": 29,
     "metadata": {},
     "output_type": "execute_result"
    }
   ],
   "source": [
    "subtokens.head()"
   ]
  },
  {
   "cell_type": "code",
   "execution_count": 30,
   "metadata": {},
   "outputs": [
    {
     "data": {
      "text/plain": [
       "794"
      ]
     },
     "execution_count": 30,
     "metadata": {},
     "output_type": "execute_result"
    }
   ],
   "source": [
    "len(subtokens)"
   ]
  },
  {
   "cell_type": "code",
   "execution_count": 31,
   "metadata": {},
   "outputs": [
    {
     "data": {
      "text/plain": [
       "<matplotlib.legend.Legend at 0x7f800d564358>"
      ]
     },
     "execution_count": 31,
     "metadata": {},
     "output_type": "execute_result"
    },
    {
     "data": {
      "image/png": "[encoded data removed]",
      "text/plain": [
       "<Figure size 432x288 with 1 Axes>"
      ]
     },
     "metadata": {
      "needs_background": "light"
     },
     "output_type": "display_data"
    }
   ],
   "source": [
    "plt.hist([subtokens[\"abs_attribution\"], subtokens[\"avg_attention_weigth_in_last_layers\"]], label=[\"absolute attribution\", \"average attention weigths\"])\n",
    "plt.legend()"
   ]
  },
  {
   "cell_type": "code",
   "execution_count": 32,
   "metadata": {},
   "outputs": [],
   "source": [
    "tokens = attribution_scores_common[~attribution_scores_common.unique_words.str.contains(\"#\")]"
   ]
  },
  {
   "cell_type": "code",
   "execution_count": 33,
   "metadata": {},
   "outputs": [
    {
     "data": {
      "text/plain": [
       "<matplotlib.legend.Legend at 0x7f800d3a2550>"
      ]
     },
     "execution_count": 33,
     "metadata": {},
     "output_type": "execute_result"
    },
    {
     "data": {
      "image/png": "[encoded data removed]",
      "text/plain": [
       "<Figure size 432x288 with 1 Axes>"
      ]
     },
     "metadata": {
      "needs_background": "light"
     },
     "output_type": "display_data"
    }
   ],
   "source": [
    "plt.hist([tokens[\"abs_attribution\"], tokens[\"avg_attention_weigth_in_last_layers\"]],label=[\"absolute attribution\", \"average attention weigths\"])\n",
    "plt.legend()"
   ]
  },
  {
   "cell_type": "code",
   "execution_count": 34,
   "metadata": {},
   "outputs": [
    {
     "data": {
      "text/plain": [
       "array([[<AxesSubplot:xlabel='attribution', ylabel='attribution'>,\n",
       "        <AxesSubplot:xlabel='abs_attribution', ylabel='attribution'>,\n",
       "        <AxesSubplot:xlabel='No_occurences', ylabel='attribution'>,\n",
       "        <AxesSubplot:xlabel='avg_attention_weigth_in_last_layers', ylabel='attribution'>],\n",
       "       [<AxesSubplot:xlabel='attribution', ylabel='abs_attribution'>,\n",
       "        <AxesSubplot:xlabel='abs_attribution', ylabel='abs_attribution'>,\n",
       "        <AxesSubplot:xlabel='No_occurences', ylabel='abs_attribution'>,\n",
       "        <AxesSubplot:xlabel='avg_attention_weigth_in_last_layers', ylabel='abs_attribution'>],\n",
       "       [<AxesSubplot:xlabel='attribution', ylabel='No_occurences'>,\n",
       "        <AxesSubplot:xlabel='abs_attribution', ylabel='No_occurences'>,\n",
       "        <AxesSubplot:xlabel='No_occurences', ylabel='No_occurences'>,\n",
       "        <AxesSubplot:xlabel='avg_attention_weigth_in_last_layers', ylabel='No_occurences'>],\n",
       "       [<AxesSubplot:xlabel='attribution', ylabel='avg_attention_weigth_in_last_layers'>,\n",
       "        <AxesSubplot:xlabel='abs_attribution', ylabel='avg_attention_weigth_in_last_layers'>,\n",
       "        <AxesSubplot:xlabel='No_occurences', ylabel='avg_attention_weigth_in_last_layers'>,\n",
       "        <AxesSubplot:xlabel='avg_attention_weigth_in_last_layers', ylabel='avg_attention_weigth_in_last_layers'>]],\n",
       "      dtype=object)"
      ]
     },
     "execution_count": 34,
     "metadata": {},
     "output_type": "execute_result"
    },
    {
     "data": {
      "image/png": "[encoded data removed]",
      "text/plain": [
       "<Figure size 1440x1440 with 16 Axes>"
      ]
     },
     "metadata": {
      "needs_background": "light"
     },
     "output_type": "display_data"
    }
   ],
   "source": [
    "pd.plotting.scatter_matrix(subtokens, figsize=(20, 20),diagonal='kde')"
   ]
  },
  {
   "cell_type": "code",
   "execution_count": 35,
   "metadata": {},
   "outputs": [
    {
     "data": {
      "text/plain": [
       "3991"
      ]
     },
     "execution_count": 35,
     "metadata": {},
     "output_type": "execute_result"
    }
   ],
   "source": [
    "len(attribution_scores_common)"
   ]
  },
  {
   "cell_type": "code",
   "execution_count": 36,
   "metadata": {},
   "outputs": [
    {
     "data": {
      "text/html": [
       "<div>\n",
       "<style scoped>\n",
       "    .dataframe tbody tr th:only-of-type {\n",
       "        vertical-align: middle;\n",
       "    }\n",
       "\n",
       "    .dataframe tbody tr th {\n",
       "        vertical-align: top;\n",
       "    }\n",
       "\n",
       "    .dataframe thead th {\n",
       "        text-align: right;\n",
       "    }\n",
       "</style>\n",
       "<table border=\"1\" class=\"dataframe\">\n",
       "  <thead>\n",
       "    <tr style=\"text-align: right;\">\n",
       "      <th></th>\n",
       "      <th>attribution</th>\n",
       "      <th>abs_attribution</th>\n",
       "      <th>No_occurences</th>\n",
       "      <th>avg_attention_weigth_in_last_layers</th>\n",
       "    </tr>\n",
       "  </thead>\n",
       "  <tbody>\n",
       "    <tr>\n",
       "      <th>attribution</th>\n",
       "      <td>1.000000</td>\n",
       "      <td>0.372233</td>\n",
       "      <td>0.002653</td>\n",
       "      <td>0.002868</td>\n",
       "    </tr>\n",
       "    <tr>\n",
       "      <th>abs_attribution</th>\n",
       "      <td>0.372233</td>\n",
       "      <td>1.000000</td>\n",
       "      <td>-0.002300</td>\n",
       "      <td>-0.000082</td>\n",
       "    </tr>\n",
       "    <tr>\n",
       "      <th>No_occurences</th>\n",
       "      <td>0.002653</td>\n",
       "      <td>-0.002300</td>\n",
       "      <td>1.000000</td>\n",
       "      <td>0.948174</td>\n",
       "    </tr>\n",
       "    <tr>\n",
       "      <th>avg_attention_weigth_in_last_layers</th>\n",
       "      <td>0.002868</td>\n",
       "      <td>-0.000082</td>\n",
       "      <td>0.948174</td>\n",
       "      <td>1.000000</td>\n",
       "    </tr>\n",
       "  </tbody>\n",
       "</table>\n",
       "</div>"
      ],
      "text/plain": [
       "                                     attribution  abs_attribution  \\\n",
       "attribution                             1.000000         0.372233   \n",
       "abs_attribution                         0.372233         1.000000   \n",
       "No_occurences                           0.002653        -0.002300   \n",
       "avg_attention_weigth_in_last_layers     0.002868        -0.000082   \n",
       "\n",
       "                                     No_occurences  \\\n",
       "attribution                               0.002653   \n",
       "abs_attribution                          -0.002300   \n",
       "No_occurences                             1.000000   \n",
       "avg_attention_weigth_in_last_layers       0.948174   \n",
       "\n",
       "                                     avg_attention_weigth_in_last_layers  \n",
       "attribution                                                     0.002868  \n",
       "abs_attribution                                                -0.000082  \n",
       "No_occurences                                                   0.948174  \n",
       "avg_attention_weigth_in_last_layers                             1.000000  "
      ]
     },
     "execution_count": 36,
     "metadata": {},
     "output_type": "execute_result"
    }
   ],
   "source": [
    "attribution_scores_common.corr()"
   ]
  },
  {
   "cell_type": "code",
   "execution_count": 37,
   "metadata": {},
   "outputs": [],
   "source": [
    "df = attribution_scores_common[[\"attribution\", \"abs_attribution\" ,\"No_occurences\", \"avg_attention_weigth_in_last_layers\"]]"
   ]
  },
  {
   "cell_type": "code",
   "execution_count": 38,
   "metadata": {},
   "outputs": [
    {
     "data": {
      "text/html": [
       "<div>\n",
       "<style scoped>\n",
       "    .dataframe tbody tr th:only-of-type {\n",
       "        vertical-align: middle;\n",
       "    }\n",
       "\n",
       "    .dataframe tbody tr th {\n",
       "        vertical-align: top;\n",
       "    }\n",
       "\n",
       "    .dataframe thead th {\n",
       "        text-align: right;\n",
       "    }\n",
       "</style>\n",
       "<table border=\"1\" class=\"dataframe\">\n",
       "  <thead>\n",
       "    <tr style=\"text-align: right;\">\n",
       "      <th></th>\n",
       "      <th>unique_words</th>\n",
       "      <th>attribution</th>\n",
       "      <th>abs_attribution</th>\n",
       "      <th>No_occurences</th>\n",
       "      <th>avg_attention_weigth_in_last_layers</th>\n",
       "    </tr>\n",
       "  </thead>\n",
       "  <tbody>\n",
       "    <tr>\n",
       "      <th>0</th>\n",
       "      <td>!</td>\n",
       "      <td>-2.874636e-03</td>\n",
       "      <td>6.956983e-03</td>\n",
       "      <td>165</td>\n",
       "      <td>5.848550</td>\n",
       "    </tr>\n",
       "    <tr>\n",
       "      <th>1</th>\n",
       "      <td>##0</td>\n",
       "      <td>1.336902e-03</td>\n",
       "      <td>1.338236e-03</td>\n",
       "      <td>14</td>\n",
       "      <td>0.458247</td>\n",
       "    </tr>\n",
       "    <tr>\n",
       "      <th>2</th>\n",
       "      <td>##01</td>\n",
       "      <td>-1.879063e-08</td>\n",
       "      <td>1.879063e-08</td>\n",
       "      <td>1</td>\n",
       "      <td>0.052259</td>\n",
       "    </tr>\n",
       "    <tr>\n",
       "      <th>3</th>\n",
       "      <td>##0s</td>\n",
       "      <td>7.557407e-07</td>\n",
       "      <td>8.093852e-07</td>\n",
       "      <td>2</td>\n",
       "      <td>0.078234</td>\n",
       "    </tr>\n",
       "    <tr>\n",
       "      <th>4</th>\n",
       "      <td>##1</td>\n",
       "      <td>1.130324e-02</td>\n",
       "      <td>1.329127e-02</td>\n",
       "      <td>26</td>\n",
       "      <td>0.890804</td>\n",
       "    </tr>\n",
       "    <tr>\n",
       "      <th>...</th>\n",
       "      <td>...</td>\n",
       "      <td>...</td>\n",
       "      <td>...</td>\n",
       "      <td>...</td>\n",
       "      <td>...</td>\n",
       "    </tr>\n",
       "    <tr>\n",
       "      <th>3986</th>\n",
       "      <td>zero</td>\n",
       "      <td>-9.174085e-08</td>\n",
       "      <td>9.174085e-08</td>\n",
       "      <td>2</td>\n",
       "      <td>0.078022</td>\n",
       "    </tr>\n",
       "    <tr>\n",
       "      <th>3987</th>\n",
       "      <td>zionist</td>\n",
       "      <td>7.648375e-02</td>\n",
       "      <td>7.648375e-02</td>\n",
       "      <td>1</td>\n",
       "      <td>0.041838</td>\n",
       "    </tr>\n",
       "    <tr>\n",
       "      <th>3988</th>\n",
       "      <td>zoe</td>\n",
       "      <td>1.408282e-09</td>\n",
       "      <td>1.408282e-09</td>\n",
       "      <td>1</td>\n",
       "      <td>0.018082</td>\n",
       "    </tr>\n",
       "    <tr>\n",
       "      <th>3989</th>\n",
       "      <td>zu</td>\n",
       "      <td>3.397125e-08</td>\n",
       "      <td>3.397125e-08</td>\n",
       "      <td>2</td>\n",
       "      <td>0.071591</td>\n",
       "    </tr>\n",
       "    <tr>\n",
       "      <th>3990</th>\n",
       "      <td>|</td>\n",
       "      <td>4.223060e-08</td>\n",
       "      <td>4.223060e-08</td>\n",
       "      <td>3</td>\n",
       "      <td>0.115580</td>\n",
       "    </tr>\n",
       "  </tbody>\n",
       "</table>\n",
       "<p>3991 rows × 5 columns</p>\n",
       "</div>"
      ],
      "text/plain": [
       "     unique_words   attribution  abs_attribution  No_occurences  \\\n",
       "0               ! -2.874636e-03     6.956983e-03            165   \n",
       "1             ##0  1.336902e-03     1.338236e-03             14   \n",
       "2            ##01 -1.879063e-08     1.879063e-08              1   \n",
       "3            ##0s  7.557407e-07     8.093852e-07              2   \n",
       "4             ##1  1.130324e-02     1.329127e-02             26   \n",
       "...           ...           ...              ...            ...   \n",
       "3986         zero -9.174085e-08     9.174085e-08              2   \n",
       "3987      zionist  7.648375e-02     7.648375e-02              1   \n",
       "3988          zoe  1.408282e-09     1.408282e-09              1   \n",
       "3989           zu  3.397125e-08     3.397125e-08              2   \n",
       "3990            |  4.223060e-08     4.223060e-08              3   \n",
       "\n",
       "      avg_attention_weigth_in_last_layers  \n",
       "0                                5.848550  \n",
       "1                                0.458247  \n",
       "2                                0.052259  \n",
       "3                                0.078234  \n",
       "4                                0.890804  \n",
       "...                                   ...  \n",
       "3986                             0.078022  \n",
       "3987                             0.041838  \n",
       "3988                             0.018082  \n",
       "3989                             0.071591  \n",
       "3990                             0.115580  \n",
       "\n",
       "[3991 rows x 5 columns]"
      ]
     },
     "execution_count": 38,
     "metadata": {},
     "output_type": "execute_result"
    }
   ],
   "source": [
    "attribution_scores_common"
   ]
  },
  {
   "cell_type": "code",
   "execution_count": 39,
   "metadata": {},
   "outputs": [
    {
     "data": {
      "text/html": [
       "<div>\n",
       "<style scoped>\n",
       "    .dataframe tbody tr th:only-of-type {\n",
       "        vertical-align: middle;\n",
       "    }\n",
       "\n",
       "    .dataframe tbody tr th {\n",
       "        vertical-align: top;\n",
       "    }\n",
       "\n",
       "    .dataframe thead th {\n",
       "        text-align: right;\n",
       "    }\n",
       "</style>\n",
       "<table border=\"1\" class=\"dataframe\">\n",
       "  <thead>\n",
       "    <tr style=\"text-align: right;\">\n",
       "      <th></th>\n",
       "      <th>attribution</th>\n",
       "      <th>abs_attribution</th>\n",
       "      <th>No_occurences</th>\n",
       "      <th>avg_attention_weigth_in_last_layers</th>\n",
       "    </tr>\n",
       "  </thead>\n",
       "  <tbody>\n",
       "    <tr>\n",
       "      <th>attribution</th>\n",
       "      <td>1.000000</td>\n",
       "      <td>0.372233</td>\n",
       "      <td>0.002653</td>\n",
       "      <td>0.002868</td>\n",
       "    </tr>\n",
       "    <tr>\n",
       "      <th>abs_attribution</th>\n",
       "      <td>0.372233</td>\n",
       "      <td>1.000000</td>\n",
       "      <td>-0.002300</td>\n",
       "      <td>-0.000082</td>\n",
       "    </tr>\n",
       "    <tr>\n",
       "      <th>No_occurences</th>\n",
       "      <td>0.002653</td>\n",
       "      <td>-0.002300</td>\n",
       "      <td>1.000000</td>\n",
       "      <td>0.948174</td>\n",
       "    </tr>\n",
       "    <tr>\n",
       "      <th>avg_attention_weigth_in_last_layers</th>\n",
       "      <td>0.002868</td>\n",
       "      <td>-0.000082</td>\n",
       "      <td>0.948174</td>\n",
       "      <td>1.000000</td>\n",
       "    </tr>\n",
       "  </tbody>\n",
       "</table>\n",
       "</div>"
      ],
      "text/plain": [
       "                                     attribution  abs_attribution  \\\n",
       "attribution                             1.000000         0.372233   \n",
       "abs_attribution                         0.372233         1.000000   \n",
       "No_occurences                           0.002653        -0.002300   \n",
       "avg_attention_weigth_in_last_layers     0.002868        -0.000082   \n",
       "\n",
       "                                     No_occurences  \\\n",
       "attribution                               0.002653   \n",
       "abs_attribution                          -0.002300   \n",
       "No_occurences                             1.000000   \n",
       "avg_attention_weigth_in_last_layers       0.948174   \n",
       "\n",
       "                                     avg_attention_weigth_in_last_layers  \n",
       "attribution                                                     0.002868  \n",
       "abs_attribution                                                -0.000082  \n",
       "No_occurences                                                   0.948174  \n",
       "avg_attention_weigth_in_last_layers                             1.000000  "
      ]
     },
     "execution_count": 39,
     "metadata": {},
     "output_type": "execute_result"
    }
   ],
   "source": [
    "df.corr()"
   ]
  },
  {
   "cell_type": "code",
   "execution_count": 40,
   "metadata": {},
   "outputs": [
    {
     "data": {
      "text/plain": [
       "Text(0, 0.5, 'Average attention weigth \\n in the last 4 layers')"
      ]
     },
     "execution_count": 40,
     "metadata": {},
     "output_type": "execute_result"
    },
    {
     "data": {
      "image/png": "[encoded data removed]",
      "text/plain": [
       "<Figure size 432x288 with 1 Axes>"
      ]
     },
     "metadata": {
      "needs_background": "light"
     },
     "output_type": "display_data"
    }
   ],
   "source": [
    "plt.scatter(attribution_scores_common[\"abs_attribution\"], attribution_scores_common[\"avg_attention_weigth_in_last_layers\"])\n",
    "plt.xlabel(\"Absolute attribution score\",fontsize=16)\n",
    "plt.ylabel(\"Average attention weigth \\n in the last 4 layers\",fontsize=16)\n"
   ]
  },
  {
   "cell_type": "code",
   "execution_count": 41,
   "metadata": {},
   "outputs": [
    {
     "data": {
      "text/html": [
       "<div>\n",
       "<style scoped>\n",
       "    .dataframe tbody tr th:only-of-type {\n",
       "        vertical-align: middle;\n",
       "    }\n",
       "\n",
       "    .dataframe tbody tr th {\n",
       "        vertical-align: top;\n",
       "    }\n",
       "\n",
       "    .dataframe thead th {\n",
       "        text-align: right;\n",
       "    }\n",
       "</style>\n",
       "<table border=\"1\" class=\"dataframe\">\n",
       "  <thead>\n",
       "    <tr style=\"text-align: right;\">\n",
       "      <th></th>\n",
       "      <th>unique_words</th>\n",
       "      <th>attribution</th>\n",
       "      <th>abs_attribution</th>\n",
       "      <th>No_occurences</th>\n",
       "      <th>avg_attention_weigth_in_last_layers</th>\n",
       "    </tr>\n",
       "  </thead>\n",
       "  <tbody>\n",
       "    <tr>\n",
       "      <th>0</th>\n",
       "      <td>!</td>\n",
       "      <td>-2.874636e-03</td>\n",
       "      <td>6.956983e-03</td>\n",
       "      <td>165</td>\n",
       "      <td>5.848550</td>\n",
       "    </tr>\n",
       "    <tr>\n",
       "      <th>559</th>\n",
       "      <td>##r</td>\n",
       "      <td>1.983897e-04</td>\n",
       "      <td>2.544604e-04</td>\n",
       "      <td>317</td>\n",
       "      <td>14.508904</td>\n",
       "    </tr>\n",
       "    <tr>\n",
       "      <th>801</th>\n",
       "      <td>,</td>\n",
       "      <td>-1.198645e-03</td>\n",
       "      <td>5.723626e-03</td>\n",
       "      <td>401</td>\n",
       "      <td>12.551528</td>\n",
       "    </tr>\n",
       "    <tr>\n",
       "      <th>803</th>\n",
       "      <td>.</td>\n",
       "      <td>2.574562e-03</td>\n",
       "      <td>5.655175e-03</td>\n",
       "      <td>1148</td>\n",
       "      <td>55.229542</td>\n",
       "    </tr>\n",
       "    <tr>\n",
       "      <th>866</th>\n",
       "      <td>:</td>\n",
       "      <td>5.363410e-03</td>\n",
       "      <td>1.054196e-02</td>\n",
       "      <td>254</td>\n",
       "      <td>9.417356</td>\n",
       "    </tr>\n",
       "    <tr>\n",
       "      <th>871</th>\n",
       "      <td>?</td>\n",
       "      <td>5.107372e-03</td>\n",
       "      <td>5.953637e-03</td>\n",
       "      <td>162</td>\n",
       "      <td>6.302961</td>\n",
       "    </tr>\n",
       "    <tr>\n",
       "      <th>878</th>\n",
       "      <td>a</td>\n",
       "      <td>3.965892e-03</td>\n",
       "      <td>8.448114e-03</td>\n",
       "      <td>272</td>\n",
       "      <td>5.185526</td>\n",
       "    </tr>\n",
       "    <tr>\n",
       "      <th>993</th>\n",
       "      <td>and</td>\n",
       "      <td>-6.300178e-04</td>\n",
       "      <td>6.055869e-03</td>\n",
       "      <td>318</td>\n",
       "      <td>8.314444</td>\n",
       "    </tr>\n",
       "    <tr>\n",
       "      <th>2171</th>\n",
       "      <td>i</td>\n",
       "      <td>2.555382e-04</td>\n",
       "      <td>2.356568e-03</td>\n",
       "      <td>335</td>\n",
       "      <td>7.873718</td>\n",
       "    </tr>\n",
       "    <tr>\n",
       "      <th>2268</th>\n",
       "      <td>is</td>\n",
       "      <td>1.289039e-03</td>\n",
       "      <td>5.645842e-03</td>\n",
       "      <td>336</td>\n",
       "      <td>9.139669</td>\n",
       "    </tr>\n",
       "    <tr>\n",
       "      <th>2616</th>\n",
       "      <td>mk</td>\n",
       "      <td>-8.004981e-08</td>\n",
       "      <td>8.385114e-08</td>\n",
       "      <td>306</td>\n",
       "      <td>14.009789</td>\n",
       "    </tr>\n",
       "    <tr>\n",
       "      <th>2735</th>\n",
       "      <td>not</td>\n",
       "      <td>1.013970e-03</td>\n",
       "      <td>4.810261e-03</td>\n",
       "      <td>238</td>\n",
       "      <td>5.450670</td>\n",
       "    </tr>\n",
       "    <tr>\n",
       "      <th>3629</th>\n",
       "      <td>that</td>\n",
       "      <td>2.551144e-04</td>\n",
       "      <td>2.347779e-03</td>\n",
       "      <td>204</td>\n",
       "      <td>5.714370</td>\n",
       "    </tr>\n",
       "    <tr>\n",
       "      <th>3630</th>\n",
       "      <td>the</td>\n",
       "      <td>-4.525237e-04</td>\n",
       "      <td>6.936260e-03</td>\n",
       "      <td>521</td>\n",
       "      <td>10.840612</td>\n",
       "    </tr>\n",
       "    <tr>\n",
       "      <th>3679</th>\n",
       "      <td>to</td>\n",
       "      <td>8.629174e-05</td>\n",
       "      <td>3.364970e-03</td>\n",
       "      <td>332</td>\n",
       "      <td>6.121872</td>\n",
       "    </tr>\n",
       "    <tr>\n",
       "      <th>3977</th>\n",
       "      <td>you</td>\n",
       "      <td>3.399117e-03</td>\n",
       "      <td>7.220599e-03</td>\n",
       "      <td>205</td>\n",
       "      <td>5.845002</td>\n",
       "    </tr>\n",
       "  </tbody>\n",
       "</table>\n",
       "</div>"
      ],
      "text/plain": [
       "     unique_words   attribution  abs_attribution  No_occurences  \\\n",
       "0               ! -2.874636e-03     6.956983e-03            165   \n",
       "559           ##r  1.983897e-04     2.544604e-04            317   \n",
       "801             , -1.198645e-03     5.723626e-03            401   \n",
       "803             .  2.574562e-03     5.655175e-03           1148   \n",
       "866             :  5.363410e-03     1.054196e-02            254   \n",
       "871             ?  5.107372e-03     5.953637e-03            162   \n",
       "878             a  3.965892e-03     8.448114e-03            272   \n",
       "993           and -6.300178e-04     6.055869e-03            318   \n",
       "2171            i  2.555382e-04     2.356568e-03            335   \n",
       "2268           is  1.289039e-03     5.645842e-03            336   \n",
       "2616           mk -8.004981e-08     8.385114e-08            306   \n",
       "2735          not  1.013970e-03     4.810261e-03            238   \n",
       "3629         that  2.551144e-04     2.347779e-03            204   \n",
       "3630          the -4.525237e-04     6.936260e-03            521   \n",
       "3679           to  8.629174e-05     3.364970e-03            332   \n",
       "3977          you  3.399117e-03     7.220599e-03            205   \n",
       "\n",
       "      avg_attention_weigth_in_last_layers  \n",
       "0                                5.848550  \n",
       "559                             14.508904  \n",
       "801                             12.551528  \n",
       "803                             55.229542  \n",
       "866                              9.417356  \n",
       "871                              6.302961  \n",
       "878                              5.185526  \n",
       "993                              8.314444  \n",
       "2171                             7.873718  \n",
       "2268                             9.139669  \n",
       "2616                            14.009789  \n",
       "2735                             5.450670  \n",
       "3629                             5.714370  \n",
       "3630                            10.840612  \n",
       "3679                             6.121872  \n",
       "3977                             5.845002  "
      ]
     },
     "execution_count": 41,
     "metadata": {},
     "output_type": "execute_result"
    }
   ],
   "source": [
    "attribution_scores_common[attribution_scores_common[\"avg_attention_weigth_in_last_layers\"]>5]"
   ]
  },
  {
   "cell_type": "code",
   "execution_count": 42,
   "metadata": {},
   "outputs": [
    {
     "data": {
      "text/html": [
       "<div>\n",
       "<style scoped>\n",
       "    .dataframe tbody tr th:only-of-type {\n",
       "        vertical-align: middle;\n",
       "    }\n",
       "\n",
       "    .dataframe tbody tr th {\n",
       "        vertical-align: top;\n",
       "    }\n",
       "\n",
       "    .dataframe thead th {\n",
       "        text-align: right;\n",
       "    }\n",
       "</style>\n",
       "<table border=\"1\" class=\"dataframe\">\n",
       "  <thead>\n",
       "    <tr style=\"text-align: right;\">\n",
       "      <th></th>\n",
       "      <th>unique_words</th>\n",
       "      <th>attribution</th>\n",
       "      <th>abs_attribution</th>\n",
       "      <th>No_occurences</th>\n",
       "      <th>avg_attention_weigth_in_last_layers</th>\n",
       "    </tr>\n",
       "  </thead>\n",
       "  <tbody>\n",
       "    <tr>\n",
       "      <th>1090</th>\n",
       "      <td>audiences</td>\n",
       "      <td>-0.739988</td>\n",
       "      <td>0.739988</td>\n",
       "      <td>1</td>\n",
       "      <td>0.042664</td>\n",
       "    </tr>\n",
       "    <tr>\n",
       "      <th>1476</th>\n",
       "      <td>convert</td>\n",
       "      <td>0.636224</td>\n",
       "      <td>0.636224</td>\n",
       "      <td>1</td>\n",
       "      <td>0.043533</td>\n",
       "    </tr>\n",
       "    <tr>\n",
       "      <th>2626</th>\n",
       "      <td>mohamed</td>\n",
       "      <td>2.101387</td>\n",
       "      <td>2.101387</td>\n",
       "      <td>1</td>\n",
       "      <td>0.071490</td>\n",
       "    </tr>\n",
       "    <tr>\n",
       "      <th>2809</th>\n",
       "      <td>outlaw</td>\n",
       "      <td>1.007169</td>\n",
       "      <td>1.007169</td>\n",
       "      <td>1</td>\n",
       "      <td>0.045908</td>\n",
       "    </tr>\n",
       "    <tr>\n",
       "      <th>2884</th>\n",
       "      <td>peters</td>\n",
       "      <td>-0.691282</td>\n",
       "      <td>0.691282</td>\n",
       "      <td>1</td>\n",
       "      <td>0.039628</td>\n",
       "    </tr>\n",
       "    <tr>\n",
       "      <th>2887</th>\n",
       "      <td>phd</td>\n",
       "      <td>-1.290690</td>\n",
       "      <td>1.290690</td>\n",
       "      <td>1</td>\n",
       "      <td>0.035047</td>\n",
       "    </tr>\n",
       "    <tr>\n",
       "      <th>3027</th>\n",
       "      <td>puzzle</td>\n",
       "      <td>-0.744600</td>\n",
       "      <td>0.744600</td>\n",
       "      <td>1</td>\n",
       "      <td>0.034729</td>\n",
       "    </tr>\n",
       "    <tr>\n",
       "      <th>3567</th>\n",
       "      <td>tab</td>\n",
       "      <td>0.821796</td>\n",
       "      <td>0.821796</td>\n",
       "      <td>1</td>\n",
       "      <td>0.043896</td>\n",
       "    </tr>\n",
       "  </tbody>\n",
       "</table>\n",
       "</div>"
      ],
      "text/plain": [
       "     unique_words  attribution  abs_attribution  No_occurences  \\\n",
       "1090    audiences    -0.739988         0.739988              1   \n",
       "1476      convert     0.636224         0.636224              1   \n",
       "2626      mohamed     2.101387         2.101387              1   \n",
       "2809       outlaw     1.007169         1.007169              1   \n",
       "2884       peters    -0.691282         0.691282              1   \n",
       "2887          phd    -1.290690         1.290690              1   \n",
       "3027       puzzle    -0.744600         0.744600              1   \n",
       "3567          tab     0.821796         0.821796              1   \n",
       "\n",
       "      avg_attention_weigth_in_last_layers  \n",
       "1090                             0.042664  \n",
       "1476                             0.043533  \n",
       "2626                             0.071490  \n",
       "2809                             0.045908  \n",
       "2884                             0.039628  \n",
       "2887                             0.035047  \n",
       "3027                             0.034729  \n",
       "3567                             0.043896  "
      ]
     },
     "execution_count": 42,
     "metadata": {},
     "output_type": "execute_result"
    }
   ],
   "source": [
    "attribution_scores_common[attribution_scores_common[\"abs_attribution\"]>0.5]"
   ]
  },
  {
   "cell_type": "code",
   "execution_count": 43,
   "metadata": {},
   "outputs": [
    {
     "data": {
      "text/html": [
       "<div>\n",
       "<style scoped>\n",
       "    .dataframe tbody tr th:only-of-type {\n",
       "        vertical-align: middle;\n",
       "    }\n",
       "\n",
       "    .dataframe tbody tr th {\n",
       "        vertical-align: top;\n",
       "    }\n",
       "\n",
       "    .dataframe thead th {\n",
       "        text-align: right;\n",
       "    }\n",
       "</style>\n",
       "<table border=\"1\" class=\"dataframe\">\n",
       "  <thead>\n",
       "    <tr style=\"text-align: right;\">\n",
       "      <th></th>\n",
       "      <th>unique_words</th>\n",
       "      <th>attribution</th>\n",
       "      <th>abs_attribution</th>\n",
       "      <th>No_occurences</th>\n",
       "      <th>avg_attention_weigth_in_last_layers</th>\n",
       "    </tr>\n",
       "  </thead>\n",
       "  <tbody>\n",
       "    <tr>\n",
       "      <th>803</th>\n",
       "      <td>.</td>\n",
       "      <td>0.002575</td>\n",
       "      <td>0.005655</td>\n",
       "      <td>1148</td>\n",
       "      <td>55.229542</td>\n",
       "    </tr>\n",
       "  </tbody>\n",
       "</table>\n",
       "</div>"
      ],
      "text/plain": [
       "    unique_words  attribution  abs_attribution  No_occurences  \\\n",
       "803            .     0.002575         0.005655           1148   \n",
       "\n",
       "     avg_attention_weigth_in_last_layers  \n",
       "803                            55.229542  "
      ]
     },
     "execution_count": 43,
     "metadata": {},
     "output_type": "execute_result"
    }
   ],
   "source": [
    "attribution_scores_common[attribution_scores_common[\"No_occurences\"] == np.max(attribution_scores_common[\"No_occurences\"] )]"
   ]
  },
  {
   "cell_type": "code",
   "execution_count": 44,
   "metadata": {},
   "outputs": [
    {
     "data": {
      "text/plain": [
       "Text(0, 0.5, 'Average attention weigth \\n in the last 4 layers')"
      ]
     },
     "execution_count": 44,
     "metadata": {},
     "output_type": "execute_result"
    },
    {
     "data": {
      "image/png": "[encoded data removed]",
      "text/plain": [
       "<Figure size 432x288 with 1 Axes>"
      ]
     },
     "metadata": {
      "needs_background": "light"
     },
     "output_type": "display_data"
    }
   ],
   "source": [
    "plt.scatter(attribution_scores_common[\"No_occurences\"], attribution_scores_common[\"avg_attention_weigth_in_last_layers\"])\n",
    "plt.xlabel(\"Number of occurences\",fontsize=16)\n",
    "plt.ylabel(\"Average attention weigth \\n in the last 4 layers\",fontsize=16)"
   ]
  },
  {
   "cell_type": "code",
   "execution_count": 45,
   "metadata": {},
   "outputs": [
    {
     "data": {
      "text/plain": [
       "array([[<AxesSubplot:xlabel='attribution', ylabel='attribution'>,\n",
       "        <AxesSubplot:xlabel='abs_attribution', ylabel='attribution'>,\n",
       "        <AxesSubplot:xlabel='No_occurences', ylabel='attribution'>,\n",
       "        <AxesSubplot:xlabel='avg_attention_weigth_in_last_layers', ylabel='attribution'>],\n",
       "       [<AxesSubplot:xlabel='attribution', ylabel='abs_attribution'>,\n",
       "        <AxesSubplot:xlabel='abs_attribution', ylabel='abs_attribution'>,\n",
       "        <AxesSubplot:xlabel='No_occurences', ylabel='abs_attribution'>,\n",
       "        <AxesSubplot:xlabel='avg_attention_weigth_in_last_layers', ylabel='abs_attribution'>],\n",
       "       [<AxesSubplot:xlabel='attribution', ylabel='No_occurences'>,\n",
       "        <AxesSubplot:xlabel='abs_attribution', ylabel='No_occurences'>,\n",
       "        <AxesSubplot:xlabel='No_occurences', ylabel='No_occurences'>,\n",
       "        <AxesSubplot:xlabel='avg_attention_weigth_in_last_layers', ylabel='No_occurences'>],\n",
       "       [<AxesSubplot:xlabel='attribution', ylabel='avg_attention_weigth_in_last_layers'>,\n",
       "        <AxesSubplot:xlabel='abs_attribution', ylabel='avg_attention_weigth_in_last_layers'>,\n",
       "        <AxesSubplot:xlabel='No_occurences', ylabel='avg_attention_weigth_in_last_layers'>,\n",
       "        <AxesSubplot:xlabel='avg_attention_weigth_in_last_layers', ylabel='avg_attention_weigth_in_last_layers'>]],\n",
       "      dtype=object)"
      ]
     },
     "execution_count": 45,
     "metadata": {},
     "output_type": "execute_result"
    },
    {
     "data": {
      "image/png": "[encoded data removed]",
      "text/plain": [
       "<Figure size 1440x1440 with 16 Axes>"
      ]
     },
     "metadata": {
      "needs_background": "light"
     },
     "output_type": "display_data"
    }
   ],
   "source": [
    "pd.plotting.scatter_matrix(df, figsize=(20, 20),diagonal='kde')"
   ]
  },
  {
   "cell_type": "code",
   "execution_count": 82,
   "metadata": {},
   "outputs": [],
   "source": [
    "abs_attribution_correlation = np.correlate(attribution_scores_common[\"abs_attribution\"],attribution_scores_common[\"abs_attribution\"])"
   ]
  },
  {
   "cell_type": "code",
   "execution_count": 83,
   "metadata": {},
   "outputs": [],
   "source": [
    "attention_weigths_correlation = np.correlate(attribution_scores_common[\"avg_attention_weigth_in last layers\"],attribution_scores_common[\"avg_attention_weigth_in last layers\"])"
   ]
  },
  {
   "cell_type": "code",
   "execution_count": 93,
   "metadata": {},
   "outputs": [
    {
     "data": {
      "text/plain": [
       "<matplotlib.collections.PathCollection at 0x7f2199145898>"
      ]
     },
     "execution_count": 93,
     "metadata": {},
     "output_type": "execute_result"
    },
    {
     "data": {
      "image/png": "[encoded data removed]",
      "text/plain": [
       "<Figure size 432x288 with 1 Axes>"
      ]
     },
     "metadata": {},
     "output_type": "display_data"
    }
   ],
   "source": [
    "plt.scatter(attribution_scores_common[\"abs_attribution\"],\\\n",
    "           attribution_scores_common[\"avg_attention_weigth_in last layers\"])"
   ]
  },
  {
   "cell_type": "code",
   "execution_count": 94,
   "metadata": {},
   "outputs": [
    {
     "data": {
      "text/plain": [
       "array([[ 1.        , -0.00144164],\n",
       "       [-0.00144164,  1.        ]])"
      ]
     },
     "execution_count": 94,
     "metadata": {},
     "output_type": "execute_result"
    }
   ],
   "source": [
    "np.corrcoef(attribution_scores_common[\"abs_attribution\"],\\\n",
    "           attribution_scores_common[\"avg_attention_weigth_in last layers\"])"
   ]
  },
  {
   "cell_type": "code",
   "execution_count": 84,
   "metadata": {},
   "outputs": [
    {
     "data": {
      "text/plain": [
       "[<matplotlib.lines.Line2D at 0x7f219b375438>]"
      ]
     },
     "execution_count": 84,
     "metadata": {},
     "output_type": "execute_result"
    },
    {
     "data": {
      "image/png": "[encoded data removed]",
      "text/plain": [
       "<Figure size 432x288 with 1 Axes>"
      ]
     },
     "metadata": {},
     "output_type": "display_data"
    }
   ],
   "source": [
    "plt.plot(abs_attribution_correlation)\n",
    "plt.plot(attention_weigths_correlation)"
   ]
  },
  {
   "cell_type": "code",
   "execution_count": 81,
   "metadata": {},
   "outputs": [
    {
     "data": {
      "text/plain": [
       "6761"
      ]
     },
     "execution_count": 81,
     "metadata": {},
     "output_type": "execute_result"
    }
   ],
   "source": [
    "len(abs_attribution_avg_attention_weigths)"
   ]
  },
  {
   "cell_type": "code",
   "execution_count": 90,
   "metadata": {},
   "outputs": [],
   "source": [
    "attribution_avg_attention_weigths = np.correlate(attribution_scores_common[\"abs_attribution\"],attribution_scores_common[\"avg_attention_weigth_in last layers\"],\"same\")"
   ]
  },
  {
   "cell_type": "code",
   "execution_count": 91,
   "metadata": {},
   "outputs": [
    {
     "data": {
      "text/plain": [
       "[<matplotlib.lines.Line2D at 0x7f21992e3d30>]"
      ]
     },
     "execution_count": 91,
     "metadata": {},
     "output_type": "execute_result"
    },
    {
     "data": {
      "image/png": "[encoded data removed]",
      "text/plain": [
       "<Figure size 432x288 with 1 Axes>"
      ]
     },
     "metadata": {},
     "output_type": "display_data"
    }
   ],
   "source": [
    "plt.plot(abs_attribution_avg_attention_weigths)"
   ]
  },
  {
   "cell_type": "code",
   "execution_count": 78,
   "metadata": {},
   "outputs": [],
   "source": [
    "attribution_avg_attention_weigths = np.correlate(attribution_scores_common[\"attribution\"],attribution_scores_common[\"avg_attention_weigth_in last layers\"],\"full\")"
   ]
  },
  {
   "cell_type": "code",
   "execution_count": 79,
   "metadata": {},
   "outputs": [
    {
     "data": {
      "text/plain": [
       "[<matplotlib.lines.Line2D at 0x7f2198bcc2e8>]"
      ]
     },
     "execution_count": 79,
     "metadata": {},
     "output_type": "execute_result"
    },
    {
     "data": {
      "image/png": "[encoded data removed]",
      "text/plain": [
       "<Figure size 432x288 with 1 Axes>"
      ]
     },
     "metadata": {},
     "output_type": "display_data"
    }
   ],
   "source": [
    "plt.plot(attribution_avg_attention_weigths)"
   ]
  },
  {
   "cell_type": "code",
   "execution_count": null,
   "metadata": {},
   "outputs": [],
   "source": []
  }
 ],
 "metadata": {
  "kernelspec": {
   "display_name": "env",
   "language": "python",
   "name": "env"
  },
  "language_info": {
   "codemirror_mode": {
    "name": "ipython",
    "version": 3
   },
   "file_extension": ".py",
   "mimetype": "text/x-python",
   "name": "python",
   "nbconvert_exporter": "python",
   "pygments_lexer": "ipython3",
   "version": "3.6.9"
  }
 },
 "nbformat": 4,
 "nbformat_minor": 4
}
