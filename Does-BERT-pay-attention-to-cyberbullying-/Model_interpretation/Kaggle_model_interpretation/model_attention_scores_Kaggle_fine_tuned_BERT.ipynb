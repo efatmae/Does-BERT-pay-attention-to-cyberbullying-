{
 "cells": [
  {
   "cell_type": "code",
   "execution_count": 1,
   "metadata": {
    "colab": {
     "base_uri": "https://localhost:8080/",
     "height": 35
    },
    "colab_type": "code",
    "id": "aZIWpe8Fwiv2",
    "outputId": "17b38e48-ca71-4143-c4c8-35507ae73513"
   },
   "outputs": [
    {
     "name": "stderr",
     "output_type": "stream",
     "text": [
      "In /home/fatma/.local/lib/python3.6/site-packages/matplotlib/mpl-data/stylelib/_classic_test.mplstyle: \n",
      "The text.latex.preview rcparam was deprecated in Matplotlib 3.3 and will be removed two minor releases later.\n",
      "In /home/fatma/.local/lib/python3.6/site-packages/matplotlib/mpl-data/stylelib/_classic_test.mplstyle: \n",
      "The mathtext.fallback_to_cm rcparam was deprecated in Matplotlib 3.3 and will be removed two minor releases later.\n",
      "In /home/fatma/.local/lib/python3.6/site-packages/matplotlib/mpl-data/stylelib/_classic_test.mplstyle: Support for setting the 'mathtext.fallback_to_cm' rcParam is deprecated since 3.3 and will be removed two minor releases later; use 'mathtext.fallback : 'cm' instead.\n",
      "In /home/fatma/.local/lib/python3.6/site-packages/matplotlib/mpl-data/stylelib/_classic_test.mplstyle: \n",
      "The validate_bool_maybe_none function was deprecated in Matplotlib 3.3 and will be removed two minor releases later.\n",
      "In /home/fatma/.local/lib/python3.6/site-packages/matplotlib/mpl-data/stylelib/_classic_test.mplstyle: \n",
      "The savefig.jpeg_quality rcparam was deprecated in Matplotlib 3.3 and will be removed two minor releases later.\n",
      "In /home/fatma/.local/lib/python3.6/site-packages/matplotlib/mpl-data/stylelib/_classic_test.mplstyle: \n",
      "The keymap.all_axes rcparam was deprecated in Matplotlib 3.3 and will be removed two minor releases later.\n",
      "In /home/fatma/.local/lib/python3.6/site-packages/matplotlib/mpl-data/stylelib/_classic_test.mplstyle: \n",
      "The animation.avconv_path rcparam was deprecated in Matplotlib 3.3 and will be removed two minor releases later.\n",
      "In /home/fatma/.local/lib/python3.6/site-packages/matplotlib/mpl-data/stylelib/_classic_test.mplstyle: \n",
      "The animation.avconv_args rcparam was deprecated in Matplotlib 3.3 and will be removed two minor releases later.\n"
     ]
    }
   ],
   "source": [
    "import os\n",
    "import pandas as pd\n",
    "from torch.utils.data import TensorDataset, random_split\n",
    "import matplotlib.pyplot as plt\n",
    "import torch.nn.functional as nnf"
   ]
  },
  {
   "cell_type": "markdown",
   "metadata": {
    "colab_type": "text",
    "id": "YG6UvLlQKDHD"
   },
   "source": [
    "# Acculmating the attention scores of BERT with Fine tuning"
   ]
  },
  {
   "cell_type": "code",
   "execution_count": 2,
   "metadata": {
    "colab": {
     "base_uri": "https://localhost:8080/",
     "height": 35
    },
    "colab_type": "code",
    "id": "yw0A7wCuvysj",
    "outputId": "6e0774f4-22de-4c81-a248-dbde914dd6ab"
   },
   "outputs": [
    {
     "name": "stdout",
     "output_type": "stream",
     "text": [
      "There are 1 GPU(s) available.\n",
      "We will use the GPU: GeForce RTX 2080 with Max-Q Design\n"
     ]
    }
   ],
   "source": [
    "import torch\n",
    "\n",
    "# If there's a GPU available...\n",
    "if torch.cuda.is_available():    \n",
    "\n",
    "    # Tell PyTorch to use the GPU.    \n",
    "    device = torch.device(\"cuda\")\n",
    "\n",
    "    print('There are %d GPU(s) available.' % torch.cuda.device_count())\n",
    "\n",
    "    print('We will use the GPU:', torch.cuda.get_device_name(0))\n",
    "\n",
    "# If not...\n",
    "else:\n",
    "    print('No GPU available, using the CPU instead.')\n",
    "    device = torch.device(\"cpu\")"
   ]
  },
  {
   "cell_type": "code",
   "execution_count": 3,
   "metadata": {
    "colab": {
     "base_uri": "https://localhost:8080/",
     "height": 52
    },
    "colab_type": "code",
    "id": "UXRoJ27gwDZX",
    "outputId": "8679c45c-28cc-4ed7-ba48-7ca140cfc1c8"
   },
   "outputs": [
    {
     "name": "stderr",
     "output_type": "stream",
     "text": [
      "/home/fatma/.local/lib/python3.6/site-packages/tensorflow/python/framework/dtypes.py:516: FutureWarning: Passing (type, 1) or '1type' as a synonym of type is deprecated; in a future version of numpy, it will be understood as (type, (1,)) / '(1,)type'.\n",
      "  _np_qint8 = np.dtype([(\"qint8\", np.int8, 1)])\n",
      "/home/fatma/.local/lib/python3.6/site-packages/tensorflow/python/framework/dtypes.py:517: FutureWarning: Passing (type, 1) or '1type' as a synonym of type is deprecated; in a future version of numpy, it will be understood as (type, (1,)) / '(1,)type'.\n",
      "  _np_quint8 = np.dtype([(\"quint8\", np.uint8, 1)])\n",
      "/home/fatma/.local/lib/python3.6/site-packages/tensorflow/python/framework/dtypes.py:518: FutureWarning: Passing (type, 1) or '1type' as a synonym of type is deprecated; in a future version of numpy, it will be understood as (type, (1,)) / '(1,)type'.\n",
      "  _np_qint16 = np.dtype([(\"qint16\", np.int16, 1)])\n",
      "/home/fatma/.local/lib/python3.6/site-packages/tensorflow/python/framework/dtypes.py:519: FutureWarning: Passing (type, 1) or '1type' as a synonym of type is deprecated; in a future version of numpy, it will be understood as (type, (1,)) / '(1,)type'.\n",
      "  _np_quint16 = np.dtype([(\"quint16\", np.uint16, 1)])\n",
      "/home/fatma/.local/lib/python3.6/site-packages/tensorflow/python/framework/dtypes.py:520: FutureWarning: Passing (type, 1) or '1type' as a synonym of type is deprecated; in a future version of numpy, it will be understood as (type, (1,)) / '(1,)type'.\n",
      "  _np_qint32 = np.dtype([(\"qint32\", np.int32, 1)])\n",
      "/home/fatma/.local/lib/python3.6/site-packages/tensorflow/python/framework/dtypes.py:525: FutureWarning: Passing (type, 1) or '1type' as a synonym of type is deprecated; in a future version of numpy, it will be understood as (type, (1,)) / '(1,)type'.\n",
      "  np_resource = np.dtype([(\"resource\", np.ubyte, 1)])\n",
      "/home/fatma/.local/lib/python3.6/site-packages/tensorboard/compat/tensorflow_stub/dtypes.py:541: FutureWarning: Passing (type, 1) or '1type' as a synonym of type is deprecated; in a future version of numpy, it will be understood as (type, (1,)) / '(1,)type'.\n",
      "  _np_qint8 = np.dtype([(\"qint8\", np.int8, 1)])\n",
      "/home/fatma/.local/lib/python3.6/site-packages/tensorboard/compat/tensorflow_stub/dtypes.py:542: FutureWarning: Passing (type, 1) or '1type' as a synonym of type is deprecated; in a future version of numpy, it will be understood as (type, (1,)) / '(1,)type'.\n",
      "  _np_quint8 = np.dtype([(\"quint8\", np.uint8, 1)])\n",
      "/home/fatma/.local/lib/python3.6/site-packages/tensorboard/compat/tensorflow_stub/dtypes.py:543: FutureWarning: Passing (type, 1) or '1type' as a synonym of type is deprecated; in a future version of numpy, it will be understood as (type, (1,)) / '(1,)type'.\n",
      "  _np_qint16 = np.dtype([(\"qint16\", np.int16, 1)])\n",
      "/home/fatma/.local/lib/python3.6/site-packages/tensorboard/compat/tensorflow_stub/dtypes.py:544: FutureWarning: Passing (type, 1) or '1type' as a synonym of type is deprecated; in a future version of numpy, it will be understood as (type, (1,)) / '(1,)type'.\n",
      "  _np_quint16 = np.dtype([(\"quint16\", np.uint16, 1)])\n",
      "/home/fatma/.local/lib/python3.6/site-packages/tensorboard/compat/tensorflow_stub/dtypes.py:545: FutureWarning: Passing (type, 1) or '1type' as a synonym of type is deprecated; in a future version of numpy, it will be understood as (type, (1,)) / '(1,)type'.\n",
      "  _np_qint32 = np.dtype([(\"qint32\", np.int32, 1)])\n",
      "/home/fatma/.local/lib/python3.6/site-packages/tensorboard/compat/tensorflow_stub/dtypes.py:550: FutureWarning: Passing (type, 1) or '1type' as a synonym of type is deprecated; in a future version of numpy, it will be understood as (type, (1,)) / '(1,)type'.\n",
      "  np_resource = np.dtype([(\"resource\", np.ubyte, 1)])\n"
     ]
    }
   ],
   "source": [
    "from transformers import *\n",
    "from torch.utils.data import TensorDataset, random_split, SequentialSampler,DataLoader, RandomSampler\n",
    "import pandas as pd\n",
    "import numpy as np\n",
    "from collections import defaultdict\n",
    "# (logits, hidden_states, attentions)\n",
    "import seaborn as sns; sns.set()"
   ]
  },
  {
   "cell_type": "markdown",
   "metadata": {
    "colab_type": "text",
    "id": "IB8J12vBbMky"
   },
   "source": [
    "## Get attention function for a certain sentence"
   ]
  },
  {
   "cell_type": "code",
   "execution_count": 4,
   "metadata": {
    "colab": {},
    "colab_type": "code",
    "id": "vy3Hj5N0rt3f"
   },
   "outputs": [],
   "source": [
    "\n",
    "\n",
    "def get_model_attention_for_sentence(sentences,single_sentence=False, add_special_token=False):\n",
    "  # Tokenize all of the sentences and map the tokens to thier word IDs.\n",
    "  attention_weights_per_sentence = []\n",
    "  sentences_tokens = []\n",
    "  if single_sentence == True:\n",
    "    token = [tokenizer.cls_token] + tokenizer.tokenize(sentences) + [tokenizer.sep_token]\n",
    "    inputids = torch.LongTensor([tokenizer.encode(token, add_special_tokens=add_special_token)])   \n",
    "    # Add the encoded sentence to the list.    \n",
    "    outputs = model(inputids)   # Forward pass, calculate logit predictions\n",
    "    sentences_tokens.append(token)\n",
    "    attention_weights_per_sentence.append(outputs[2])\n",
    "  else:\n",
    "    # For every sentence...\n",
    "    for sent in sentences:\n",
    "        token = [tokenizer.cls_token] + tokenizer.tokenize(sent) + [tokenizer.sep_token]\n",
    "        inputids = torch.LongTensor([tokenizer.encode(token, add_special_tokens=add_special_token)])   \n",
    "        # Add the encoded sentence to the list.    \n",
    "        outputs = model(inputids)   # Forward pass, calculate logit predictions\n",
    "        sentences_tokens.append(token)\n",
    "        attention_weights_per_sentence.append(outputs[2])\n",
    "  return sentences_tokens, attention_weights_per_sentence"
   ]
  },
  {
   "cell_type": "code",
   "execution_count": 5,
   "metadata": {
    "colab": {},
    "colab_type": "code",
    "id": "DNqQKTLsMfu8"
   },
   "outputs": [],
   "source": [
    "def get_attention_map_per_word_as_df (sentences_tokenized, attention_list_per_sentence):\n",
    "  #get attention map for words in sentences\n",
    "  attention_map_per_word = defaultdict(list)\n",
    "  for token_sentence in sentences_tokenized:\n",
    "    sentence_index = sentences_tokenized.index(token_sentence)\n",
    "    #print(token_sentence)  \n",
    "    for token in token_sentence:\n",
    "      word_index = token_sentence.index(token)\n",
    "      #print(token)\n",
    "      for layer in range(0,12):\n",
    "        for head in range(0,12):\n",
    "          attention_weight_per_layer_per_head_per_word = attention_list_per_sentence[sentence_index][layer][0][head]\n",
    "          normalized_attention_weight_per_layer_per_head_per_word = torch.sum(attention_weight_per_layer_per_head_per_word,dim=0)/attention_weight_per_layer_per_head_per_word.shape[0]\n",
    "          #print(len(normalized_attention_weight_per_layer_per_head_per_word))\n",
    "          attention_map_per_word[\"word\"].append(token)\n",
    "          attention_map_per_word[\"attention_map\"].append({layer+1:{head+1:float(normalized_attention_weight_per_layer_per_head_per_word[word_index])}})\n",
    "  attention_map_per_word_df = pd.DataFrame.from_dict(attention_map_per_word, orient='index')\n",
    "  attention_map_per_word_df = attention_map_per_word_df.transpose()       \n",
    "  return attention_map_per_word_df           "
   ]
  },
  {
   "cell_type": "code",
   "execution_count": 6,
   "metadata": {
    "colab": {},
    "colab_type": "code",
    "id": "4FM3tFugCbzo"
   },
   "outputs": [],
   "source": [
    "def generate_attention_attention_layers_per_head_for_word(word,attention_map_df):\n",
    "  import ast\n",
    "  frames = []\n",
    "  #len(attention_map_df[attention_map_df[\"word\"]==word][\"attention_map\"].values)\n",
    "  for i in attention_map_df[attention_map_df[\"word\"]==word][\"attention_map\"].values:\n",
    "    frames.append(pd.DataFrame.from_dict(i, orient='index'))\n",
    "  res = pd.concat(frames)\n",
    "  res = res.fillna(0)\n",
    "  res = res.groupby(res.index).sum()\n",
    "  return res"
   ]
  },
  {
   "cell_type": "code",
   "execution_count": 7,
   "metadata": {
    "colab": {},
    "colab_type": "code",
    "id": "ywPZqaXRWe91"
   },
   "outputs": [],
   "source": [
    "def generate_attention_attention_layers_per_head_for_word(word,attention_map_df):\n",
    "  frames = []\n",
    "  #len(attention_map_df[attention_map_df[\"word\"]==word][\"attention_map\"].values)\n",
    "  for i in attention_map_df[attention_map_df[\"word\"]==word][\"attention_map\"].values:\n",
    "    frames.append(pd.DataFrame.from_dict(i, orient='index'))\n",
    "  res = pd.concat(frames)\n",
    "  res = res.fillna(0)\n",
    "  res = res.groupby(res.index).sum()\n",
    "  return res"
   ]
  },
  {
   "cell_type": "code",
   "execution_count": 8,
   "metadata": {
    "colab": {},
    "colab_type": "code",
    "id": "GtsFxByTKxgs"
   },
   "outputs": [],
   "source": [
    "def generate_attention_heat_map_for_word(word,attention_map_df):\n",
    "  frames = []\n",
    "  for i in attention_map_df[attention_map_df[\"word\"]==word][\"attention_map\"].values:\n",
    "    frames.append(pd.DataFrame.from_dict(i, orient='index'))\n",
    "  res = pd.concat(frames)\n",
    "  res = res.fillna(0)\n",
    "  res = res.groupby(res.index).sum()\n",
    "  ax = sns.heatmap(res, cbar=True)\n",
    "  ax.set(xlabel='head', ylabel='layer')\n",
    "  ax.set_title(\"word '\"+str(word)+\"'\")\n",
    "  ax.invert_yaxis()"
   ]
  },
  {
   "cell_type": "code",
   "execution_count": 9,
   "metadata": {
    "colab": {},
    "colab_type": "code",
    "id": "x0Z9o_J0UbV_"
   },
   "outputs": [],
   "source": [
    "def generate_attention_layer_avg_line_plot_for_word(word,attention_map_df):\n",
    "  import seaborn as sns; sns.set()\n",
    "  frames = []\n",
    "  for i in attention_map_df[attention_map_df[\"word\"]==word][\"attention_map\"].values:\n",
    "    frames.append(pd.DataFrame.from_dict(i, orient='index'))\n",
    "  res = pd.concat(frames)\n",
    "  df = res.fillna(0)\n",
    "  res = res.groupby(res.index).sum()\n",
    "  avg_head_res = res.sum(axis=1).values\n",
    "  layers = res.index.values\n",
    "  plt.title(\"word '\"+str(word)+\"'\")\n",
    "  plt.xticks(np.arange(12))\n",
    "  plt.xlabel(\"layers\")\n",
    "  plt.ylabel(\"avg. attention weight\")\n",
    "  #print(avg_head_res)\n",
    "  plt.plot(layers,avg_head_res)\n",
    "  plt.grid(False)\n",
    "  plt.show()\n",
    "  #ax = sns.lmplot(\"x\",\"y\",data=res)\n",
    "  #ax.set(xlabel='head', ylabel='layer')\n",
    "  #ax=sns.catplot(kind=\"swarm\",x=res.index,y=res.values)\n",
    "  #ax.invert_yaxis()"
   ]
  },
  {
   "cell_type": "markdown",
   "metadata": {
    "colab_type": "text",
    "id": "l68tkliVYSCa"
   },
   "source": [
    "## Read Data"
   ]
  },
  {
   "cell_type": "code",
   "execution_count": 10,
   "metadata": {
    "colab": {},
    "colab_type": "code",
    "id": "f6gW1TBpwYqh"
   },
   "outputs": [],
   "source": [
    "import torch\n",
    "#output_dir = 'bert-base-uncased'\n",
    "output_dir = \"../../trained_models/BERT-Fine-Tuned/Pytorch/Fine_Tune_Kaggle_clean_text128/\"\n",
    "\n",
    "config = BertConfig.from_pretrained(output_dir, output_hidden_states=True, output_attentions=True)\n",
    "tokenizer = BertTokenizer.from_pretrained(output_dir, do_lower_case=True)\n",
    "\n",
    "model = BertForSequenceClassification.from_pretrained(output_dir, config=config)"
   ]
  },
  {
   "cell_type": "code",
   "execution_count": 11,
   "metadata": {
    "colab": {},
    "colab_type": "code",
    "id": "vgZeUue29jb_"
   },
   "outputs": [],
   "source": [
    "# Load the dataset into a pandas dataframe.\n",
    "data_test = pd.read_csv(\"../../Data/Kaggle/kaggle_data_test.csv)\n",
    "data_test = data_test.dropna()"
   ]
  },
  {
   "cell_type": "code",
   "execution_count": null,
   "metadata": {
    "colab": {},
    "colab_type": "code",
    "id": "yDvi4DI8xiP9"
   },
   "outputs": [],
   "source": [
    "sentences_lst_tn = data_test.sample(1000).Text_clean.values\n",
    "sentences_tokenized_lst_tn, attention_list_per_sentence_lst_tn = get_model_attention_for_sentence(sentences_lst_tn)\n",
    "attention_map_per_word_lst_tn_df = get_attention_map_per_word_as_df(sentences_tokenized_lst_tn, attention_list_per_sentence_lst_tn )"
   ]
  },
  {
   "cell_type": "code",
   "execution_count": null,
   "metadata": {
    "colab": {},
    "colab_type": "code",
    "id": "rdaZLB2b7xaV"
   },
   "outputs": [],
   "source": [
    "attention_map_per_word_lst_tn_df.to_csv(\"attention_maps/bert_with_fine_tuning/Kaggle_BERT_Fine_Tuning_1000_data_attetnion_weights\"\")"
   ]
  },
  {
   "cell_type": "code",
   "execution_count": null,
   "metadata": {
    "colab": {},
    "colab_type": "code",
    "id": "hDBjsWJmzi2m"
   },
   "outputs": [],
   "source": []
  }
 ],
 "metadata": {
  "colab": {
   "collapsed_sections": [
    "IB8J12vBbMky",
    "aEy3d5XfwBdi",
    "VXMC-pHPzuvl",
    "4Qqc8qyExeWd"
   ],
   "name": "model_attention_scores_Twitter_sexism_fine_tuned_BERT",
   "provenance": []
  },
  "kernelspec": {
   "display_name": "env",
   "language": "python",
   "name": "env"
  },
  "language_info": {
   "codemirror_mode": {
    "name": "ipython",
    "version": 3
   },
   "file_extension": ".py",
   "mimetype": "text/x-python",
   "name": "python",
   "nbconvert_exporter": "python",
   "pygments_lexer": "ipython3",
   "version": "3.6.9"
  }
 },
 "nbformat": 4,
 "nbformat_minor": 1
}
