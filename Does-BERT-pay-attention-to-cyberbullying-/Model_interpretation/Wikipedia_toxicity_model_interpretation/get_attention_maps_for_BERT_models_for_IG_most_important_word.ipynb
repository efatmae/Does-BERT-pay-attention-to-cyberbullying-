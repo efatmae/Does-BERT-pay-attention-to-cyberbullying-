{
 "cells": [
  {
   "cell_type": "code",
   "execution_count": 1,
   "metadata": {},
   "outputs": [
    {
     "name": "stderr",
     "output_type": "stream",
     "text": [
      "In /home/fatma/.local/lib/python3.6/site-packages/matplotlib/mpl-data/stylelib/_classic_test.mplstyle: \n",
      "The text.latex.preview rcparam was deprecated in Matplotlib 3.3 and will be removed two minor releases later.\n",
      "In /home/fatma/.local/lib/python3.6/site-packages/matplotlib/mpl-data/stylelib/_classic_test.mplstyle: \n",
      "The mathtext.fallback_to_cm rcparam was deprecated in Matplotlib 3.3 and will be removed two minor releases later.\n",
      "In /home/fatma/.local/lib/python3.6/site-packages/matplotlib/mpl-data/stylelib/_classic_test.mplstyle: Support for setting the 'mathtext.fallback_to_cm' rcParam is deprecated since 3.3 and will be removed two minor releases later; use 'mathtext.fallback : 'cm' instead.\n",
      "In /home/fatma/.local/lib/python3.6/site-packages/matplotlib/mpl-data/stylelib/_classic_test.mplstyle: \n",
      "The validate_bool_maybe_none function was deprecated in Matplotlib 3.3 and will be removed two minor releases later.\n",
      "In /home/fatma/.local/lib/python3.6/site-packages/matplotlib/mpl-data/stylelib/_classic_test.mplstyle: \n",
      "The savefig.jpeg_quality rcparam was deprecated in Matplotlib 3.3 and will be removed two minor releases later.\n",
      "In /home/fatma/.local/lib/python3.6/site-packages/matplotlib/mpl-data/stylelib/_classic_test.mplstyle: \n",
      "The keymap.all_axes rcparam was deprecated in Matplotlib 3.3 and will be removed two minor releases later.\n",
      "In /home/fatma/.local/lib/python3.6/site-packages/matplotlib/mpl-data/stylelib/_classic_test.mplstyle: \n",
      "The animation.avconv_path rcparam was deprecated in Matplotlib 3.3 and will be removed two minor releases later.\n",
      "In /home/fatma/.local/lib/python3.6/site-packages/matplotlib/mpl-data/stylelib/_classic_test.mplstyle: \n",
      "The animation.avconv_args rcparam was deprecated in Matplotlib 3.3 and will be removed two minor releases later.\n",
      "/home/fatma/.local/lib/python3.6/site-packages/tensorflow/python/framework/dtypes.py:516: FutureWarning: Passing (type, 1) or '1type' as a synonym of type is deprecated; in a future version of numpy, it will be understood as (type, (1,)) / '(1,)type'.\n",
      "  _np_qint8 = np.dtype([(\"qint8\", np.int8, 1)])\n",
      "/home/fatma/.local/lib/python3.6/site-packages/tensorflow/python/framework/dtypes.py:517: FutureWarning: Passing (type, 1) or '1type' as a synonym of type is deprecated; in a future version of numpy, it will be understood as (type, (1,)) / '(1,)type'.\n",
      "  _np_quint8 = np.dtype([(\"quint8\", np.uint8, 1)])\n",
      "/home/fatma/.local/lib/python3.6/site-packages/tensorflow/python/framework/dtypes.py:518: FutureWarning: Passing (type, 1) or '1type' as a synonym of type is deprecated; in a future version of numpy, it will be understood as (type, (1,)) / '(1,)type'.\n",
      "  _np_qint16 = np.dtype([(\"qint16\", np.int16, 1)])\n",
      "/home/fatma/.local/lib/python3.6/site-packages/tensorflow/python/framework/dtypes.py:519: FutureWarning: Passing (type, 1) or '1type' as a synonym of type is deprecated; in a future version of numpy, it will be understood as (type, (1,)) / '(1,)type'.\n",
      "  _np_quint16 = np.dtype([(\"quint16\", np.uint16, 1)])\n",
      "/home/fatma/.local/lib/python3.6/site-packages/tensorflow/python/framework/dtypes.py:520: FutureWarning: Passing (type, 1) or '1type' as a synonym of type is deprecated; in a future version of numpy, it will be understood as (type, (1,)) / '(1,)type'.\n",
      "  _np_qint32 = np.dtype([(\"qint32\", np.int32, 1)])\n",
      "/home/fatma/.local/lib/python3.6/site-packages/tensorflow/python/framework/dtypes.py:525: FutureWarning: Passing (type, 1) or '1type' as a synonym of type is deprecated; in a future version of numpy, it will be understood as (type, (1,)) / '(1,)type'.\n",
      "  np_resource = np.dtype([(\"resource\", np.ubyte, 1)])\n",
      "/home/fatma/.local/lib/python3.6/site-packages/tensorboard/compat/tensorflow_stub/dtypes.py:541: FutureWarning: Passing (type, 1) or '1type' as a synonym of type is deprecated; in a future version of numpy, it will be understood as (type, (1,)) / '(1,)type'.\n",
      "  _np_qint8 = np.dtype([(\"qint8\", np.int8, 1)])\n",
      "/home/fatma/.local/lib/python3.6/site-packages/tensorboard/compat/tensorflow_stub/dtypes.py:542: FutureWarning: Passing (type, 1) or '1type' as a synonym of type is deprecated; in a future version of numpy, it will be understood as (type, (1,)) / '(1,)type'.\n",
      "  _np_quint8 = np.dtype([(\"quint8\", np.uint8, 1)])\n",
      "/home/fatma/.local/lib/python3.6/site-packages/tensorboard/compat/tensorflow_stub/dtypes.py:543: FutureWarning: Passing (type, 1) or '1type' as a synonym of type is deprecated; in a future version of numpy, it will be understood as (type, (1,)) / '(1,)type'.\n",
      "  _np_qint16 = np.dtype([(\"qint16\", np.int16, 1)])\n",
      "/home/fatma/.local/lib/python3.6/site-packages/tensorboard/compat/tensorflow_stub/dtypes.py:544: FutureWarning: Passing (type, 1) or '1type' as a synonym of type is deprecated; in a future version of numpy, it will be understood as (type, (1,)) / '(1,)type'.\n",
      "  _np_quint16 = np.dtype([(\"quint16\", np.uint16, 1)])\n",
      "/home/fatma/.local/lib/python3.6/site-packages/tensorboard/compat/tensorflow_stub/dtypes.py:545: FutureWarning: Passing (type, 1) or '1type' as a synonym of type is deprecated; in a future version of numpy, it will be understood as (type, (1,)) / '(1,)type'.\n",
      "  _np_qint32 = np.dtype([(\"qint32\", np.int32, 1)])\n",
      "/home/fatma/.local/lib/python3.6/site-packages/tensorboard/compat/tensorflow_stub/dtypes.py:550: FutureWarning: Passing (type, 1) or '1type' as a synonym of type is deprecated; in a future version of numpy, it will be understood as (type, (1,)) / '(1,)type'.\n",
      "  np_resource = np.dtype([(\"resource\", np.ubyte, 1)])\n"
     ]
    }
   ],
   "source": [
    "import os\n",
    "import pandas as pd\n",
    "import matplotlib.pyplot as plt\n",
    "import torch.nn.functional as nnf\n",
    "from sklearn.feature_extraction.text import TfidfVectorizer\n",
    "from sklearn.naive_bayes import MultinomialNB\n",
    "import numpy as np\n",
    "from collections import defaultdict\n",
    "from transformers import *\n",
    "\n",
    "# (logits, hidden_states, attentions)\n",
    "import seaborn as sns; sns.set()"
   ]
  },
  {
   "cell_type": "code",
   "execution_count": 2,
   "metadata": {},
   "outputs": [
    {
     "name": "stdout",
     "output_type": "stream",
     "text": [
      "There are 1 GPU(s) available.\n",
      "We will use the GPU: GeForce RTX 2080 with Max-Q Design\n"
     ]
    }
   ],
   "source": [
    "import torch\n",
    "\n",
    "# If there's a GPU available...\n",
    "if torch.cuda.is_available():    \n",
    "\n",
    "    # Tell PyTorch to use the GPU.    \n",
    "    device = torch.device(\"cuda\")\n",
    "\n",
    "    print('There are %d GPU(s) available.' % torch.cuda.device_count())\n",
    "\n",
    "    print('We will use the GPU:', torch.cuda.get_device_name(0))\n",
    "\n",
    "# If not...\n",
    "else:\n",
    "    print('No GPU available, using the CPU instead.')\n",
    "    device = torch.device(\"cpu\")"
   ]
  },
  {
   "cell_type": "code",
   "execution_count": 3,
   "metadata": {},
   "outputs": [],
   "source": [
    "def get_model_attention_for_sentence(model, tokenizer,sentences,single_sentence=False, add_special_token=False):\n",
    "  # Tokenize all of the sentences and map the tokens to thier word IDs.\n",
    "  attention_weights_per_sentence = []\n",
    "  sentences_tokens = []\n",
    "  if single_sentence == True:\n",
    "    token = [tokenizer.cls_token] + tokenizer.tokenize(sentences) + [tokenizer.sep_token]\n",
    "    inputids = torch.LongTensor([tokenizer.encode(token, add_special_tokens=add_special_token)])   \n",
    "    # Add the encoded sentence to the list.    \n",
    "    outputs = model(inputids)   # Forward pass, calculate logit predictions\n",
    "    sentences_tokens.append(token)\n",
    "    attention_weights_per_sentence.append(outputs[2])\n",
    "  else:\n",
    "    # For every sentence...\n",
    "    for sent in sentences:\n",
    "        token = [tokenizer.cls_token] + tokenizer.tokenize(sent) + [tokenizer.sep_token]\n",
    "        inputids = torch.LongTensor([tokenizer.encode(token, add_special_tokens=add_special_token)])   \n",
    "        # Add the encoded sentence to the list.    \n",
    "        outputs = model(inputids)   # Forward pass, calculate logit predictions\n",
    "        sentences_tokens.append(token)\n",
    "        attention_weights_per_sentence.append(outputs[2])\n",
    "  return sentences_tokens, attention_weights_per_sentence"
   ]
  },
  {
   "cell_type": "code",
   "execution_count": 4,
   "metadata": {},
   "outputs": [],
   "source": [
    "def get_attention_map_per_word_as_df (sentences_tokenized, attention_list_per_sentence):\n",
    "  #get attention map for words in sentences\n",
    "  attention_map_per_word = defaultdict(list)\n",
    "  for token_sentence in sentences_tokenized:\n",
    "    sentence_index = sentences_tokenized.index(token_sentence)\n",
    "    #print(token_sentence)  \n",
    "    for token in token_sentence:\n",
    "      word_index = token_sentence.index(token)\n",
    "      #print(token)\n",
    "      for layer in range(0,12):\n",
    "        for head in range(0,12):\n",
    "          attention_weight_per_layer_per_head_per_word = attention_list_per_sentence[sentence_index][layer][0][head]\n",
    "          normalized_attention_weight_per_layer_per_head_per_word = torch.sum(attention_weight_per_layer_per_head_per_word,dim=0)/attention_weight_per_layer_per_head_per_word.shape[0]\n",
    "          #print(len(normalized_attention_weight_per_layer_per_head_per_word))\n",
    "          attention_map_per_word[\"word\"].append(token)\n",
    "          attention_map_per_word[\"attention_map\"].append({layer+1:{head+1:float(normalized_attention_weight_per_layer_per_head_per_word[word_index])}})\n",
    "  attention_map_per_word_df = pd.DataFrame.from_dict(attention_map_per_word, orient='index')\n",
    "  attention_map_per_word_df = attention_map_per_word_df.transpose()       \n",
    "  return attention_map_per_word_df           "
   ]
  },
  {
   "cell_type": "code",
   "execution_count": 5,
   "metadata": {},
   "outputs": [],
   "source": [
    "def generate_attention_attention_layers_per_head_for_word(word,attention_map_df):\n",
    "  import ast\n",
    "  frames = []\n",
    "  #len(attention_map_df[attention_map_df[\"word\"]==word][\"attention_map\"].values)\n",
    "  for i in attention_map_df[attention_map_df[\"word\"]==word][\"attention_map\"].values:\n",
    "    frames.append(pd.DataFrame.from_dict(i, orient='index'))\n",
    "  res = pd.concat(frames)\n",
    "  res = res.fillna(0)\n",
    "  res = res.groupby(res.index).mean()\n",
    "  return res\n",
    "def generate_attention_attention_layers_per_head_for_word(word,attention_map_df):\n",
    "  frames = []\n",
    "  #len(attention_map_df[attention_map_df[\"word\"]==word][\"attention_map\"].values)\n",
    "  for i in attention_map_df[attention_map_df[\"word\"]==word][\"attention_map\"].values:\n",
    "    frames.append(pd.DataFrame.from_dict(i, orient='index'))\n",
    "  res = pd.concat(frames)\n",
    "  res = res.fillna(0)\n",
    "  res = res.groupby(res.index).mean()\n",
    "  return res\n",
    "def generate_attention_heat_map_for_word(word,attention_map_df):\n",
    "  frames = []\n",
    "  for i in attention_map_df[attention_map_df[\"word\"]==word][\"attention_map\"].values:\n",
    "    frames.append(pd.DataFrame.from_dict(i, orient='index'))\n",
    "  res = pd.concat(frames)\n",
    "  res = res.fillna(0)\n",
    "  res = res.groupby(res.index).mean()\n",
    "  ax = sns.heatmap(res, cbar=True)\n",
    "  ax.set(xlabel='head', ylabel='layer')\n",
    "  ax.set_title(\"word '\"+str(word)+\"'\")\n",
    "  ax.invert_yaxis()\n"
   ]
  },
  {
   "cell_type": "code",
   "execution_count": 6,
   "metadata": {},
   "outputs": [],
   "source": [
    "def generate_attention_layer_avg_line_plot_for_word(word,attention_map_df):\n",
    "  import seaborn as sns; sns.set()\n",
    "  frames = []\n",
    "  for i in attention_map_df[attention_map_df[\"word\"]==word][\"attention_map\"].values:\n",
    "    frames.append(pd.DataFrame.from_dict(i, orient='index'))\n",
    "  res = pd.concat(frames)\n",
    "  df = res.fillna(0)\n",
    "  res = res.groupby(res.index).mean()\n",
    "  avg_head_res = res.mean(axis=1).values\n",
    "  layers = res.index.values\n",
    "  plt.title(\"word '\"+str(word)+\"'\")\n",
    "  plt.xticks(np.arange(12))\n",
    "  plt.xlabel(\"layers\")\n",
    "  plt.ylabel(\"avg. attention weight\")\n",
    "  #print(avg_head_res)\n",
    "  plt.plot(layers,avg_head_res)\n",
    "  plt.grid(False)\n",
    "  plt.show()\n",
    "  #ax = sns.lmplot(\"x\",\"y\",data=res)\n",
    "  #ax.set(xlabel='head', ylabel='layer')\n",
    "  #ax=sns.catplot(kind=\"swarm\",x=res.index,y=res.values)\n",
    "  #ax.invert_yaxis()"
   ]
  },
  {
   "cell_type": "markdown",
   "metadata": {},
   "source": [
    "## Rad Data"
   ]
  },
  {
   "cell_type": "code",
   "execution_count": 7,
   "metadata": {},
   "outputs": [],
   "source": [
    "#output_dir = 'bert-base-uncased'\n",
    "output_dir = \"../../trained_models/BERT-Fine-Tuned/Pytorch/Fine_Tune_wtp_tox_clean_text128/\"\n",
    "\n",
    "config = BertConfig.from_pretrained(output_dir, output_hidden_states=True, output_attentions=True)\n",
    "tokenizer = BertTokenizer.from_pretrained(output_dir, do_lower_case=True)\n",
    "\n",
    "FT_model = BertForSequenceClassification.from_pretrained(output_dir, config=config)\n"
   ]
  },
  {
   "cell_type": "code",
   "execution_count": 8,
   "metadata": {},
   "outputs": [],
   "source": [
    "#output_dir = 'bert-base-uncased'\n",
    "NFT_model_dir = \"../../trained_models/bert-base-uncased/\"\n",
    "\n",
    "NFT_config = BertConfig.from_pretrained(NFT_model_dir, output_hidden_states=True, output_attentions=True)\n",
    "NFT_tokenizer = BertTokenizer.from_pretrained(NFT_model_dir, do_lower_case=True)\n",
    "\n",
    "NFT_model = BertForSequenceClassification.from_pretrained(NFT_model_dir, config=NFT_config)"
   ]
  },
  {
   "cell_type": "code",
   "execution_count": 9,
   "metadata": {},
   "outputs": [],
   "source": [
    "train_df = pd.read_csv(\"../../../Data/wikipedia_toxicity/wp_tox_data_train.csv)\n",
    "test_df = pd.read_csv(\"../../../Data/wikipedia_toxicity/wp_tox_data_test.csv)\n"
   ]
  },
  {
   "cell_type": "markdown",
   "metadata": {},
   "source": [
    "## important words for pos class"
   ]
  },
  {
   "cell_type": "code",
   "execution_count": 13,
   "metadata": {},
   "outputs": [],
   "source": [
    "important_pos_words = [\"pussy\", \"sucks\", \"bastards\", \"sigh\", \"stalin\"]"
   ]
  },
  {
   "cell_type": "code",
   "execution_count": 14,
   "metadata": {},
   "outputs": [],
   "source": [
    "data_text_contain_pos_words = []\n",
    "for i in important_pos_words:\n",
    "  data_text_contain_pos_words.append(test_df[test_df.Text_clean_for_BERT.str.contains(i)])\n",
    "data_text_contain_pos_words = pd.concat(data_text_contain_pos_words)  \n",
    "data_text_contain_pos_words = data_text_contain_pos_words.dropna()"
   ]
  },
  {
   "cell_type": "code",
   "execution_count": 15,
   "metadata": {},
   "outputs": [
    {
     "data": {
      "text/plain": [
       "93"
      ]
     },
     "execution_count": 15,
     "metadata": {},
     "output_type": "execute_result"
    }
   ],
   "source": [
    "len(data_text_contain_pos_words)"
   ]
  },
  {
   "cell_type": "code",
   "execution_count": 17,
   "metadata": {},
   "outputs": [],
   "source": [
    "sentences = data_text_contain_pos_words.Text_clean_for_BERT.values"
   ]
  },
  {
   "cell_type": "code",
   "execution_count": null,
   "metadata": {},
   "outputs": [],
   "source": [
    "sentences = [\" \".join(i.split(\" \")[:128]) for i in sentences]"
   ]
  },
  {
   "cell_type": "markdown",
   "metadata": {},
   "source": [
    "## get attention weights of most important words + fine_tned_bert"
   ]
  },
  {
   "cell_type": "code",
   "execution_count": 18,
   "metadata": {},
   "outputs": [],
   "source": [
    "FT_BERT_sentences_tokenized, FT_BERT_attention_list_per_sentence = get_model_attention_for_sentence(FT_model, tokenizer, sentences)\n",
    "FT_BERT_attention_map_per_word_df = get_attention_map_per_word_as_df(FT_BERT_sentences_tokenized, FT_BERT_attention_list_per_sentence )"
   ]
  },
  {
   "cell_type": "code",
   "execution_count": 19,
   "metadata": {},
   "outputs": [],
   "source": [
    "FT_BERT_attention_map_per_word_df.to_csv(\"attention_maps/bert_with_fine_tuning/Twitter_sexism_BERT_Fine_Tuning_most_pos_words_attetnion_weights_IG\")"
   ]
  },
  {
   "cell_type": "markdown",
   "metadata": {},
   "source": [
    "## get attention weights of most important words + non_fine_tned_bert"
   ]
  },
  {
   "cell_type": "code",
   "execution_count": 20,
   "metadata": {},
   "outputs": [],
   "source": [
    "NFT_BERT_sentences_tokenized, NFT_BERT_attention_list_per_sentence = get_model_attention_for_sentence(NFT_model, NFT_tokenizer, sentences)\n",
    "NFT_BERT_attention_map_per_word_df = get_attention_map_per_word_as_df(NFT_BERT_sentences_tokenized, NFT_BERT_attention_list_per_sentence )"
   ]
  },
  {
   "cell_type": "code",
   "execution_count": 21,
   "metadata": {},
   "outputs": [],
   "source": [
    "NFT_BERT_attention_map_per_word_df.to_csv(\"attention_maps/bert_without_fine_tuning/Twitter_sexism_without_Fine_tuning_most_pos_words_attetnion_weights_IG\")"
   ]
  },
  {
   "cell_type": "markdown",
   "metadata": {},
   "source": [
    "## important words for negative class"
   ]
  },
  {
   "cell_type": "code",
   "execution_count": 22,
   "metadata": {},
   "outputs": [],
   "source": [
    "important_neg_words = ['interactions', 'bully', 'divorce', 'genuine', 'atrocities']"
   ]
  },
  {
   "cell_type": "code",
   "execution_count": 23,
   "metadata": {},
   "outputs": [],
   "source": [
    "data_text_contain_neg_words = []\n",
    "for i in important_neg_words:\n",
    "  data_text_contain_neg_words.append(test_df[test_df.Text_clean_for_BERT.str.contains(i)])\n",
    "data_text_contain_neg_words = pd.concat(data_text_contain_neg_words)  \n",
    "data_text_contain_neg_words = data_text_contain_neg_words.dropna()"
   ]
  },
  {
   "cell_type": "code",
   "execution_count": 24,
   "metadata": {},
   "outputs": [
    {
     "data": {
      "text/plain": [
       "13"
      ]
     },
     "execution_count": 24,
     "metadata": {},
     "output_type": "execute_result"
    }
   ],
   "source": [
    "len(data_text_contain_neg_words)"
   ]
  },
  {
   "cell_type": "code",
   "execution_count": 25,
   "metadata": {},
   "outputs": [],
   "source": [
    "sentences_neg = data_text_contain_neg_words.Text_clean_for_BERT.values"
   ]
  },
  {
   "cell_type": "code",
   "execution_count": null,
   "metadata": {},
   "outputs": [],
   "source": [
    "sentences_neg = [\" \".join(i.split(\" \")[:128]) for i in sentences_neg]"
   ]
  },
  {
   "cell_type": "markdown",
   "metadata": {},
   "source": [
    "## get attention weights of fine-tuned-bert for important neg words"
   ]
  },
  {
   "cell_type": "code",
   "execution_count": 26,
   "metadata": {},
   "outputs": [],
   "source": [
    "FT_BERT_sentences_tokenized, FT_BERT_attention_list_per_sentence = get_model_attention_for_sentence(FT_model, tokenizer, sentences_neg)\n",
    "FT_BERT_attention_map_per_word_df = get_attention_map_per_word_as_df(FT_BERT_sentences_tokenized, FT_BERT_attention_list_per_sentence )"
   ]
  },
  {
   "cell_type": "code",
   "execution_count": 27,
   "metadata": {},
   "outputs": [],
   "source": [
    "FT_BERT_attention_map_per_word_df.to_csv(\"attention_maps/bert_with_fine_tuning/Twitter_sexism_BERT_Fine_Tuning_most_neg_words_attetnion_weights_IG\")"
   ]
  },
  {
   "cell_type": "markdown",
   "metadata": {},
   "source": [
    "## get attention weight of BERT without fine-tuning  negative words"
   ]
  },
  {
   "cell_type": "code",
   "execution_count": 28,
   "metadata": {},
   "outputs": [],
   "source": [
    "NFT_BERT_sentences_tokenized, NFT_BERT_attention_list_per_sentence = get_model_attention_for_sentence(NFT_model, NFT_tokenizer, sentences_neg)\n",
    "NFT_BERT_attention_map_per_word_df = get_attention_map_per_word_as_df(NFT_BERT_sentences_tokenized, NFT_BERT_attention_list_per_sentence )"
   ]
  },
  {
   "cell_type": "code",
   "execution_count": 29,
   "metadata": {},
   "outputs": [],
   "source": [
    "NFT_BERT_attention_map_per_word_df.to_csv(\"attention_maps/bert_without_fine_tuning/Twitter_sexism_without_Fine_tuning_most_neg_words_attetnion_weights_IG\")"
   ]
  },
  {
   "cell_type": "code",
   "execution_count": null,
   "metadata": {},
   "outputs": [],
   "source": []
  }
 ],
 "metadata": {
  "kernelspec": {
   "display_name": "env",
   "language": "python",
   "name": "env"
  },
  "language_info": {
   "codemirror_mode": {
    "name": "ipython",
    "version": 3
   },
   "file_extension": ".py",
   "mimetype": "text/x-python",
   "name": "python",
   "nbconvert_exporter": "python",
   "pygments_lexer": "ipython3",
   "version": "3.6.9"
  }
 },
 "nbformat": 4,
 "nbformat_minor": 4
}
