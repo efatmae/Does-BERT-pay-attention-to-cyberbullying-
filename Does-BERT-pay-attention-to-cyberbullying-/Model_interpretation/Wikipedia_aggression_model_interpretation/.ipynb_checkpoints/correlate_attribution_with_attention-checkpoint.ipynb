{
 "cells": [
  {
   "cell_type": "code",
   "execution_count": 1,
   "metadata": {},
   "outputs": [
    {
     "name": "stderr",
     "output_type": "stream",
     "text": [
      "In /home/fatma/.local/lib/python3.6/site-packages/matplotlib/mpl-data/stylelib/_classic_test.mplstyle: \n",
      "The text.latex.preview rcparam was deprecated in Matplotlib 3.3 and will be removed two minor releases later.\n",
      "In /home/fatma/.local/lib/python3.6/site-packages/matplotlib/mpl-data/stylelib/_classic_test.mplstyle: \n",
      "The mathtext.fallback_to_cm rcparam was deprecated in Matplotlib 3.3 and will be removed two minor releases later.\n",
      "In /home/fatma/.local/lib/python3.6/site-packages/matplotlib/mpl-data/stylelib/_classic_test.mplstyle: Support for setting the 'mathtext.fallback_to_cm' rcParam is deprecated since 3.3 and will be removed two minor releases later; use 'mathtext.fallback : 'cm' instead.\n",
      "In /home/fatma/.local/lib/python3.6/site-packages/matplotlib/mpl-data/stylelib/_classic_test.mplstyle: \n",
      "The validate_bool_maybe_none function was deprecated in Matplotlib 3.3 and will be removed two minor releases later.\n",
      "In /home/fatma/.local/lib/python3.6/site-packages/matplotlib/mpl-data/stylelib/_classic_test.mplstyle: \n",
      "The savefig.jpeg_quality rcparam was deprecated in Matplotlib 3.3 and will be removed two minor releases later.\n",
      "In /home/fatma/.local/lib/python3.6/site-packages/matplotlib/mpl-data/stylelib/_classic_test.mplstyle: \n",
      "The keymap.all_axes rcparam was deprecated in Matplotlib 3.3 and will be removed two minor releases later.\n",
      "In /home/fatma/.local/lib/python3.6/site-packages/matplotlib/mpl-data/stylelib/_classic_test.mplstyle: \n",
      "The animation.avconv_path rcparam was deprecated in Matplotlib 3.3 and will be removed two minor releases later.\n",
      "In /home/fatma/.local/lib/python3.6/site-packages/matplotlib/mpl-data/stylelib/_classic_test.mplstyle: \n",
      "The animation.avconv_args rcparam was deprecated in Matplotlib 3.3 and will be removed two minor releases later.\n"
     ]
    }
   ],
   "source": [
    "import pandas as pd\n",
    "import numpy as np\n",
    "import matplotlib.pyplot as plt"
   ]
  },
  {
   "cell_type": "code",
   "execution_count": 2,
   "metadata": {},
   "outputs": [],
   "source": [
    "attribution_scores = pd.read_csv(\"attribution_scores/bert_with_fine_tuning/wikipedia_aggression_1000_data_fine_tuned_bert_attribution_scores.csv\")"
   ]
  },
  {
   "cell_type": "code",
   "execution_count": 3,
   "metadata": {},
   "outputs": [],
   "source": [
    "attenion_weigths = pd.read_csv(\"attention_maps/bert_with_fine_tuning/attention_weights_for_1000_data.csv\")"
   ]
  },
  {
   "cell_type": "code",
   "execution_count": 4,
   "metadata": {},
   "outputs": [],
   "source": [
    "attribution_scores[\"abs_attribution\"] = [np.absolute(i) for i in attribution_scores.attribution]"
   ]
  },
  {
   "cell_type": "code",
   "execution_count": 5,
   "metadata": {},
   "outputs": [],
   "source": [
    "word_attribution_grp = attribution_scores.groupby(attribution_scores[\"words\"])"
   ]
  },
  {
   "cell_type": "code",
   "execution_count": 6,
   "metadata": {},
   "outputs": [],
   "source": [
    "import numpy as np\n",
    "\n",
    "unique_words = []\n",
    "avg_attribution = []\n",
    "avg_abs_attribution = []\n",
    "no_occurances = []\n",
    "for name,grp in word_attribution_grp:\n",
    "    unique_words.append(name)\n",
    "    avg_attribution.append(np.mean(grp[\"attribution\"]))\n",
    "    avg_abs_attribution.append(np.mean(grp[\"abs_attribution\"]))\n",
    "    no_occurances.append(len(grp[\"attribution\"]))"
   ]
  },
  {
   "cell_type": "code",
   "execution_count": 7,
   "metadata": {},
   "outputs": [],
   "source": [
    "word_attribution_unique = {}\n",
    "word_attribution_unique[\"unique_words\"] = unique_words\n",
    "word_attribution_unique[\"attribution\"] = avg_attribution\n",
    "word_attribution_unique[\"abs_attribution\"] = avg_abs_attribution\n",
    "word_attribution_unique[\"No_occurences\"] = no_occurances"
   ]
  },
  {
   "cell_type": "code",
   "execution_count": 8,
   "metadata": {},
   "outputs": [],
   "source": [
    "word_attribution_unique_df = pd.DataFrame.from_dict(word_attribution_unique)"
   ]
  },
  {
   "cell_type": "code",
   "execution_count": 9,
   "metadata": {},
   "outputs": [
    {
     "data": {
      "text/plain": [
       "5893"
      ]
     },
     "execution_count": 9,
     "metadata": {},
     "output_type": "execute_result"
    }
   ],
   "source": [
    "len(word_attribution_unique_df)"
   ]
  },
  {
   "cell_type": "code",
   "execution_count": 10,
   "metadata": {},
   "outputs": [
    {
     "data": {
      "text/html": [
       "<div>\n",
       "<style scoped>\n",
       "    .dataframe tbody tr th:only-of-type {\n",
       "        vertical-align: middle;\n",
       "    }\n",
       "\n",
       "    .dataframe tbody tr th {\n",
       "        vertical-align: top;\n",
       "    }\n",
       "\n",
       "    .dataframe thead th {\n",
       "        text-align: right;\n",
       "    }\n",
       "</style>\n",
       "<table border=\"1\" class=\"dataframe\">\n",
       "  <thead>\n",
       "    <tr style=\"text-align: right;\">\n",
       "      <th></th>\n",
       "      <th>unique_words</th>\n",
       "      <th>attribution</th>\n",
       "      <th>abs_attribution</th>\n",
       "      <th>No_occurences</th>\n",
       "    </tr>\n",
       "  </thead>\n",
       "  <tbody>\n",
       "    <tr>\n",
       "      <th>0</th>\n",
       "      <td>!</td>\n",
       "      <td>-0.009193</td>\n",
       "      <td>0.028166</td>\n",
       "      <td>190</td>\n",
       "    </tr>\n",
       "    <tr>\n",
       "      <th>1</th>\n",
       "      <td>##0</td>\n",
       "      <td>0.000007</td>\n",
       "      <td>0.000008</td>\n",
       "      <td>9</td>\n",
       "    </tr>\n",
       "    <tr>\n",
       "      <th>2</th>\n",
       "      <td>##1</td>\n",
       "      <td>0.008586</td>\n",
       "      <td>0.008586</td>\n",
       "      <td>6</td>\n",
       "    </tr>\n",
       "    <tr>\n",
       "      <th>3</th>\n",
       "      <td>##100</td>\n",
       "      <td>-0.000002</td>\n",
       "      <td>0.000002</td>\n",
       "      <td>1</td>\n",
       "    </tr>\n",
       "    <tr>\n",
       "      <th>4</th>\n",
       "      <td>##11</td>\n",
       "      <td>0.004950</td>\n",
       "      <td>0.004950</td>\n",
       "      <td>3</td>\n",
       "    </tr>\n",
       "  </tbody>\n",
       "</table>\n",
       "</div>"
      ],
      "text/plain": [
       "  unique_words  attribution  abs_attribution  No_occurences\n",
       "0            !    -0.009193         0.028166            190\n",
       "1          ##0     0.000007         0.000008              9\n",
       "2          ##1     0.008586         0.008586              6\n",
       "3        ##100    -0.000002         0.000002              1\n",
       "4         ##11     0.004950         0.004950              3"
      ]
     },
     "execution_count": 10,
     "metadata": {},
     "output_type": "execute_result"
    }
   ],
   "source": [
    "word_attribution_unique_df.head(5)"
   ]
  },
  {
   "cell_type": "code",
   "execution_count": 11,
   "metadata": {},
   "outputs": [
    {
     "data": {
      "text/html": [
       "<div>\n",
       "<style scoped>\n",
       "    .dataframe tbody tr th:only-of-type {\n",
       "        vertical-align: middle;\n",
       "    }\n",
       "\n",
       "    .dataframe tbody tr th {\n",
       "        vertical-align: top;\n",
       "    }\n",
       "\n",
       "    .dataframe thead th {\n",
       "        text-align: right;\n",
       "    }\n",
       "</style>\n",
       "<table border=\"1\" class=\"dataframe\">\n",
       "  <thead>\n",
       "    <tr style=\"text-align: right;\">\n",
       "      <th></th>\n",
       "      <th>word</th>\n",
       "      <th>attention_map</th>\n",
       "    </tr>\n",
       "  </thead>\n",
       "  <tbody>\n",
       "    <tr>\n",
       "      <th>0</th>\n",
       "      <td>[CLS]</td>\n",
       "      <td>{1: {1: 0.0356258861720562}}</td>\n",
       "    </tr>\n",
       "    <tr>\n",
       "      <th>1</th>\n",
       "      <td>[CLS]</td>\n",
       "      <td>{1: {2: 0.020374972373247147}}</td>\n",
       "    </tr>\n",
       "    <tr>\n",
       "      <th>2</th>\n",
       "      <td>[CLS]</td>\n",
       "      <td>{1: {3: 0.36324000358581543}}</td>\n",
       "    </tr>\n",
       "    <tr>\n",
       "      <th>3</th>\n",
       "      <td>[CLS]</td>\n",
       "      <td>{1: {4: 0.03803560137748718}}</td>\n",
       "    </tr>\n",
       "    <tr>\n",
       "      <th>4</th>\n",
       "      <td>[CLS]</td>\n",
       "      <td>{1: {5: 0.06432480365037918}}</td>\n",
       "    </tr>\n",
       "  </tbody>\n",
       "</table>\n",
       "</div>"
      ],
      "text/plain": [
       "    word                   attention_map\n",
       "0  [CLS]    {1: {1: 0.0356258861720562}}\n",
       "1  [CLS]  {1: {2: 0.020374972373247147}}\n",
       "2  [CLS]   {1: {3: 0.36324000358581543}}\n",
       "3  [CLS]   {1: {4: 0.03803560137748718}}\n",
       "4  [CLS]   {1: {5: 0.06432480365037918}}"
      ]
     },
     "execution_count": 11,
     "metadata": {},
     "output_type": "execute_result"
    }
   ],
   "source": [
    "attenion_weigths.head(5)"
   ]
  },
  {
   "cell_type": "code",
   "execution_count": 12,
   "metadata": {},
   "outputs": [
    {
     "data": {
      "text/plain": [
       "4196736"
      ]
     },
     "execution_count": 12,
     "metadata": {},
     "output_type": "execute_result"
    }
   ],
   "source": [
    "len(attenion_weigths)"
   ]
  },
  {
   "cell_type": "code",
   "execution_count": 13,
   "metadata": {},
   "outputs": [],
   "source": [
    "unique_words_attention = []\n",
    "\n",
    "for g, i in attenion_weigths.groupby(\"word\"):\n",
    "    unique_words_attention.append(g)"
   ]
  },
  {
   "cell_type": "code",
   "execution_count": 14,
   "metadata": {},
   "outputs": [
    {
     "data": {
      "text/plain": [
       "4459"
      ]
     },
     "execution_count": 14,
     "metadata": {},
     "output_type": "execute_result"
    }
   ],
   "source": [
    "len(unique_words_attention)"
   ]
  },
  {
   "cell_type": "code",
   "execution_count": 15,
   "metadata": {},
   "outputs": [],
   "source": [
    "unique_words_attention_common = [i for i in unique_words_attention if i in list(word_attribution_unique_df.unique_words.values)]\n"
   ]
  },
  {
   "cell_type": "code",
   "execution_count": 16,
   "metadata": {},
   "outputs": [
    {
     "data": {
      "text/plain": [
       "4457"
      ]
     },
     "execution_count": 16,
     "metadata": {},
     "output_type": "execute_result"
    }
   ],
   "source": [
    "len(unique_words_attention_common)"
   ]
  },
  {
   "cell_type": "code",
   "execution_count": 17,
   "metadata": {},
   "outputs": [],
   "source": [
    "common_words_attention = attenion_weigths[attenion_weigths[\"word\"].isin(unique_words_attention_common)]"
   ]
  },
  {
   "cell_type": "code",
   "execution_count": 18,
   "metadata": {},
   "outputs": [
    {
     "data": {
      "text/plain": [
       "3908736"
      ]
     },
     "execution_count": 18,
     "metadata": {},
     "output_type": "execute_result"
    }
   ],
   "source": [
    "len(common_words_attention)"
   ]
  },
  {
   "cell_type": "code",
   "execution_count": 19,
   "metadata": {},
   "outputs": [],
   "source": [
    "def generate_attention_attention_layers_per_head_for_word(word,attention_map_df):\n",
    "  import ast\n",
    "  frames = []\n",
    "  #len(attention_map_df[attention_map_df[\"word\"]==word][\"attention_map\"].values)\n",
    "  for i in attention_map_df[attention_map_df[\"word\"]==word][\"attention_map\"].values:\n",
    "    frames.append(pd.DataFrame.from_dict(ast.literal_eval(i)))\n",
    "  res = pd.concat(frames)\n",
    "  res = res.fillna(0)\n",
    "  res = res.groupby(res.index).sum()\n",
    "  return res"
   ]
  },
  {
   "cell_type": "code",
   "execution_count": 20,
   "metadata": {},
   "outputs": [],
   "source": [
    "mean_attetnion_weigth_of_last_layers = []\n",
    "for i in unique_words_attention_common:\n",
    "    res = generate_attention_attention_layers_per_head_for_word(i,common_words_attention)\n",
    "    avg_head_res_ft = res.mean(axis=1).values\n",
    "    mean_attetnion_weigth_of_last_layers.append(np.mean(avg_head_res_ft[-4:]))"
   ]
  },
  {
   "cell_type": "code",
   "execution_count": 21,
   "metadata": {},
   "outputs": [],
   "source": [
    "#max_attetnion_weigth_of_last_layers = []\n",
    "#for i in unique_words_attention_common:\n",
    " #   res = generate_attention_attention_layers_per_head_for_word(i,common_words_attention)\n",
    "  #  avg_head_res_ft = res.mean(axis=1).values\n",
    "   # max_attetnion_weigth_of_last_layers.append(max(avg_head_res_ft[-4:]))"
   ]
  },
  {
   "cell_type": "code",
   "execution_count": 22,
   "metadata": {},
   "outputs": [],
   "source": [
    "attribution_scores_common = word_attribution_unique_df[word_attribution_unique_df[\"unique_words\"].isin(unique_words_attention_common)]"
   ]
  },
  {
   "cell_type": "code",
   "execution_count": 23,
   "metadata": {},
   "outputs": [],
   "source": [
    "attribution_scores_common = attribution_scores_common.sort_values(\"unique_words\")"
   ]
  },
  {
   "cell_type": "code",
   "execution_count": 24,
   "metadata": {},
   "outputs": [
    {
     "name": "stderr",
     "output_type": "stream",
     "text": [
      "/home/fatma/.local/lib/python3.6/site-packages/ipykernel_launcher.py:5: SettingWithCopyWarning: \n",
      "A value is trying to be set on a copy of a slice from a DataFrame.\n",
      "Try using .loc[row_indexer,col_indexer] = value instead\n",
      "\n",
      "See the caveats in the documentation: https://pandas.pydata.org/pandas-docs/stable/user_guide/indexing.html#returning-a-view-versus-a-copy\n",
      "  \"\"\"\n"
     ]
    }
   ],
   "source": [
    "attribution_scores_common_list = []\n",
    "for i in unique_words_attention_common:\n",
    "    index = unique_words_attention_common.index(i)\n",
    "    attribution_scores_common = word_attribution_unique_df[word_attribution_unique_df[\"unique_words\"] == i]\n",
    "    attribution_scores_common[\"avg_attention_weigth_in_last_layers\"] = mean_attetnion_weigth_of_last_layers[index]\n",
    "    #attribution_scores_common[\"max_attention_weigth_in_last_layers\"] = max_attetnion_weigth_of_last_layers[index]\n",
    "    attribution_scores_common_list.append(attribution_scores_common)"
   ]
  },
  {
   "cell_type": "code",
   "execution_count": 25,
   "metadata": {},
   "outputs": [],
   "source": [
    "attribution_scores_common = pd.concat(attribution_scores_common_list)"
   ]
  },
  {
   "cell_type": "code",
   "execution_count": 26,
   "metadata": {},
   "outputs": [
    {
     "data": {
      "text/plain": [
       "4457"
      ]
     },
     "execution_count": 26,
     "metadata": {},
     "output_type": "execute_result"
    }
   ],
   "source": [
    "len(attribution_scores_common)"
   ]
  },
  {
   "cell_type": "code",
   "execution_count": 27,
   "metadata": {},
   "outputs": [
    {
     "data": {
      "text/html": [
       "<div>\n",
       "<style scoped>\n",
       "    .dataframe tbody tr th:only-of-type {\n",
       "        vertical-align: middle;\n",
       "    }\n",
       "\n",
       "    .dataframe tbody tr th {\n",
       "        vertical-align: top;\n",
       "    }\n",
       "\n",
       "    .dataframe thead th {\n",
       "        text-align: right;\n",
       "    }\n",
       "</style>\n",
       "<table border=\"1\" class=\"dataframe\">\n",
       "  <thead>\n",
       "    <tr style=\"text-align: right;\">\n",
       "      <th></th>\n",
       "      <th>unique_words</th>\n",
       "      <th>attribution</th>\n",
       "      <th>abs_attribution</th>\n",
       "      <th>No_occurences</th>\n",
       "      <th>avg_attention_weigth_in_last_layers</th>\n",
       "    </tr>\n",
       "  </thead>\n",
       "  <tbody>\n",
       "    <tr>\n",
       "      <th>0</th>\n",
       "      <td>!</td>\n",
       "      <td>-0.009193</td>\n",
       "      <td>0.028166</td>\n",
       "      <td>190</td>\n",
       "      <td>2.477542</td>\n",
       "    </tr>\n",
       "    <tr>\n",
       "      <th>1</th>\n",
       "      <td>##0</td>\n",
       "      <td>0.000007</td>\n",
       "      <td>0.000008</td>\n",
       "      <td>9</td>\n",
       "      <td>0.113272</td>\n",
       "    </tr>\n",
       "    <tr>\n",
       "      <th>2</th>\n",
       "      <td>##1</td>\n",
       "      <td>0.008586</td>\n",
       "      <td>0.008586</td>\n",
       "      <td>6</td>\n",
       "      <td>0.081156</td>\n",
       "    </tr>\n",
       "    <tr>\n",
       "      <th>3</th>\n",
       "      <td>##100</td>\n",
       "      <td>-0.000002</td>\n",
       "      <td>0.000002</td>\n",
       "      <td>1</td>\n",
       "      <td>0.024533</td>\n",
       "    </tr>\n",
       "    <tr>\n",
       "      <th>4</th>\n",
       "      <td>##11</td>\n",
       "      <td>0.004950</td>\n",
       "      <td>0.004950</td>\n",
       "      <td>3</td>\n",
       "      <td>0.045755</td>\n",
       "    </tr>\n",
       "  </tbody>\n",
       "</table>\n",
       "</div>"
      ],
      "text/plain": [
       "  unique_words  attribution  abs_attribution  No_occurences  \\\n",
       "0            !    -0.009193         0.028166            190   \n",
       "1          ##0     0.000007         0.000008              9   \n",
       "2          ##1     0.008586         0.008586              6   \n",
       "3        ##100    -0.000002         0.000002              1   \n",
       "4         ##11     0.004950         0.004950              3   \n",
       "\n",
       "   avg_attention_weigth_in_last_layers  \n",
       "0                             2.477542  \n",
       "1                             0.113272  \n",
       "2                             0.081156  \n",
       "3                             0.024533  \n",
       "4                             0.045755  "
      ]
     },
     "execution_count": 27,
     "metadata": {},
     "output_type": "execute_result"
    }
   ],
   "source": [
    "attribution_scores_common.head()"
   ]
  },
  {
   "cell_type": "code",
   "execution_count": 28,
   "metadata": {},
   "outputs": [
    {
     "data": {
      "text/plain": [
       "4457"
      ]
     },
     "execution_count": 28,
     "metadata": {},
     "output_type": "execute_result"
    }
   ],
   "source": [
    "len(attribution_scores_common)"
   ]
  },
  {
   "cell_type": "code",
   "execution_count": 29,
   "metadata": {},
   "outputs": [],
   "source": [
    "df = attribution_scores_common[[\"attribution\", \"abs_attribution\" ,\"No_occurences\", \"avg_attention_weigth_in_last_layers\"]]"
   ]
  },
  {
   "cell_type": "code",
   "execution_count": 30,
   "metadata": {},
   "outputs": [
    {
     "data": {
      "text/html": [
       "<div>\n",
       "<style scoped>\n",
       "    .dataframe tbody tr th:only-of-type {\n",
       "        vertical-align: middle;\n",
       "    }\n",
       "\n",
       "    .dataframe tbody tr th {\n",
       "        vertical-align: top;\n",
       "    }\n",
       "\n",
       "    .dataframe thead th {\n",
       "        text-align: right;\n",
       "    }\n",
       "</style>\n",
       "<table border=\"1\" class=\"dataframe\">\n",
       "  <thead>\n",
       "    <tr style=\"text-align: right;\">\n",
       "      <th></th>\n",
       "      <th>attribution</th>\n",
       "      <th>abs_attribution</th>\n",
       "      <th>No_occurences</th>\n",
       "      <th>avg_attention_weigth_in_last_layers</th>\n",
       "    </tr>\n",
       "  </thead>\n",
       "  <tbody>\n",
       "    <tr>\n",
       "      <th>attribution</th>\n",
       "      <td>1.000000</td>\n",
       "      <td>0.297667</td>\n",
       "      <td>-0.008442</td>\n",
       "      <td>-0.004513</td>\n",
       "    </tr>\n",
       "    <tr>\n",
       "      <th>abs_attribution</th>\n",
       "      <td>0.297667</td>\n",
       "      <td>1.000000</td>\n",
       "      <td>-0.009922</td>\n",
       "      <td>-0.001313</td>\n",
       "    </tr>\n",
       "    <tr>\n",
       "      <th>No_occurences</th>\n",
       "      <td>-0.008442</td>\n",
       "      <td>-0.009922</td>\n",
       "      <td>1.000000</td>\n",
       "      <td>0.972035</td>\n",
       "    </tr>\n",
       "    <tr>\n",
       "      <th>avg_attention_weigth_in_last_layers</th>\n",
       "      <td>-0.004513</td>\n",
       "      <td>-0.001313</td>\n",
       "      <td>0.972035</td>\n",
       "      <td>1.000000</td>\n",
       "    </tr>\n",
       "  </tbody>\n",
       "</table>\n",
       "</div>"
      ],
      "text/plain": [
       "                                     attribution  abs_attribution  \\\n",
       "attribution                             1.000000         0.297667   \n",
       "abs_attribution                         0.297667         1.000000   \n",
       "No_occurences                          -0.008442        -0.009922   \n",
       "avg_attention_weigth_in_last_layers    -0.004513        -0.001313   \n",
       "\n",
       "                                     No_occurences  \\\n",
       "attribution                              -0.008442   \n",
       "abs_attribution                          -0.009922   \n",
       "No_occurences                             1.000000   \n",
       "avg_attention_weigth_in_last_layers       0.972035   \n",
       "\n",
       "                                     avg_attention_weigth_in_last_layers  \n",
       "attribution                                                    -0.004513  \n",
       "abs_attribution                                                -0.001313  \n",
       "No_occurences                                                   0.972035  \n",
       "avg_attention_weigth_in_last_layers                             1.000000  "
      ]
     },
     "execution_count": 30,
     "metadata": {},
     "output_type": "execute_result"
    }
   ],
   "source": [
    "df.corr()"
   ]
  },
  {
   "cell_type": "code",
   "execution_count": 31,
   "metadata": {},
   "outputs": [
    {
     "data": {
      "text/plain": [
       "Text(0.5, 0, 'Absolute attribution score')"
      ]
     },
     "execution_count": 31,
     "metadata": {},
     "output_type": "execute_result"
    },
    {
     "data": {
      "image/png": "[encoded data removed]",
      "text/plain": [
       "<Figure size 432x288 with 1 Axes>"
      ]
     },
     "metadata": {
      "needs_background": "light"
     },
     "output_type": "display_data"
    }
   ],
   "source": [
    "plt.scatter(attribution_scores_common[\"abs_attribution\"], attribution_scores_common[\"avg_attention_weigth_in_last_layers\"])\n",
    "plt.xlabel(\"Absolute attribution score\",fontsize=16)\n",
    "#plt.ylabel(\"Average attention weigth in the last 4 layers\",fontsize=16)"
   ]
  },
  {
   "cell_type": "code",
   "execution_count": 32,
   "metadata": {},
   "outputs": [
    {
     "data": {
      "text/html": [
       "<div>\n",
       "<style scoped>\n",
       "    .dataframe tbody tr th:only-of-type {\n",
       "        vertical-align: middle;\n",
       "    }\n",
       "\n",
       "    .dataframe tbody tr th {\n",
       "        vertical-align: top;\n",
       "    }\n",
       "\n",
       "    .dataframe thead th {\n",
       "        text-align: right;\n",
       "    }\n",
       "</style>\n",
       "<table border=\"1\" class=\"dataframe\">\n",
       "  <thead>\n",
       "    <tr style=\"text-align: right;\">\n",
       "      <th></th>\n",
       "      <th>unique_words</th>\n",
       "      <th>attribution</th>\n",
       "      <th>abs_attribution</th>\n",
       "      <th>No_occurences</th>\n",
       "      <th>avg_attention_weigth_in_last_layers</th>\n",
       "    </tr>\n",
       "  </thead>\n",
       "  <tbody>\n",
       "    <tr>\n",
       "      <th>1114</th>\n",
       "      <td>,</td>\n",
       "      <td>0.000262</td>\n",
       "      <td>0.001416</td>\n",
       "      <td>1258</td>\n",
       "      <td>14.955541</td>\n",
       "    </tr>\n",
       "    <tr>\n",
       "      <th>1116</th>\n",
       "      <td>.</td>\n",
       "      <td>-0.000885</td>\n",
       "      <td>0.002712</td>\n",
       "      <td>1827</td>\n",
       "      <td>24.403530</td>\n",
       "    </tr>\n",
       "    <tr>\n",
       "      <th>1253</th>\n",
       "      <td>:</td>\n",
       "      <td>0.001040</td>\n",
       "      <td>0.001632</td>\n",
       "      <td>978</td>\n",
       "      <td>13.078355</td>\n",
       "    </tr>\n",
       "    <tr>\n",
       "      <th>1255</th>\n",
       "      <td>=</td>\n",
       "      <td>0.001152</td>\n",
       "      <td>0.001876</td>\n",
       "      <td>1332</td>\n",
       "      <td>13.337631</td>\n",
       "    </tr>\n",
       "    <tr>\n",
       "      <th>1263</th>\n",
       "      <td>`</td>\n",
       "      <td>0.000327</td>\n",
       "      <td>0.000390</td>\n",
       "      <td>1267</td>\n",
       "      <td>7.222447</td>\n",
       "    </tr>\n",
       "    <tr>\n",
       "      <th>1264</th>\n",
       "      <td>a</td>\n",
       "      <td>0.000706</td>\n",
       "      <td>0.003086</td>\n",
       "      <td>675</td>\n",
       "      <td>6.276270</td>\n",
       "    </tr>\n",
       "    <tr>\n",
       "      <th>1434</th>\n",
       "      <td>and</td>\n",
       "      <td>0.000523</td>\n",
       "      <td>0.001213</td>\n",
       "      <td>624</td>\n",
       "      <td>7.209078</td>\n",
       "    </tr>\n",
       "    <tr>\n",
       "      <th>3236</th>\n",
       "      <td>i</td>\n",
       "      <td>0.001172</td>\n",
       "      <td>0.001978</td>\n",
       "      <td>824</td>\n",
       "      <td>11.200884</td>\n",
       "    </tr>\n",
       "    <tr>\n",
       "      <th>3419</th>\n",
       "      <td>is</td>\n",
       "      <td>-0.001734</td>\n",
       "      <td>0.002530</td>\n",
       "      <td>723</td>\n",
       "      <td>8.565254</td>\n",
       "    </tr>\n",
       "    <tr>\n",
       "      <th>3430</th>\n",
       "      <td>it</td>\n",
       "      <td>0.000598</td>\n",
       "      <td>0.001977</td>\n",
       "      <td>463</td>\n",
       "      <td>5.045827</td>\n",
       "    </tr>\n",
       "    <tr>\n",
       "      <th>4085</th>\n",
       "      <td>not</td>\n",
       "      <td>0.001045</td>\n",
       "      <td>0.001355</td>\n",
       "      <td>483</td>\n",
       "      <td>6.422515</td>\n",
       "    </tr>\n",
       "    <tr>\n",
       "      <th>4132</th>\n",
       "      <td>of</td>\n",
       "      <td>0.000468</td>\n",
       "      <td>0.000819</td>\n",
       "      <td>671</td>\n",
       "      <td>5.927119</td>\n",
       "    </tr>\n",
       "    <tr>\n",
       "      <th>5415</th>\n",
       "      <td>that</td>\n",
       "      <td>0.000033</td>\n",
       "      <td>0.000540</td>\n",
       "      <td>501</td>\n",
       "      <td>5.598693</td>\n",
       "    </tr>\n",
       "    <tr>\n",
       "      <th>5416</th>\n",
       "      <td>the</td>\n",
       "      <td>-0.000229</td>\n",
       "      <td>0.000417</td>\n",
       "      <td>1402</td>\n",
       "      <td>13.453318</td>\n",
       "    </tr>\n",
       "    <tr>\n",
       "      <th>5478</th>\n",
       "      <td>to</td>\n",
       "      <td>0.000034</td>\n",
       "      <td>0.000942</td>\n",
       "      <td>813</td>\n",
       "      <td>8.411487</td>\n",
       "    </tr>\n",
       "    <tr>\n",
       "      <th>5874</th>\n",
       "      <td>you</td>\n",
       "      <td>0.014142</td>\n",
       "      <td>0.017059</td>\n",
       "      <td>737</td>\n",
       "      <td>12.927635</td>\n",
       "    </tr>\n",
       "  </tbody>\n",
       "</table>\n",
       "</div>"
      ],
      "text/plain": [
       "     unique_words  attribution  abs_attribution  No_occurences  \\\n",
       "1114            ,     0.000262         0.001416           1258   \n",
       "1116            .    -0.000885         0.002712           1827   \n",
       "1253            :     0.001040         0.001632            978   \n",
       "1255            =     0.001152         0.001876           1332   \n",
       "1263            `     0.000327         0.000390           1267   \n",
       "1264            a     0.000706         0.003086            675   \n",
       "1434          and     0.000523         0.001213            624   \n",
       "3236            i     0.001172         0.001978            824   \n",
       "3419           is    -0.001734         0.002530            723   \n",
       "3430           it     0.000598         0.001977            463   \n",
       "4085          not     0.001045         0.001355            483   \n",
       "4132           of     0.000468         0.000819            671   \n",
       "5415         that     0.000033         0.000540            501   \n",
       "5416          the    -0.000229         0.000417           1402   \n",
       "5478           to     0.000034         0.000942            813   \n",
       "5874          you     0.014142         0.017059            737   \n",
       "\n",
       "      avg_attention_weigth_in_last_layers  \n",
       "1114                            14.955541  \n",
       "1116                            24.403530  \n",
       "1253                            13.078355  \n",
       "1255                            13.337631  \n",
       "1263                             7.222447  \n",
       "1264                             6.276270  \n",
       "1434                             7.209078  \n",
       "3236                            11.200884  \n",
       "3419                             8.565254  \n",
       "3430                             5.045827  \n",
       "4085                             6.422515  \n",
       "4132                             5.927119  \n",
       "5415                             5.598693  \n",
       "5416                            13.453318  \n",
       "5478                             8.411487  \n",
       "5874                            12.927635  "
      ]
     },
     "execution_count": 32,
     "metadata": {},
     "output_type": "execute_result"
    }
   ],
   "source": [
    "attribution_scores_common[attribution_scores_common[\"avg_attention_weigth_in_last_layers\"]>5]"
   ]
  },
  {
   "cell_type": "code",
   "execution_count": 33,
   "metadata": {},
   "outputs": [
    {
     "data": {
      "text/html": [
       "<div>\n",
       "<style scoped>\n",
       "    .dataframe tbody tr th:only-of-type {\n",
       "        vertical-align: middle;\n",
       "    }\n",
       "\n",
       "    .dataframe tbody tr th {\n",
       "        vertical-align: top;\n",
       "    }\n",
       "\n",
       "    .dataframe thead th {\n",
       "        text-align: right;\n",
       "    }\n",
       "</style>\n",
       "<table border=\"1\" class=\"dataframe\">\n",
       "  <thead>\n",
       "    <tr style=\"text-align: right;\">\n",
       "      <th></th>\n",
       "      <th>unique_words</th>\n",
       "      <th>attribution</th>\n",
       "      <th>abs_attribution</th>\n",
       "      <th>No_occurences</th>\n",
       "      <th>avg_attention_weigth_in_last_layers</th>\n",
       "    </tr>\n",
       "  </thead>\n",
       "  <tbody>\n",
       "    <tr>\n",
       "      <th>586</th>\n",
       "      <td>##lz</td>\n",
       "      <td>0.860460</td>\n",
       "      <td>0.860460</td>\n",
       "      <td>1</td>\n",
       "      <td>0.042005</td>\n",
       "    </tr>\n",
       "    <tr>\n",
       "      <th>1831</th>\n",
       "      <td>ca</td>\n",
       "      <td>-0.842730</td>\n",
       "      <td>0.842741</td>\n",
       "      <td>3</td>\n",
       "      <td>0.056605</td>\n",
       "    </tr>\n",
       "    <tr>\n",
       "      <th>1851</th>\n",
       "      <td>canadian</td>\n",
       "      <td>0.703745</td>\n",
       "      <td>0.703745</td>\n",
       "      <td>1</td>\n",
       "      <td>0.064368</td>\n",
       "    </tr>\n",
       "    <tr>\n",
       "      <th>5087</th>\n",
       "      <td>smell</td>\n",
       "      <td>-1.154960</td>\n",
       "      <td>1.277921</td>\n",
       "      <td>4</td>\n",
       "      <td>0.281176</td>\n",
       "    </tr>\n",
       "  </tbody>\n",
       "</table>\n",
       "</div>"
      ],
      "text/plain": [
       "     unique_words  attribution  abs_attribution  No_occurences  \\\n",
       "586          ##lz     0.860460         0.860460              1   \n",
       "1831           ca    -0.842730         0.842741              3   \n",
       "1851     canadian     0.703745         0.703745              1   \n",
       "5087        smell    -1.154960         1.277921              4   \n",
       "\n",
       "      avg_attention_weigth_in_last_layers  \n",
       "586                              0.042005  \n",
       "1831                             0.056605  \n",
       "1851                             0.064368  \n",
       "5087                             0.281176  "
      ]
     },
     "execution_count": 33,
     "metadata": {},
     "output_type": "execute_result"
    }
   ],
   "source": [
    "attribution_scores_common[attribution_scores_common[\"abs_attribution\"]>0.5]"
   ]
  },
  {
   "cell_type": "code",
   "execution_count": 34,
   "metadata": {},
   "outputs": [
    {
     "data": {
      "text/html": [
       "<div>\n",
       "<style scoped>\n",
       "    .dataframe tbody tr th:only-of-type {\n",
       "        vertical-align: middle;\n",
       "    }\n",
       "\n",
       "    .dataframe tbody tr th {\n",
       "        vertical-align: top;\n",
       "    }\n",
       "\n",
       "    .dataframe thead th {\n",
       "        text-align: right;\n",
       "    }\n",
       "</style>\n",
       "<table border=\"1\" class=\"dataframe\">\n",
       "  <thead>\n",
       "    <tr style=\"text-align: right;\">\n",
       "      <th></th>\n",
       "      <th>unique_words</th>\n",
       "      <th>attribution</th>\n",
       "      <th>abs_attribution</th>\n",
       "      <th>No_occurences</th>\n",
       "      <th>avg_attention_weigth_in_last_layers</th>\n",
       "    </tr>\n",
       "  </thead>\n",
       "  <tbody>\n",
       "    <tr>\n",
       "      <th>1116</th>\n",
       "      <td>.</td>\n",
       "      <td>-0.000885</td>\n",
       "      <td>0.002712</td>\n",
       "      <td>1827</td>\n",
       "      <td>24.40353</td>\n",
       "    </tr>\n",
       "  </tbody>\n",
       "</table>\n",
       "</div>"
      ],
      "text/plain": [
       "     unique_words  attribution  abs_attribution  No_occurences  \\\n",
       "1116            .    -0.000885         0.002712           1827   \n",
       "\n",
       "      avg_attention_weigth_in_last_layers  \n",
       "1116                             24.40353  "
      ]
     },
     "execution_count": 34,
     "metadata": {},
     "output_type": "execute_result"
    }
   ],
   "source": [
    "attribution_scores_common[attribution_scores_common[\"No_occurences\"] == np.max(attribution_scores_common[\"No_occurences\"] )]"
   ]
  },
  {
   "cell_type": "code",
   "execution_count": 35,
   "metadata": {},
   "outputs": [
    {
     "data": {
      "text/plain": [
       "Text(0.5, 0, 'Number of occurences')"
      ]
     },
     "execution_count": 35,
     "metadata": {},
     "output_type": "execute_result"
    },
    {
     "data": {
      "image/png": "[encoded data removed]",
      "text/plain": [
       "<Figure size 432x288 with 1 Axes>"
      ]
     },
     "metadata": {
      "needs_background": "light"
     },
     "output_type": "display_data"
    }
   ],
   "source": [
    "plt.scatter(attribution_scores_common[\"No_occurences\"], attribution_scores_common[\"avg_attention_weigth_in_last_layers\"])\n",
    "plt.xlabel(\"Number of occurences\",fontsize=16)\n",
    "#plt.ylabel(\"Average attention weigth in the last 4 layers\")"
   ]
  },
  {
   "cell_type": "code",
   "execution_count": 111,
   "metadata": {},
   "outputs": [
    {
     "data": {
      "text/plain": [
       "array([[<AxesSubplot:xlabel='attribution', ylabel='attribution'>,\n",
       "        <AxesSubplot:xlabel='abs_attribution', ylabel='attribution'>,\n",
       "        <AxesSubplot:xlabel='No_occurences', ylabel='attribution'>,\n",
       "        <AxesSubplot:xlabel='avg_attention_weigth_in_last_layers', ylabel='attribution'>],\n",
       "       [<AxesSubplot:xlabel='attribution', ylabel='abs_attribution'>,\n",
       "        <AxesSubplot:xlabel='abs_attribution', ylabel='abs_attribution'>,\n",
       "        <AxesSubplot:xlabel='No_occurences', ylabel='abs_attribution'>,\n",
       "        <AxesSubplot:xlabel='avg_attention_weigth_in_last_layers', ylabel='abs_attribution'>],\n",
       "       [<AxesSubplot:xlabel='attribution', ylabel='No_occurences'>,\n",
       "        <AxesSubplot:xlabel='abs_attribution', ylabel='No_occurences'>,\n",
       "        <AxesSubplot:xlabel='No_occurences', ylabel='No_occurences'>,\n",
       "        <AxesSubplot:xlabel='avg_attention_weigth_in_last_layers', ylabel='No_occurences'>],\n",
       "       [<AxesSubplot:xlabel='attribution', ylabel='avg_attention_weigth_in_last_layers'>,\n",
       "        <AxesSubplot:xlabel='abs_attribution', ylabel='avg_attention_weigth_in_last_layers'>,\n",
       "        <AxesSubplot:xlabel='No_occurences', ylabel='avg_attention_weigth_in_last_layers'>,\n",
       "        <AxesSubplot:xlabel='avg_attention_weigth_in_last_layers', ylabel='avg_attention_weigth_in_last_layers'>]],\n",
       "      dtype=object)"
      ]
     },
     "execution_count": 111,
     "metadata": {},
     "output_type": "execute_result"
    },
    {
     "data": {
      "image/png": "[encoded data removed]",
      "text/plain": [
       "<Figure size 1440x1440 with 16 Axes>"
      ]
     },
     "metadata": {
      "needs_background": "light"
     },
     "output_type": "display_data"
    }
   ],
   "source": [
    "pd.plotting.scatter_matrix(df, figsize=(20, 20),diagonal='kde')"
   ]
  },
  {
   "cell_type": "code",
   "execution_count": 112,
   "metadata": {},
   "outputs": [],
   "source": [
    "abs_attribution_correlation = np.correlate(attribution_scores_common[\"abs_attribution\"],attribution_scores_common[\"abs_attribution\"])"
   ]
  },
  {
   "cell_type": "code",
   "execution_count": 113,
   "metadata": {},
   "outputs": [
    {
     "ename": "KeyError",
     "evalue": "'avg_attention_weigth_in last layers'",
     "output_type": "error",
     "traceback": [
      "\u001b[0;31m---------------------------------------------------------------------------\u001b[0m",
      "\u001b[0;31mKeyError\u001b[0m                                  Traceback (most recent call last)",
      "\u001b[0;32m~/.local/lib/python3.6/site-packages/pandas/core/indexes/base.py\u001b[0m in \u001b[0;36mget_loc\u001b[0;34m(self, key, method, tolerance)\u001b[0m\n\u001b[1;32m   2890\u001b[0m             \u001b[0;32mtry\u001b[0m\u001b[0;34m:\u001b[0m\u001b[0;34m\u001b[0m\u001b[0;34m\u001b[0m\u001b[0m\n\u001b[0;32m-> 2891\u001b[0;31m                 \u001b[0;32mreturn\u001b[0m \u001b[0mself\u001b[0m\u001b[0;34m.\u001b[0m\u001b[0m_engine\u001b[0m\u001b[0;34m.\u001b[0m\u001b[0mget_loc\u001b[0m\u001b[0;34m(\u001b[0m\u001b[0mcasted_key\u001b[0m\u001b[0;34m)\u001b[0m\u001b[0;34m\u001b[0m\u001b[0;34m\u001b[0m\u001b[0m\n\u001b[0m\u001b[1;32m   2892\u001b[0m             \u001b[0;32mexcept\u001b[0m \u001b[0mKeyError\u001b[0m \u001b[0;32mas\u001b[0m \u001b[0merr\u001b[0m\u001b[0;34m:\u001b[0m\u001b[0;34m\u001b[0m\u001b[0;34m\u001b[0m\u001b[0m\n",
      "\u001b[0;32mpandas/_libs/index.pyx\u001b[0m in \u001b[0;36mpandas._libs.index.IndexEngine.get_loc\u001b[0;34m()\u001b[0m\n",
      "\u001b[0;32mpandas/_libs/index.pyx\u001b[0m in \u001b[0;36mpandas._libs.index.IndexEngine.get_loc\u001b[0;34m()\u001b[0m\n",
      "\u001b[0;32mpandas/_libs/hashtable_class_helper.pxi\u001b[0m in \u001b[0;36mpandas._libs.hashtable.PyObjectHashTable.get_item\u001b[0;34m()\u001b[0m\n",
      "\u001b[0;32mpandas/_libs/hashtable_class_helper.pxi\u001b[0m in \u001b[0;36mpandas._libs.hashtable.PyObjectHashTable.get_item\u001b[0;34m()\u001b[0m\n",
      "\u001b[0;31mKeyError\u001b[0m: 'avg_attention_weigth_in last layers'",
      "\nThe above exception was the direct cause of the following exception:\n",
      "\u001b[0;31mKeyError\u001b[0m                                  Traceback (most recent call last)",
      "\u001b[0;32m<ipython-input-113-df54b6e2f7c7>\u001b[0m in \u001b[0;36m<module>\u001b[0;34m\u001b[0m\n\u001b[0;32m----> 1\u001b[0;31m \u001b[0mattention_weigths_correlation\u001b[0m \u001b[0;34m=\u001b[0m \u001b[0mnp\u001b[0m\u001b[0;34m.\u001b[0m\u001b[0mcorrelate\u001b[0m\u001b[0;34m(\u001b[0m\u001b[0mattribution_scores_common\u001b[0m\u001b[0;34m[\u001b[0m\u001b[0;34m\"avg_attention_weigth_in last layers\"\u001b[0m\u001b[0;34m]\u001b[0m\u001b[0;34m,\u001b[0m\u001b[0mattribution_scores_common\u001b[0m\u001b[0;34m[\u001b[0m\u001b[0;34m\"avg_attention_weigth_in last layers\"\u001b[0m\u001b[0;34m]\u001b[0m\u001b[0;34m)\u001b[0m\u001b[0;34m\u001b[0m\u001b[0;34m\u001b[0m\u001b[0m\n\u001b[0m",
      "\u001b[0;32m~/.local/lib/python3.6/site-packages/pandas/core/frame.py\u001b[0m in \u001b[0;36m__getitem__\u001b[0;34m(self, key)\u001b[0m\n\u001b[1;32m   2900\u001b[0m             \u001b[0;32mif\u001b[0m \u001b[0mself\u001b[0m\u001b[0;34m.\u001b[0m\u001b[0mcolumns\u001b[0m\u001b[0;34m.\u001b[0m\u001b[0mnlevels\u001b[0m \u001b[0;34m>\u001b[0m \u001b[0;36m1\u001b[0m\u001b[0;34m:\u001b[0m\u001b[0;34m\u001b[0m\u001b[0;34m\u001b[0m\u001b[0m\n\u001b[1;32m   2901\u001b[0m                 \u001b[0;32mreturn\u001b[0m \u001b[0mself\u001b[0m\u001b[0;34m.\u001b[0m\u001b[0m_getitem_multilevel\u001b[0m\u001b[0;34m(\u001b[0m\u001b[0mkey\u001b[0m\u001b[0;34m)\u001b[0m\u001b[0;34m\u001b[0m\u001b[0;34m\u001b[0m\u001b[0m\n\u001b[0;32m-> 2902\u001b[0;31m             \u001b[0mindexer\u001b[0m \u001b[0;34m=\u001b[0m \u001b[0mself\u001b[0m\u001b[0;34m.\u001b[0m\u001b[0mcolumns\u001b[0m\u001b[0;34m.\u001b[0m\u001b[0mget_loc\u001b[0m\u001b[0;34m(\u001b[0m\u001b[0mkey\u001b[0m\u001b[0;34m)\u001b[0m\u001b[0;34m\u001b[0m\u001b[0;34m\u001b[0m\u001b[0m\n\u001b[0m\u001b[1;32m   2903\u001b[0m             \u001b[0;32mif\u001b[0m \u001b[0mis_integer\u001b[0m\u001b[0;34m(\u001b[0m\u001b[0mindexer\u001b[0m\u001b[0;34m)\u001b[0m\u001b[0;34m:\u001b[0m\u001b[0;34m\u001b[0m\u001b[0;34m\u001b[0m\u001b[0m\n\u001b[1;32m   2904\u001b[0m                 \u001b[0mindexer\u001b[0m \u001b[0;34m=\u001b[0m \u001b[0;34m[\u001b[0m\u001b[0mindexer\u001b[0m\u001b[0;34m]\u001b[0m\u001b[0;34m\u001b[0m\u001b[0;34m\u001b[0m\u001b[0m\n",
      "\u001b[0;32m~/.local/lib/python3.6/site-packages/pandas/core/indexes/base.py\u001b[0m in \u001b[0;36mget_loc\u001b[0;34m(self, key, method, tolerance)\u001b[0m\n\u001b[1;32m   2891\u001b[0m                 \u001b[0;32mreturn\u001b[0m \u001b[0mself\u001b[0m\u001b[0;34m.\u001b[0m\u001b[0m_engine\u001b[0m\u001b[0;34m.\u001b[0m\u001b[0mget_loc\u001b[0m\u001b[0;34m(\u001b[0m\u001b[0mcasted_key\u001b[0m\u001b[0;34m)\u001b[0m\u001b[0;34m\u001b[0m\u001b[0;34m\u001b[0m\u001b[0m\n\u001b[1;32m   2892\u001b[0m             \u001b[0;32mexcept\u001b[0m \u001b[0mKeyError\u001b[0m \u001b[0;32mas\u001b[0m \u001b[0merr\u001b[0m\u001b[0;34m:\u001b[0m\u001b[0;34m\u001b[0m\u001b[0;34m\u001b[0m\u001b[0m\n\u001b[0;32m-> 2893\u001b[0;31m                 \u001b[0;32mraise\u001b[0m \u001b[0mKeyError\u001b[0m\u001b[0;34m(\u001b[0m\u001b[0mkey\u001b[0m\u001b[0;34m)\u001b[0m \u001b[0;32mfrom\u001b[0m \u001b[0merr\u001b[0m\u001b[0;34m\u001b[0m\u001b[0;34m\u001b[0m\u001b[0m\n\u001b[0m\u001b[1;32m   2894\u001b[0m \u001b[0;34m\u001b[0m\u001b[0m\n\u001b[1;32m   2895\u001b[0m         \u001b[0;32mif\u001b[0m \u001b[0mtolerance\u001b[0m \u001b[0;32mis\u001b[0m \u001b[0;32mnot\u001b[0m \u001b[0;32mNone\u001b[0m\u001b[0;34m:\u001b[0m\u001b[0;34m\u001b[0m\u001b[0;34m\u001b[0m\u001b[0m\n",
      "\u001b[0;31mKeyError\u001b[0m: 'avg_attention_weigth_in last layers'"
     ]
    }
   ],
   "source": [
    "attention_weigths_correlation = np.correlate(attribution_scores_common[\"avg_attention_weigth_in last layers\"],attribution_scores_common[\"avg_attention_weigth_in last layers\"])"
   ]
  },
  {
   "cell_type": "code",
   "execution_count": null,
   "metadata": {},
   "outputs": [],
   "source": [
    "plt.scatter(attribution_scores_common[\"abs_attribution\"],\\\n",
    "           attribution_scores_common[\"avg_attention_weigth_in last layers\"])"
   ]
  },
  {
   "cell_type": "code",
   "execution_count": 94,
   "metadata": {},
   "outputs": [
    {
     "data": {
      "text/plain": [
       "array([[ 1.        , -0.00144164],\n",
       "       [-0.00144164,  1.        ]])"
      ]
     },
     "execution_count": 94,
     "metadata": {},
     "output_type": "execute_result"
    }
   ],
   "source": [
    "np.corrcoef(attribution_scores_common[\"abs_attribution\"],\\\n",
    "           attribution_scores_common[\"avg_attention_weigth_in last layers\"])"
   ]
  },
  {
   "cell_type": "code",
   "execution_count": 84,
   "metadata": {},
   "outputs": [
    {
     "data": {
      "text/plain": [
       "[<matplotlib.lines.Line2D at 0x7f219b375438>]"
      ]
     },
     "execution_count": 84,
     "metadata": {},
     "output_type": "execute_result"
    },
    {
     "data": {
      "image/png": "[encoded data removed]",
      "text/plain": [
       "<Figure size 432x288 with 1 Axes>"
      ]
     },
     "metadata": {},
     "output_type": "display_data"
    }
   ],
   "source": [
    "plt.plot(abs_attribution_correlation)\n",
    "plt.plot(attention_weigths_correlation)"
   ]
  },
  {
   "cell_type": "code",
   "execution_count": 81,
   "metadata": {},
   "outputs": [
    {
     "data": {
      "text/plain": [
       "6761"
      ]
     },
     "execution_count": 81,
     "metadata": {},
     "output_type": "execute_result"
    }
   ],
   "source": [
    "len(abs_attribution_avg_attention_weigths)"
   ]
  },
  {
   "cell_type": "code",
   "execution_count": 90,
   "metadata": {},
   "outputs": [],
   "source": [
    "attribution_avg_attention_weigths = np.correlate(attribution_scores_common[\"abs_attribution\"],attribution_scores_common[\"avg_attention_weigth_in last layers\"],\"same\")"
   ]
  },
  {
   "cell_type": "code",
   "execution_count": 91,
   "metadata": {},
   "outputs": [
    {
     "data": {
      "text/plain": [
       "[<matplotlib.lines.Line2D at 0x7f21992e3d30>]"
      ]
     },
     "execution_count": 91,
     "metadata": {},
     "output_type": "execute_result"
    },
    {
     "data": {
      "image/png": "[encoded data removed]",
      "text/plain": [
       "<Figure size 432x288 with 1 Axes>"
      ]
     },
     "metadata": {},
     "output_type": "display_data"
    }
   ],
   "source": [
    "plt.plot(abs_attribution_avg_attention_weigths)"
   ]
  },
  {
   "cell_type": "code",
   "execution_count": 78,
   "metadata": {},
   "outputs": [],
   "source": [
    "attribution_avg_attention_weigths = np.correlate(attribution_scores_common[\"attribution\"],attribution_scores_common[\"avg_attention_weigth_in last layers\"],\"full\")"
   ]
  },
  {
   "cell_type": "code",
   "execution_count": 79,
   "metadata": {},
   "outputs": [
    {
     "data": {
      "text/plain": [
       "[<matplotlib.lines.Line2D at 0x7f2198bcc2e8>]"
      ]
     },
     "execution_count": 79,
     "metadata": {},
     "output_type": "execute_result"
    },
    {
     "data": {
      "image/png": "[encoded data removed]",
      "text/plain": [
       "<Figure size 432x288 with 1 Axes>"
      ]
     },
     "metadata": {},
     "output_type": "display_data"
    }
   ],
   "source": [
    "plt.plot(attribution_avg_attention_weigths)"
   ]
  },
  {
   "cell_type": "code",
   "execution_count": null,
   "metadata": {},
   "outputs": [],
   "source": []
  }
 ],
 "metadata": {
  "kernelspec": {
   "display_name": "env",
   "language": "python",
   "name": "env"
  },
  "language_info": {
   "codemirror_mode": {
    "name": "ipython",
    "version": 3
   },
   "file_extension": ".py",
   "mimetype": "text/x-python",
   "name": "python",
   "nbconvert_exporter": "python",
   "pygments_lexer": "ipython3",
   "version": "3.6.9"
  }
 },
 "nbformat": 4,
 "nbformat_minor": 4
}
