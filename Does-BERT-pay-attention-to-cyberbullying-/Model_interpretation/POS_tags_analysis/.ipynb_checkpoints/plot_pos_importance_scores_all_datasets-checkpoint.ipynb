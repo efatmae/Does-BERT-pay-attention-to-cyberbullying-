{
 "cells": [
  {
   "cell_type": "code",
   "execution_count": 106,
   "metadata": {},
   "outputs": [],
   "source": [
    "import pandas as pd\n",
    "import matplotlib.pyplot as plt\n",
    "from scipy import stats\n",
    "import seaborn as sns\n",
    "import numpy as np"
   ]
  },
  {
   "cell_type": "code",
   "execution_count": 2,
   "metadata": {},
   "outputs": [],
   "source": [
    "kaggle_pos_ig_df = pd.read_csv(\"kaggle_pos_tags_importance_scores_df.csv\",index_col=False)\n",
    "twitter_rac_pos_ig_df = pd.read_csv(\"twitter_racism_pos_tags_importance_scores_df.csv\",index_col=False)\n",
    "twitter_sex_pos_ig_df = pd.read_csv(\"twitter_sexism_pos_tags_importance_scores_df.csv\",index_col=False)\n",
    "wtp_agg_pos_ig_df = pd.read_csv(\"wtp_agg_pos_tags_importance_scores_df.csv\",index_col=False)\n",
    "wtp_tox_pos_ig_df = pd.read_csv(\"wtp_tox_pos_tags_importance_scores_df.csv\",index_col=False)"
   ]
  },
  {
   "cell_type": "code",
   "execution_count": 19,
   "metadata": {},
   "outputs": [
    {
     "data": {
      "text/html": [
       "<div>\n",
       "<style scoped>\n",
       "    .dataframe tbody tr th:only-of-type {\n",
       "        vertical-align: middle;\n",
       "    }\n",
       "\n",
       "    .dataframe tbody tr th {\n",
       "        vertical-align: top;\n",
       "    }\n",
       "\n",
       "    .dataframe thead th {\n",
       "        text-align: right;\n",
       "    }\n",
       "</style>\n",
       "<table border=\"1\" class=\"dataframe\">\n",
       "  <thead>\n",
       "    <tr style=\"text-align: right;\">\n",
       "      <th></th>\n",
       "      <th>Unnamed: 0</th>\n",
       "      <th>POS_tag</th>\n",
       "      <th>mean_importance_score</th>\n",
       "    </tr>\n",
       "  </thead>\n",
       "  <tbody>\n",
       "    <tr>\n",
       "      <th>0</th>\n",
       "      <td>0</td>\n",
       "      <td>ADJ</td>\n",
       "      <td>0.023349</td>\n",
       "    </tr>\n",
       "    <tr>\n",
       "      <th>1</th>\n",
       "      <td>1</td>\n",
       "      <td>PRON</td>\n",
       "      <td>0.172220</td>\n",
       "    </tr>\n",
       "    <tr>\n",
       "      <th>2</th>\n",
       "      <td>2</td>\n",
       "      <td>NOUN</td>\n",
       "      <td>0.012460</td>\n",
       "    </tr>\n",
       "    <tr>\n",
       "      <th>3</th>\n",
       "      <td>3</td>\n",
       "      <td>VERB</td>\n",
       "      <td>0.018559</td>\n",
       "    </tr>\n",
       "    <tr>\n",
       "      <th>4</th>\n",
       "      <td>4</td>\n",
       "      <td>ADV</td>\n",
       "      <td>0.023158</td>\n",
       "    </tr>\n",
       "    <tr>\n",
       "      <th>5</th>\n",
       "      <td>5</td>\n",
       "      <td>PROPN</td>\n",
       "      <td>0.016009</td>\n",
       "    </tr>\n",
       "    <tr>\n",
       "      <th>6</th>\n",
       "      <td>6</td>\n",
       "      <td>DET</td>\n",
       "      <td>0.161677</td>\n",
       "    </tr>\n",
       "    <tr>\n",
       "      <th>7</th>\n",
       "      <td>7</td>\n",
       "      <td>PUNC</td>\n",
       "      <td>0.366827</td>\n",
       "    </tr>\n",
       "    <tr>\n",
       "      <th>8</th>\n",
       "      <td>8</td>\n",
       "      <td>AUX</td>\n",
       "      <td>0.484410</td>\n",
       "    </tr>\n",
       "    <tr>\n",
       "      <th>9</th>\n",
       "      <td>9</td>\n",
       "      <td>ADP</td>\n",
       "      <td>0.016069</td>\n",
       "    </tr>\n",
       "  </tbody>\n",
       "</table>\n",
       "</div>"
      ],
      "text/plain": [
       "   Unnamed: 0 POS_tag  mean_importance_score\n",
       "0           0     ADJ               0.023349\n",
       "1           1    PRON               0.172220\n",
       "2           2    NOUN               0.012460\n",
       "3           3    VERB               0.018559\n",
       "4           4     ADV               0.023158\n",
       "5           5   PROPN               0.016009\n",
       "6           6     DET               0.161677\n",
       "7           7    PUNC               0.366827\n",
       "8           8     AUX               0.484410\n",
       "9           9     ADP               0.016069"
      ]
     },
     "execution_count": 19,
     "metadata": {},
     "output_type": "execute_result"
    }
   ],
   "source": [
    "kaggle_pos_ig_df.head(10)"
   ]
  },
  {
   "cell_type": "code",
   "execution_count": 20,
   "metadata": {},
   "outputs": [
    {
     "data": {
      "text/html": [
       "<div>\n",
       "<style scoped>\n",
       "    .dataframe tbody tr th:only-of-type {\n",
       "        vertical-align: middle;\n",
       "    }\n",
       "\n",
       "    .dataframe tbody tr th {\n",
       "        vertical-align: top;\n",
       "    }\n",
       "\n",
       "    .dataframe thead th {\n",
       "        text-align: right;\n",
       "    }\n",
       "</style>\n",
       "<table border=\"1\" class=\"dataframe\">\n",
       "  <thead>\n",
       "    <tr style=\"text-align: right;\">\n",
       "      <th></th>\n",
       "      <th>Unnamed: 0</th>\n",
       "      <th>POS_tag</th>\n",
       "      <th>mean_importance_score</th>\n",
       "    </tr>\n",
       "  </thead>\n",
       "  <tbody>\n",
       "    <tr>\n",
       "      <th>0</th>\n",
       "      <td>0</td>\n",
       "      <td>ADJ</td>\n",
       "      <td>0.034743</td>\n",
       "    </tr>\n",
       "    <tr>\n",
       "      <th>1</th>\n",
       "      <td>1</td>\n",
       "      <td>PRON</td>\n",
       "      <td>0.070356</td>\n",
       "    </tr>\n",
       "    <tr>\n",
       "      <th>2</th>\n",
       "      <td>2</td>\n",
       "      <td>NOUN</td>\n",
       "      <td>0.008439</td>\n",
       "    </tr>\n",
       "    <tr>\n",
       "      <th>3</th>\n",
       "      <td>3</td>\n",
       "      <td>VERB</td>\n",
       "      <td>0.006776</td>\n",
       "    </tr>\n",
       "    <tr>\n",
       "      <th>4</th>\n",
       "      <td>4</td>\n",
       "      <td>ADV</td>\n",
       "      <td>0.042492</td>\n",
       "    </tr>\n",
       "    <tr>\n",
       "      <th>5</th>\n",
       "      <td>5</td>\n",
       "      <td>PROPN</td>\n",
       "      <td>0.013973</td>\n",
       "    </tr>\n",
       "    <tr>\n",
       "      <th>6</th>\n",
       "      <td>6</td>\n",
       "      <td>DET</td>\n",
       "      <td>0.124886</td>\n",
       "    </tr>\n",
       "    <tr>\n",
       "      <th>7</th>\n",
       "      <td>7</td>\n",
       "      <td>PUNC</td>\n",
       "      <td>0.524175</td>\n",
       "    </tr>\n",
       "    <tr>\n",
       "      <th>8</th>\n",
       "      <td>8</td>\n",
       "      <td>AUX</td>\n",
       "      <td>0.270679</td>\n",
       "    </tr>\n",
       "    <tr>\n",
       "      <th>9</th>\n",
       "      <td>9</td>\n",
       "      <td>ADP</td>\n",
       "      <td>0.136549</td>\n",
       "    </tr>\n",
       "  </tbody>\n",
       "</table>\n",
       "</div>"
      ],
      "text/plain": [
       "   Unnamed: 0 POS_tag  mean_importance_score\n",
       "0           0     ADJ               0.034743\n",
       "1           1    PRON               0.070356\n",
       "2           2    NOUN               0.008439\n",
       "3           3    VERB               0.006776\n",
       "4           4     ADV               0.042492\n",
       "5           5   PROPN               0.013973\n",
       "6           6     DET               0.124886\n",
       "7           7    PUNC               0.524175\n",
       "8           8     AUX               0.270679\n",
       "9           9     ADP               0.136549"
      ]
     },
     "execution_count": 20,
     "metadata": {},
     "output_type": "execute_result"
    }
   ],
   "source": [
    "twitter_rac_pos_ig_df.head(10)"
   ]
  },
  {
   "cell_type": "code",
   "execution_count": 21,
   "metadata": {},
   "outputs": [
    {
     "data": {
      "text/html": [
       "<div>\n",
       "<style scoped>\n",
       "    .dataframe tbody tr th:only-of-type {\n",
       "        vertical-align: middle;\n",
       "    }\n",
       "\n",
       "    .dataframe tbody tr th {\n",
       "        vertical-align: top;\n",
       "    }\n",
       "\n",
       "    .dataframe thead th {\n",
       "        text-align: right;\n",
       "    }\n",
       "</style>\n",
       "<table border=\"1\" class=\"dataframe\">\n",
       "  <thead>\n",
       "    <tr style=\"text-align: right;\">\n",
       "      <th></th>\n",
       "      <th>Unnamed: 0</th>\n",
       "      <th>POS_tag</th>\n",
       "      <th>mean_importance_score</th>\n",
       "    </tr>\n",
       "  </thead>\n",
       "  <tbody>\n",
       "    <tr>\n",
       "      <th>0</th>\n",
       "      <td>0</td>\n",
       "      <td>ADJ</td>\n",
       "      <td>0.006465</td>\n",
       "    </tr>\n",
       "    <tr>\n",
       "      <th>1</th>\n",
       "      <td>1</td>\n",
       "      <td>PRON</td>\n",
       "      <td>0.057216</td>\n",
       "    </tr>\n",
       "    <tr>\n",
       "      <th>2</th>\n",
       "      <td>2</td>\n",
       "      <td>NOUN</td>\n",
       "      <td>0.004070</td>\n",
       "    </tr>\n",
       "    <tr>\n",
       "      <th>3</th>\n",
       "      <td>3</td>\n",
       "      <td>VERB</td>\n",
       "      <td>0.007651</td>\n",
       "    </tr>\n",
       "    <tr>\n",
       "      <th>4</th>\n",
       "      <td>4</td>\n",
       "      <td>ADV</td>\n",
       "      <td>0.011863</td>\n",
       "    </tr>\n",
       "    <tr>\n",
       "      <th>5</th>\n",
       "      <td>5</td>\n",
       "      <td>PROPN</td>\n",
       "      <td>0.004939</td>\n",
       "    </tr>\n",
       "    <tr>\n",
       "      <th>6</th>\n",
       "      <td>6</td>\n",
       "      <td>DET</td>\n",
       "      <td>0.019501</td>\n",
       "    </tr>\n",
       "    <tr>\n",
       "      <th>7</th>\n",
       "      <td>7</td>\n",
       "      <td>PUNC</td>\n",
       "      <td>0.113171</td>\n",
       "    </tr>\n",
       "    <tr>\n",
       "      <th>8</th>\n",
       "      <td>8</td>\n",
       "      <td>AUX</td>\n",
       "      <td>0.325948</td>\n",
       "    </tr>\n",
       "    <tr>\n",
       "      <th>9</th>\n",
       "      <td>9</td>\n",
       "      <td>ADP</td>\n",
       "      <td>0.009281</td>\n",
       "    </tr>\n",
       "  </tbody>\n",
       "</table>\n",
       "</div>"
      ],
      "text/plain": [
       "   Unnamed: 0 POS_tag  mean_importance_score\n",
       "0           0     ADJ               0.006465\n",
       "1           1    PRON               0.057216\n",
       "2           2    NOUN               0.004070\n",
       "3           3    VERB               0.007651\n",
       "4           4     ADV               0.011863\n",
       "5           5   PROPN               0.004939\n",
       "6           6     DET               0.019501\n",
       "7           7    PUNC               0.113171\n",
       "8           8     AUX               0.325948\n",
       "9           9     ADP               0.009281"
      ]
     },
     "execution_count": 21,
     "metadata": {},
     "output_type": "execute_result"
    }
   ],
   "source": [
    "wtp_tox_pos_ig_df.head(10)"
   ]
  },
  {
   "cell_type": "markdown",
   "metadata": {},
   "source": [
    "## wTP-agg vs WTP-tox"
   ]
  },
  {
   "cell_type": "code",
   "execution_count": 22,
   "metadata": {},
   "outputs": [
    {
     "data": {
      "text/plain": [
       "WilcoxonResult(statistic=9.0, pvalue=0.064453125)"
      ]
     },
     "execution_count": 22,
     "metadata": {},
     "output_type": "execute_result"
    }
   ],
   "source": [
    "stats.wilcoxon(wtp_tox_pos_ig_df.mean_importance_score, wtp_agg_pos_ig_df.mean_importance_score)"
   ]
  },
  {
   "cell_type": "markdown",
   "metadata": {},
   "source": [
    "## WTP-tox vs twitter-rac"
   ]
  },
  {
   "cell_type": "code",
   "execution_count": 23,
   "metadata": {},
   "outputs": [
    {
     "data": {
      "text/plain": [
       "WilcoxonResult(statistic=8.0, pvalue=0.048828125)"
      ]
     },
     "execution_count": 23,
     "metadata": {},
     "output_type": "execute_result"
    }
   ],
   "source": [
    "stats.wilcoxon(wtp_tox_pos_ig_df.mean_importance_score, twitter_rac_pos_ig_df.mean_importance_score)"
   ]
  },
  {
   "cell_type": "markdown",
   "metadata": {},
   "source": [
    "## WTP-tox vs twitter-sex"
   ]
  },
  {
   "cell_type": "code",
   "execution_count": 24,
   "metadata": {},
   "outputs": [
    {
     "data": {
      "text/plain": [
       "WilcoxonResult(statistic=0.0, pvalue=0.001953125)"
      ]
     },
     "execution_count": 24,
     "metadata": {},
     "output_type": "execute_result"
    }
   ],
   "source": [
    "stats.wilcoxon(wtp_tox_pos_ig_df.mean_importance_score, twitter_sex_pos_ig_df.mean_importance_score)"
   ]
  },
  {
   "cell_type": "markdown",
   "metadata": {},
   "source": [
    "## WTP-tox vs ATP-agg"
   ]
  },
  {
   "cell_type": "markdown",
   "metadata": {},
   "source": [
    "## WTP-agg vs twitter-rac"
   ]
  },
  {
   "cell_type": "code",
   "execution_count": 25,
   "metadata": {},
   "outputs": [
    {
     "data": {
      "text/plain": [
       "WilcoxonResult(statistic=0.0, pvalue=0.001953125)"
      ]
     },
     "execution_count": 25,
     "metadata": {},
     "output_type": "execute_result"
    }
   ],
   "source": [
    "stats.wilcoxon(wtp_agg_pos_ig_df.mean_importance_score, twitter_rac_pos_ig_df.mean_importance_score)"
   ]
  },
  {
   "cell_type": "markdown",
   "metadata": {},
   "source": [
    "## wTP-agg vs twitter-sex"
   ]
  },
  {
   "cell_type": "code",
   "execution_count": 26,
   "metadata": {},
   "outputs": [
    {
     "data": {
      "text/plain": [
       "WilcoxonResult(statistic=0.0, pvalue=0.001953125)"
      ]
     },
     "execution_count": 26,
     "metadata": {},
     "output_type": "execute_result"
    }
   ],
   "source": [
    "stats.wilcoxon(wtp_agg_pos_ig_df.mean_importance_score, twitter_sex_pos_ig_df.mean_importance_score)"
   ]
  },
  {
   "cell_type": "markdown",
   "metadata": {},
   "source": [
    "## twitter-racism vs twitter-sex"
   ]
  },
  {
   "cell_type": "code",
   "execution_count": 27,
   "metadata": {},
   "outputs": [
    {
     "data": {
      "text/plain": [
       "WilcoxonResult(statistic=26.0, pvalue=0.921875)"
      ]
     },
     "execution_count": 27,
     "metadata": {},
     "output_type": "execute_result"
    }
   ],
   "source": [
    "stats.wilcoxon(twitter_rac_pos_ig_df.mean_importance_score, twitter_sex_pos_ig_df.mean_importance_score)"
   ]
  },
  {
   "cell_type": "markdown",
   "metadata": {},
   "source": [
    "## Kaggle insults vs WTP-agg"
   ]
  },
  {
   "cell_type": "code",
   "execution_count": 28,
   "metadata": {},
   "outputs": [
    {
     "data": {
      "text/plain": [
       "WilcoxonResult(statistic=0.0, pvalue=0.001953125)"
      ]
     },
     "execution_count": 28,
     "metadata": {},
     "output_type": "execute_result"
    }
   ],
   "source": [
    "stats.wilcoxon(wtp_agg_pos_ig_df.mean_importance_score, kaggle_pos_ig_df.mean_importance_score)"
   ]
  },
  {
   "cell_type": "markdown",
   "metadata": {},
   "source": [
    "## kaggle vs WTP-tox"
   ]
  },
  {
   "cell_type": "code",
   "execution_count": 29,
   "metadata": {},
   "outputs": [
    {
     "data": {
      "text/plain": [
       "WilcoxonResult(statistic=0.0, pvalue=0.001953125)"
      ]
     },
     "execution_count": 29,
     "metadata": {},
     "output_type": "execute_result"
    }
   ],
   "source": [
    "stats.wilcoxon(wtp_tox_pos_ig_df.mean_importance_score, kaggle_pos_ig_df.mean_importance_score)"
   ]
  },
  {
   "cell_type": "markdown",
   "metadata": {},
   "source": [
    "## kaggle vs Twitter-rac"
   ]
  },
  {
   "cell_type": "code",
   "execution_count": 30,
   "metadata": {},
   "outputs": [
    {
     "data": {
      "text/plain": [
       "WilcoxonResult(statistic=25.0, pvalue=0.845703125)"
      ]
     },
     "execution_count": 30,
     "metadata": {},
     "output_type": "execute_result"
    }
   ],
   "source": [
    "stats.wilcoxon(twitter_rac_pos_ig_df.mean_importance_score, kaggle_pos_ig_df.mean_importance_score)"
   ]
  },
  {
   "cell_type": "markdown",
   "metadata": {},
   "source": [
    "## kaggle vs twitter-sex"
   ]
  },
  {
   "cell_type": "code",
   "execution_count": 31,
   "metadata": {},
   "outputs": [
    {
     "data": {
      "text/plain": [
       "WilcoxonResult(statistic=21.0, pvalue=0.556640625)"
      ]
     },
     "execution_count": 31,
     "metadata": {},
     "output_type": "execute_result"
    }
   ],
   "source": [
    "stats.wilcoxon(twitter_sex_pos_ig_df.mean_importance_score, kaggle_pos_ig_df.mean_importance_score)"
   ]
  },
  {
   "cell_type": "markdown",
   "metadata": {},
   "source": [
    "## friedman test"
   ]
  },
  {
   "cell_type": "code",
   "execution_count": 32,
   "metadata": {},
   "outputs": [
    {
     "data": {
      "text/plain": [
       "FriedmanchisquareResult(statistic=20.639999999999986, pvalue=0.0001250447794753776)"
      ]
     },
     "execution_count": 32,
     "metadata": {},
     "output_type": "execute_result"
    }
   ],
   "source": [
    "stats.friedmanchisquare(twitter_rac_pos_ig_df.mean_importance_score, twitter_sex_pos_ig_df.mean_importance_score, \n",
    "                      wtp_agg_pos_ig_df.mean_importance_score, wtp_tox_pos_ig_df.mean_importance_score )"
   ]
  },
  {
   "cell_type": "code",
   "execution_count": 33,
   "metadata": {},
   "outputs": [
    {
     "data": {
      "text/plain": [
       "Index(['Unnamed: 0', 'POS_tag', 'mean_importance_score'], dtype='object')"
      ]
     },
     "execution_count": 33,
     "metadata": {},
     "output_type": "execute_result"
    }
   ],
   "source": [
    "kaggle_pos_ig_df.columns"
   ]
  },
  {
   "cell_type": "code",
   "execution_count": 34,
   "metadata": {},
   "outputs": [
    {
     "name": "stderr",
     "output_type": "stream",
     "text": [
      "The PostScript backend does not support transparency; partially transparent artists will be rendered opaque.\n",
      "The PostScript backend does not support transparency; partially transparent artists will be rendered opaque.\n"
     ]
    },
    {
     "data": {
      "image/png": "[encoded data removed]",
      "text/plain": [
       "<Figure size 432x252 with 1 Axes>"
      ]
     },
     "metadata": {
      "needs_background": "light"
     },
     "output_type": "display_data"
    }
   ],
   "source": [
    "plt.subplots(figsize=(6, 3.5))\n",
    "plt.plot(kaggle_pos_ig_df.POS_tag,kaggle_pos_ig_df.mean_importance_score, label=\"Kaggle-insults\")\n",
    "plt.plot(twitter_rac_pos_ig_df.POS_tag,twitter_rac_pos_ig_df.mean_importance_score, label=\"Twitter-racism\")\n",
    "plt.plot(twitter_sex_pos_ig_df.POS_tag,twitter_sex_pos_ig_df.mean_importance_score, label=\"Twitter-sexism\")\n",
    "plt.plot(wtp_agg_pos_ig_df.POS_tag,wtp_agg_pos_ig_df.mean_importance_score, label=\"WTP-agg\")\n",
    "plt.plot(wtp_tox_pos_ig_df.POS_tag,wtp_tox_pos_ig_df.mean_importance_score,label= \"WTP-tox\")\n",
    "\n",
    "plt.ylabel(\"Mean attribution (importance) score\", fontsize=14)\n",
    "plt.xlabel(\"POS tags\",fontsize=14)\n",
    "plt.xticks(fontsize=12)\n",
    "plt.yticks(fontsize=12)\n",
    "plt.legend(loc='upper left',fontsize=9, ncol=1)\n",
    "plt.savefig(\"pos-tags.eps\",format='eps',bbox_inches='tight')"
   ]
  },
  {
   "cell_type": "markdown",
   "metadata": {},
   "source": [
    "## plotting POS tags seperately"
   ]
  },
  {
   "cell_type": "markdown",
   "metadata": {},
   "source": [
    "## read POS files"
   ]
  },
  {
   "cell_type": "code",
   "execution_count": 42,
   "metadata": {},
   "outputs": [],
   "source": [
    "kaggle_adj_ig_df = pd.read_csv(\"kaggle_adj_tags_importance_scores_df.csv\",index_col=False)\n",
    "twitter_rac_adj_ig_df = pd.read_csv(\"twitter_rac_adj_tags_importance_scores_df.csv\",index_col=False)\n",
    "twitter_sex_adj_ig_df = pd.read_csv(\"twitter_sex_adj_tags_importance_scores_df.csv\",index_col=False)\n",
    "wtp_agg_adj_ig_df = pd.read_csv(\"wtp-agg_adj_tags_importance_scores_df.csv\",index_col=False)\n",
    "wtp_tox_adj_ig_df = pd.read_csv(\"wtp-tox_adj_tags_importance_scores_df.csv\",index_col=False)\n",
    "\n",
    "kaggle_pron_ig_df = pd.read_csv(\"kaggle_pron_tags_importance_scores_df.csv\",index_col=False)\n",
    "twitter_rac_pron_ig_df = pd.read_csv(\"twitter_rac_pron_tags_importance_scores_df.csv\",index_col=False)\n",
    "twitter_sex_pron_ig_df = pd.read_csv(\"twitter_sex_pron_tags_importance_scores_df.csv\",index_col=False)\n",
    "wtp_agg_pron_ig_df = pd.read_csv(\"wtp-agg_pron_tags_importance_scores_df.csv\",index_col=False)\n",
    "wtp_tox_pron_ig_df = pd.read_csv(\"wtp-tox_pron_tags_importance_scores_df.csv\",index_col=False)\n",
    "\n",
    "kaggle_noun_ig_df = pd.read_csv(\"kaggle_noun_tags_importance_scores_df.csv\",index_col=False)\n",
    "twitter_rac_noun_ig_df = pd.read_csv(\"twitter_rac_noun_tags_importance_scores_df.csv\",index_col=False)\n",
    "twitter_sex_noun_ig_df = pd.read_csv(\"twitter_sex_noun_tags_importance_scores_df.csv\",index_col=False)\n",
    "wtp_agg_noun_ig_df = pd.read_csv(\"wtp-agg_noun_tags_importance_scores_df.csv\",index_col=False)\n",
    "wtp_tox_noun_ig_df = pd.read_csv(\"wtp-tox_noun_tags_importance_scores_df.csv\",index_col=False)\n",
    "\n",
    "kaggle_verb_ig_df = pd.read_csv(\"kaggle_verb_tags_importance_scores_df.csv\",index_col=False)\n",
    "twitter_rac_verb_ig_df = pd.read_csv(\"twitter_rac_verb_tags_importance_scores_df.csv\",index_col=False)\n",
    "twitter_sex_verb_ig_df = pd.read_csv(\"twitter_sex_verb_tags_importance_scores_df.csv\",index_col=False)\n",
    "wtp_agg_verb_ig_df = pd.read_csv(\"wtp-agg_verb_tags_importance_scores_df.csv\",index_col=False)\n",
    "wtp_tox_verb_ig_df = pd.read_csv(\"wtp-tox_verb_tags_importance_scores_df.csv\",index_col=False)\n",
    "\n",
    "kaggle_adv_ig_df = pd.read_csv(\"kaggle_adv_tags_importance_scores_df.csv\",index_col=False)\n",
    "twitter_rac_adv_ig_df = pd.read_csv(\"twitter_rac_adv_tags_importance_scores_df.csv\",index_col=False)\n",
    "twitter_sex_adv_ig_df = pd.read_csv(\"twitter_sex_adv_tags_importance_scores_df.csv\",index_col=False)\n",
    "wtp_agg_adv_ig_df = pd.read_csv(\"wtp-agg_adv_tags_importance_scores_df.csv\",index_col=False)\n",
    "wtp_tox_adv_ig_df = pd.read_csv(\"wtp-tox_adv_tags_importance_scores_df.csv\",index_col=False)\n",
    "\n",
    "kaggle_propn_ig_df = pd.read_csv(\"kaggle_propn_tags_importance_scores_df.csv\",index_col=False)\n",
    "twitter_rac_propn_ig_df = pd.read_csv(\"twitter_rac_propn_tags_importance_scores_df.csv\",index_col=False)\n",
    "twitter_sex_propn_ig_df = pd.read_csv(\"twitter_sex_propn_tags_importance_scores_df.csv\",index_col=False)\n",
    "wtp_agg_propn_ig_df = pd.read_csv(\"wtp-agg_propn_tags_importance_scores_df.csv\",index_col=False)\n",
    "wtp_tox_propn_ig_df = pd.read_csv(\"wtp-tox_propn_tags_importance_scores_df.csv\",index_col=False)\n",
    "\n",
    "kaggle_det_ig_df = pd.read_csv(\"kaggle_det_tags_importance_scores_df.csv\",index_col=False)\n",
    "twitter_rac_det_ig_df = pd.read_csv(\"twitter_rac_det_tags_importance_scores_df.csv\",index_col=False)\n",
    "twitter_sex_det_ig_df = pd.read_csv(\"twitter_sex_det_tags_importance_scores_df.csv\",index_col=False)\n",
    "wtp_agg_det_ig_df = pd.read_csv(\"wtp-agg_det_tags_importance_scores_df.csv\",index_col=False)\n",
    "wtp_tox_det_ig_df = pd.read_csv(\"wtp-tox_det_tags_importance_scores_df.csv\",index_col=False)\n",
    "\n",
    "kaggle_punc_ig_df = pd.read_csv(\"kaggle_punc_tags_importance_scores_df.csv\",index_col=False)\n",
    "twitter_rac_punc_ig_df = pd.read_csv(\"twitter_rac_punc_tags_importance_scores_df.csv\",index_col=False)\n",
    "twitter_sex_punc_ig_df = pd.read_csv(\"twitter_sex_punc_tags_importance_scores_df.csv\",index_col=False)\n",
    "wtp_agg_punc_ig_df = pd.read_csv(\"wtp-agg_punc_tags_importance_scores_df.csv\",index_col=False)\n",
    "wtp_tox_punc_ig_df = pd.read_csv(\"wtp-tox_punc_tags_importance_scores_df.csv\",index_col=False)\n",
    "\n",
    "kaggle_aux_ig_df = pd.read_csv(\"kaggle_aux_tags_importance_scores_df.csv\",index_col=False)\n",
    "twitter_rac_aux_ig_df = pd.read_csv(\"twitter_rac_aux_tags_importance_scores_df.csv\",index_col=False)\n",
    "twitter_sex_aux_ig_df = pd.read_csv(\"twitter_sex_aux_tags_importance_scores_df.csv\",index_col=False)\n",
    "wtp_agg_aux_ig_df = pd.read_csv(\"wtp-agg_aux_tags_importance_scores_df.csv\",index_col=False)\n",
    "wtp_tox_aux_ig_df = pd.read_csv(\"wtp-tox_aux_tags_importance_scores_df.csv\",index_col=False)\n",
    "\n",
    "kaggle_adp_ig_df = pd.read_csv(\"kaggle_adp_tags_importance_scores_df.csv\",index_col=False)\n",
    "twitter_rac_adp_ig_df = pd.read_csv(\"twitter_rac_adp_tags_importance_scores_df.csv\",index_col=False)\n",
    "twitter_sex_adp_ig_df = pd.read_csv(\"twitter_sex_adp_tags_importance_scores_df.csv\",index_col=False)\n",
    "wtp_agg_adp_ig_df = pd.read_csv(\"wtp-agg_adp_tags_importance_scores_df.csv\",index_col=False)\n",
    "wtp_tox_adp_ig_df = pd.read_csv(\"wtp-tox_adp_tags_importance_scores_df.csv\",index_col=False)"
   ]
  },
  {
   "cell_type": "code",
   "execution_count": 40,
   "metadata": {},
   "outputs": [
    {
     "data": {
      "text/plain": [
       "RangeIndex(start=0, stop=4230, step=1)"
      ]
     },
     "execution_count": 40,
     "metadata": {},
     "output_type": "execute_result"
    }
   ],
   "source": [
    "kaggle_adj_ig_df.index"
   ]
  },
  {
   "cell_type": "code",
   "execution_count": 63,
   "metadata": {},
   "outputs": [
    {
     "data": {
      "image/png": "[encoded data removed]",
      "text/plain": [
       "<Figure size 720x288 with 10 Axes>"
      ]
     },
     "metadata": {
      "needs_background": "light"
     },
     "output_type": "display_data"
    }
   ],
   "source": [
    "fig, axs = plt.subplots(figsize=(10, 4),ncols=5, nrows=2)\n",
    "axs[0, 0].scatter(kaggle_adj_ig_df.index, kaggle_adj_ig_df.adj_attribution, marker=\"o\", label=\"kaggle\", alpha=.3)\n",
    "axs[0, 0].scatter(twitter_rac_adj_ig_df.index, twitter_rac_adj_ig_df.adj_attribution, marker=\"x\", label=\"twitter-rac\", alpha=.3)\n",
    "axs[0, 0].scatter(twitter_sex_adj_ig_df.index, twitter_sex_adj_ig_df.adj_attribution, marker=\"v\", label=\"twitter-sex\", alpha=.3)\n",
    "axs[0, 0].scatter(wtp_agg_adj_ig_df.index, wtp_agg_adj_ig_df.adj_attribution, marker=\"^\", label=\"wtp-agg\", alpha=.3)\n",
    "axs[0, 0].scatter(wtp_tox_adj_ig_df.index, wtp_tox_adj_ig_df.adj_attribution, marker=\"<\", label=\"wtp-tox\", alpha=.3)\n",
    "axs[0, 0].set_title(\"adj tags\")\n",
    "axs[0, 0].set_xscale('log')\n",
    "#axs[0, 0].legend()\n",
    "axs[0, 1].scatter(kaggle_pron_ig_df.index, kaggle_pron_ig_df.pron_attribution, marker=\"o\", label=\"kaggle\", alpha=.3)\n",
    "axs[0, 1].scatter(twitter_rac_pron_ig_df.index, twitter_rac_pron_ig_df.pron_attribution, marker=\"x\", label=\"twitter-rac\", alpha=.3)\n",
    "axs[0, 1].scatter(twitter_sex_pron_ig_df.index, twitter_sex_pron_ig_df.pron_attribution, marker=\"v\", label=\"twitter-sex\", alpha=.3)\n",
    "axs[0, 1].scatter(wtp_agg_pron_ig_df.index, wtp_agg_pron_ig_df.pron_attribution, marker=\"^\", label=\"wtp-agg\", alpha=.3)\n",
    "axs[0, 1].scatter(wtp_tox_pron_ig_df.index, wtp_tox_pron_ig_df.pron_attribution, marker=\"<\", label=\"wtp-tox\", alpha=.3)\n",
    "axs[0, 1].set_title(\"pronoun tags\")\n",
    "axs[0, 1].set_xscale('log')\n",
    "#axs[0, 1].legend()\n",
    "axs[0, 2].scatter(kaggle_noun_ig_df.index, kaggle_noun_ig_df.noun_attribution, marker=\"o\", label=\"kaggle\", alpha=.3)\n",
    "axs[0, 2].scatter(twitter_rac_noun_ig_df.index, twitter_rac_noun_ig_df.noun_attribution, marker=\"x\", label=\"twitter-rac\", alpha=.3)\n",
    "axs[0, 2].scatter(twitter_sex_noun_ig_df.index, twitter_sex_noun_ig_df.noun_attribution, marker=\"v\", label=\"twitter-sex\", alpha=.3)\n",
    "axs[0, 2].scatter(wtp_agg_noun_ig_df.index, wtp_agg_noun_ig_df.noun_attribution, marker=\"^\", label=\"wtp-agg\", alpha=.3)\n",
    "axs[0, 2].scatter(wtp_tox_noun_ig_df.index, wtp_tox_noun_ig_df.noun_attribution, marker=\"<\", label=\"wtp-tox\", alpha=.3)\n",
    "axs[0, 2].set_title(\"noun tags\")\n",
    "axs[0, 2].set_xscale('log')\n",
    "#axs[0, 2].legend()\n",
    "fig.tight_layout()"
   ]
  },
  {
   "cell_type": "code",
   "execution_count": 156,
   "metadata": {},
   "outputs": [
    {
     "data": {
      "image/png": "[encoded data removed]",
      "text/plain": [
       "<Figure size 1800x360 with 10 Axes>"
      ]
     },
     "metadata": {
      "needs_background": "light"
     },
     "output_type": "display_data"
    }
   ],
   "source": [
    "bbox_fig, axs = plt.subplots(figsize=(25, 5),ncols=5, nrows=2, sharex=True, sharey=True)\n",
    "bbox_fig.text(0.5, 0.04, 'Distribution', ha='center', fontsize=14)\n",
    "bbox_fig.text(0.00, 0.5, 'Avg. importance score', va='center', rotation='vertical', fontsize=14)\n",
    "adj_coll = [kaggle_adj_ig_df.adj_attribution, \n",
    "           twitter_rac_adj_ig_df.adj_attribution,\n",
    "           twitter_sex_adj_ig_df.adj_attribution,\n",
    "           wtp_agg_adj_ig_df.adj_attribution,\n",
    "           wtp_tox_adj_ig_df.adj_attribution]\n",
    "adj_box = axs[0, 0].boxplot(adj_coll, meanline=True,notch=True, patch_artist=True)\n",
    "colors = ['#0000FF', '#00FF00','#FFFF00', '#FF00FF','#FFFFFF']\n",
    "labels=[\"kaggle\", \"twitter-rac\",\"twitter-sex\",\"wtp-agg\", \"wtp-tox\"]\n",
    "\n",
    "for patch, color, label in zip(adj_box['boxes'], colors, labels):\n",
    "    patch.set_facecolor(color)\n",
    "    patch.set_label(label)\n",
    "axs[0, 0].set_title(\"adj tags\", fontsize=18)\n",
    "axs[0, 0].set_xscale('log')\n",
    "axs[0, 0].tick_params(axis=\"x\", labelsize=14)\n",
    "axs[0, 0].tick_params(axis=\"y\", labelsize=14)\n",
    "#axs[0, 0].legend([adj_box[\"boxes\"][0],\n",
    "               #   adj_box[\"boxes\"][1],\n",
    "               #   adj_box[\"boxes\"][2],\n",
    "                #  adj_box[\"boxes\"][3],\n",
    "                #  adj_box[\"boxes\"][4]],\n",
    "                #  [\"kaggle\", \"twitter-rac\",\"twitter-sex\",\"wtp-agg\", \"wtp-tox\"], loc=\"upper left\",fontsize=12)\n",
    "\n",
    "##############################################################################################################\n",
    "pron_coll = [kaggle_pron_ig_df.pron_attribution,\n",
    "            twitter_rac_pron_ig_df.pron_attribution,\n",
    "            twitter_sex_pron_ig_df.pron_attribution,\n",
    "            wtp_agg_pron_ig_df.pron_attribution,\n",
    "            wtp_tox_pron_ig_df.pron_attribution]\n",
    "\n",
    "pron_box = axs[0, 1].boxplot(pron_coll, meanline=True,notch=True, patch_artist=True)\n",
    "colors = ['#0000FF', '#00FF00','#FFFF00', '#FF00FF','#FFFFFF']\n",
    "labels=[\"kaggle\", \"twitter-rac\",\"twitter-sex\",\"wtp-agg\", \"wtp-tox\"]\n",
    "\n",
    "for patch, color, label in zip(pron_box['boxes'], colors, labels):\n",
    "    patch.set_facecolor(color)\n",
    "    patch.set_label(label)\n",
    "axs[0, 1].set_title(\"pron tags\", fontsize=18)\n",
    "axs[0, 1].set_xscale('log')\n",
    "axs[0, 1].tick_params(axis=\"x\", labelsize=14)\n",
    "axs[0, 1].tick_params(axis=\"y\", labelsize=14)\n",
    "#axs[0, 1].legend([pron_box[\"boxes\"][0],\n",
    "              #    pron_box[\"boxes\"][1],\n",
    "               #   pron_box[\"boxes\"][2],\n",
    "               #   pron_box[\"boxes\"][3],\n",
    "               #   pron_box[\"boxes\"][4]],\n",
    "                #  [\"kaggle\", \"twitter-rac\",\"twitter-sex\",\"wtp-agg\", \"wtp-tox\"], loc=\"upper left\", fontsize=12)\n",
    "\n",
    "\n",
    "######################################################################################################\n",
    "noun_coll = [kaggle_noun_ig_df.noun_attribution,\n",
    "             twitter_rac_noun_ig_df.noun_attribution,\n",
    "             twitter_sex_noun_ig_df.noun_attribution,\n",
    "             wtp_agg_noun_ig_df.noun_attribution,\n",
    "             wtp_tox_noun_ig_df.noun_attribution]\n",
    "noun_box = axs[0, 2].boxplot(noun_coll, meanline=True,notch=True, patch_artist=True)\n",
    "colors = ['#0000FF', '#00FF00','#FFFF00', '#FF00FF','#FFFFFF']\n",
    "labels=[\"kaggle\", \"twitter-rac\",\"twitter-sex\",\"wtp-agg\", \"wtp-tox\"]\n",
    "\n",
    "for patch, color, label in zip(noun_box['boxes'], colors, labels):\n",
    "    patch.set_facecolor(color)\n",
    "    patch.set_label(label)\n",
    "axs[0, 2].set_title(\"noun tags\",fontsize=18)\n",
    "axs[0, 2].set_xscale('log')\n",
    "axs[0, 2].tick_params(axis=\"x\", labelsize=14)\n",
    "axs[0, 2].tick_params(axis=\"y\", labelsize=14)\n",
    "#axs[0, 2].legend([noun_box[\"boxes\"][0],\n",
    "              #    noun_box[\"boxes\"][1],\n",
    "               #   noun_box[\"boxes\"][2],\n",
    "               #   noun_box[\"boxes\"][3],\n",
    "               #   noun_box[\"boxes\"][4]],\n",
    "               #   [\"kaggle\", \"twitter-rac\",\"twitter-sex\",\"wtp-agg\", \"wtp-tox\"], loc=\"upper left\", fontsize=12)\n",
    "\n",
    "################################################################################################################\n",
    "verb_coll = [kaggle_verb_ig_df.verb_attribution,\n",
    "             twitter_rac_verb_ig_df.verb_attribution,\n",
    "             twitter_sex_verb_ig_df.verb_attribution,\n",
    "             wtp_agg_verb_ig_df.verb_attribution,\n",
    "             wtp_tox_verb_ig_df.verb_attribution]\n",
    "verb_box = axs[0, 3].boxplot(verb_coll, meanline=True,notch=True, patch_artist=True)\n",
    "colors = ['#0000FF', '#00FF00','#FFFF00', '#FF00FF','#FFFFFF']\n",
    "labels=[\"kaggle\", \"twitter-rac\",\"twitter-sex\",\"wtp-agg\", \"wtp-tox\"]\n",
    "\n",
    "for patch, color, label in zip(verb_box['boxes'], colors, labels):\n",
    "    patch.set_facecolor(color)\n",
    "    patch.set_label(label)\n",
    "axs[0, 3].set_title(\"verb tags\",fontsize=18)\n",
    "axs[0, 3].set_xscale('log')\n",
    "axs[0, 3].tick_params(axis=\"x\", labelsize=14)\n",
    "axs[0, 3].tick_params(axis=\"y\", labelsize=14)\n",
    "#axs[0, 3].legend([verb_box[\"boxes\"][0],\n",
    "              #    verb_box[\"boxes\"][1],\n",
    "              #    verb_box[\"boxes\"][2],\n",
    "              #    verb_box[\"boxes\"][3],\n",
    "              #    verb_box[\"boxes\"][4]],\n",
    "              #    [\"kaggle\", \"twitter-rac\",\"twitter-sex\",\"wtp-agg\", \"wtp-tox\"], loc=\"upper left\",fontsize=12)\n",
    "#\n",
    "##############################################################################################################\n",
    "adv_coll = [kaggle_adv_ig_df.adv_attribution,\n",
    "             twitter_rac_adv_ig_df.adv_attribution,\n",
    "             twitter_sex_adv_ig_df.adv_attribution,\n",
    "             wtp_agg_adv_ig_df.adv_attribution,\n",
    "             wtp_tox_adv_ig_df.adv_attribution]\n",
    "adv_box = axs[0, 4].boxplot(adv_coll, meanline=True,notch=True, patch_artist=True)\n",
    "colors = ['#0000FF', '#00FF00','#FFFF00', '#FF00FF','#FFFFFF']\n",
    "labels=[\"kaggle\", \"twitter-rac\",\"twitter-sex\",\"wtp-agg\", \"wtp-tox\"]\n",
    "\n",
    "for patch, color, label in zip(adv_box['boxes'], colors, labels):\n",
    "    patch.set_facecolor(color)\n",
    "    patch.set_label(label)\n",
    "axs[0, 4].set_title(\"adverb tags\",fontsize=18)\n",
    "axs[0, 4].set_xscale('log')\n",
    "axs[0, 4].tick_params(axis=\"x\", labelsize=14)\n",
    "axs[0, 4].tick_params(axis=\"y\", labelsize=14)\n",
    "axs[0, 4].legend([adv_box[\"boxes\"][0],\n",
    "                  adv_box[\"boxes\"][1],\n",
    "                  adv_box[\"boxes\"][2],\n",
    "                  adv_box[\"boxes\"][3],\n",
    "                  adv_box[\"boxes\"][4]],\n",
    "                  [\"kaggle\", \"twitter-rac\",\"twitter-sex\",\"wtp-agg\", \"wtp-tox\"], loc=\"upper left\",fontsize=12,bbox_to_anchor=(1.05, 1))\n",
    "\n",
    "#############################################################################################################\n",
    "propn_coll = [kaggle_propn_ig_df.propn_attribution,\n",
    "             twitter_rac_propn_ig_df.propn_attribution,\n",
    "             twitter_sex_propn_ig_df.propn_attribution,\n",
    "             wtp_agg_propn_ig_df.propn_attribution,\n",
    "             wtp_tox_propn_ig_df.propn_attribution]\n",
    "propn_box = axs[1, 0].boxplot(propn_coll, meanline=True,notch=True, patch_artist=True)\n",
    "colors = ['#0000FF', '#00FF00','#FFFF00', '#FF00FF','#FFFFFF']\n",
    "labels=[\"kaggle\", \"twitter-rac\",\"twitter-sex\",\"wtp-agg\", \"wtp-tox\"]\n",
    "\n",
    "for patch, color, label in zip(propn_box['boxes'], colors, labels):\n",
    "    patch.set_facecolor(color)\n",
    "    patch.set_label(label)\n",
    "axs[1, 0].set_title(\"propn tags\",fontsize=18)\n",
    "axs[1, 0].set_xscale('log')\n",
    "axs[1, 0].tick_params(axis=\"x\", labelsize=14)\n",
    "axs[1, 0].tick_params(axis=\"y\", labelsize=14)\n",
    "#axs[1, 0].legend([propn_box[\"boxes\"][0],\n",
    "              #    propn_box[\"boxes\"][1],\n",
    "              #    propn_box[\"boxes\"][2],\n",
    "               #   propn_box[\"boxes\"][3],\n",
    "               #   propn_box[\"boxes\"][4]],\n",
    "               #   [\"kaggle\", \"twitter-rac\",\"twitter-sex\",\"wtp-agg\", \"wtp-tox\"], loc=\"upper left\",fontsize=12)\n",
    "\n",
    "#############################################################################################################\n",
    "#############################################################################################################\n",
    "det_coll = [kaggle_det_ig_df.det_attribution,\n",
    "             twitter_rac_det_ig_df.det_attribution,\n",
    "             twitter_sex_det_ig_df.det_attribution,\n",
    "             wtp_agg_det_ig_df.det_attribution,\n",
    "             wtp_tox_det_ig_df.det_attribution]\n",
    "det_box = axs[1, 1].boxplot(det_coll, meanline=True,notch=True, patch_artist=True)\n",
    "colors = ['#0000FF', '#00FF00','#FFFF00', '#FF00FF','#FFFFFF']\n",
    "labels=[\"kaggle\", \"twitter-rac\",\"twitter-sex\",\"wtp-agg\", \"wtp-tox\"]\n",
    "\n",
    "for patch, color, label in zip(det_box['boxes'], colors, labels):\n",
    "    patch.set_facecolor(color)\n",
    "    patch.set_label(label)\n",
    "axs[1, 1].set_title(\"det tags\",fontsize=18)\n",
    "axs[1, 1].set_xscale('log')\n",
    "axs[1, 1].tick_params(axis=\"x\", labelsize=14)\n",
    "axs[1,1].tick_params(axis=\"y\", labelsize=14)\n",
    "#axs[1, 1].legend([det_box[\"boxes\"][0],\n",
    "             #     det_box[\"boxes\"][1],\n",
    "             #     det_box[\"boxes\"][2],\n",
    "              #    det_box[\"boxes\"][3],\n",
    "              #    det_box[\"boxes\"][4]],\n",
    "              #    [\"kaggle\", \"twitter-rac\",\"twitter-sex\",\"wtp-agg\", \"wtp-tox\"], loc=\"upper left\",fontsize=12)\n",
    "\n",
    "#############################################################################################################\n",
    "punc_coll = [kaggle_punc_ig_df.punc_attribution,\n",
    "             twitter_rac_punc_ig_df.punc_attribution,\n",
    "             twitter_sex_punc_ig_df.punc_attribution,\n",
    "             wtp_agg_punc_ig_df.punc_attribution,\n",
    "             wtp_tox_punc_ig_df.punc_attribution]\n",
    "punc_box = axs[1, 2].boxplot(punc_coll, meanline=True,notch=True, patch_artist=True)\n",
    "colors = ['#0000FF', '#00FF00','#FFFF00', '#FF00FF','#FFFFFF']\n",
    "labels=[\"kaggle\", \"twitter-rac\",\"twitter-sex\",\"wtp-agg\", \"wtp-tox\"]\n",
    "\n",
    "for patch, color, label in zip(punc_box['boxes'], colors, labels):\n",
    "    patch.set_facecolor(color)\n",
    "    patch.set_label(label)\n",
    "axs[1, 2].set_title(\"punc tags\",fontsize=18)\n",
    "axs[1, 2].set_xscale('log')\n",
    "axs[1, 2].tick_params(axis=\"x\", labelsize=14)\n",
    "axs[1, 2].tick_params(axis=\"y\", labelsize=14)\n",
    "#axs[1, 2].legend([punc_box[\"boxes\"][0],\n",
    "            #      punc_box[\"boxes\"][1],\n",
    "            #      punc_box[\"boxes\"][2],\n",
    "            #      punc_box[\"boxes\"][3],\n",
    "            #      punc_box[\"boxes\"][4]],\n",
    "              #    [\"kaggle\", \"twitter-rac\",\"twitter-sex\",\"wtp-agg\", \"wtp-tox\"], loc=\"upper left\",fontsize=12)\n",
    "\n",
    "#############################################################################################################\n",
    "aux_coll = [kaggle_aux_ig_df.aux_attribution,\n",
    "             twitter_rac_aux_ig_df.aux_attribution,\n",
    "             twitter_sex_aux_ig_df.aux_attribution,\n",
    "             wtp_agg_aux_ig_df.aux_attribution,\n",
    "             wtp_tox_aux_ig_df.aux_attribution]\n",
    "aux_box = axs[1, 3].boxplot(aux_coll, meanline=True,notch=True, patch_artist=True)\n",
    "colors = ['#0000FF', '#00FF00','#FFFF00', '#FF00FF','#FFFFFF']\n",
    "labels=[\"kaggle\", \"twitter-rac\",\"twitter-sex\",\"wtp-agg\", \"wtp-tox\"]\n",
    "\n",
    "for patch, color, label in zip(aux_box['boxes'], colors, labels):\n",
    "    patch.set_facecolor(color)\n",
    "    patch.set_label(label)\n",
    "axs[1, 3].set_title(\"aux tags\",fontsize=18)\n",
    "axs[1, 3].set_xscale('log')\n",
    "axs[1, 3].tick_params(axis=\"x\", labelsize=14)\n",
    "axs[1, 3].tick_params(axis=\"y\", labelsize=14)\n",
    "#axs[1, 3].legend([aux_box[\"boxes\"][0],\n",
    "          #        aux_box[\"boxes\"][1],\n",
    "          #        aux_box[\"boxes\"][2],\n",
    "            #      aux_box[\"boxes\"][3],\n",
    "           #       aux_box[\"boxes\"][4]],\n",
    "           #       [\"kaggle\", \"twitter-rac\",\"twitter-sex\",\"wtp-agg\", \"wtp-tox\"], loc=\"upper left\",fontsize=12)\n",
    "\n",
    "#############################################################################################################\n",
    "adp_coll = [kaggle_adp_ig_df.adp_attribution,\n",
    "             twitter_rac_adp_ig_df.adp_attribution,\n",
    "             twitter_sex_adp_ig_df.adp_attribution,\n",
    "             wtp_agg_adp_ig_df.adp_attribution,\n",
    "             wtp_tox_adp_ig_df.adp_attribution]\n",
    "adp_box = axs[1, 4].boxplot(adp_coll, meanline=True,notch=True, patch_artist=True)\n",
    "colors = ['#0000FF', '#00FF00','#FFFF00', '#FF00FF','#FFFFFF']\n",
    "labels=[\"kaggle\", \"twitter-rac\",\"twitter-sex\",\"wtp-agg\", \"wtp-tox\"]\n",
    "\n",
    "for patch, color, label in zip(adp_box['boxes'], colors, labels):\n",
    "    patch.set_facecolor(color)\n",
    "    patch.set_label(label)\n",
    "axs[1, 4].set_title(\"adp tags\",fontsize=18)\n",
    "axs[1, 4].set_xscale('log')\n",
    "axs[1, 4].tick_params(axis=\"x\", labelsize=14)\n",
    "axs[1, 4].tick_params(axis=\"y\", labelsize=14)\n",
    "axs[1, 4].legend([adp_box[\"boxes\"][0],\n",
    "                  adp_box[\"boxes\"][1],\n",
    "                  adp_box[\"boxes\"][2],\n",
    "                  adp_box[\"boxes\"][3],\n",
    "                  adp_box[\"boxes\"][4]],\n",
    "                  [\"kaggle\", \"twitter-rac\",\"twitter-sex\",\"wtp-agg\", \"wtp-tox\"], loc=\"upper left\",fontsize=12,bbox_to_anchor=(1.05, 1))\n",
    "\n",
    "#############################################################################################################\n",
    "bbox_fig.tight_layout()"
   ]
  },
  {
   "cell_type": "code",
   "execution_count": 148,
   "metadata": {},
   "outputs": [
    {
     "name": "stderr",
     "output_type": "stream",
     "text": [
      "The PostScript backend does not support transparency; partially transparent artists will be rendered opaque.\n",
      "The PostScript backend does not support transparency; partially transparent artists will be rendered opaque.\n",
      "The PostScript backend does not support transparency; partially transparent artists will be rendered opaque.\n",
      "The PostScript backend does not support transparency; partially transparent artists will be rendered opaque.\n"
     ]
    }
   ],
   "source": [
    "bbox_fig.savefig(\"box_plot_all_pos_tags_all_data.eps\", format='eps',bbox_inches='tight') "
   ]
  },
  {
   "cell_type": "code",
   "execution_count": 212,
   "metadata": {},
   "outputs": [
    {
     "data": {
      "image/png": "[encoded data removed]",
      "text/plain": [
       "<Figure size 1080x360 with 10 Axes>"
      ]
     },
     "metadata": {
      "needs_background": "light"
     },
     "output_type": "display_data"
    }
   ],
   "source": [
    "showmeans, showextrema, showmedians = True,True,False\n",
    "x_scale = \"linear\" #{\"linear\", \"log\", \"symlog\", \"logit\", ...}\n",
    "x_ticks = [\"kaggle\", \"twitter-rac\",\"twitter-sex\",\"wtp-agg\", \"wtp-tox\"]\n",
    "colors = ['#0000FF', '#00FF00','#FFFF00', '#FF00FF','#000000']\n",
    "labels=[\"kaggle\", \"twitter-rac\",\"twitter-sex\",\"wtp-agg\", \"wtp-tox\"]\n",
    "\n",
    "fig, axs = plt.subplots(figsize=(15, 5),ncols=5, nrows=2, sharex=True, sharey=True)\n",
    "fig.text(0.5, -0.01, 'Datasets', ha='center', fontsize=14)\n",
    "fig.text(-0.01, 0.5, 'Avg. importance score', va='center', rotation='vertical', fontsize=14)\n",
    "\n",
    "#for ax in axs.reshape(-1):\n",
    "    #ax.set_xticks(np.arange(1, len(x_ticks) + 1))\n",
    "    #ax.set_xticklabels(x_ticks)\n",
    "    \n",
    "adj_coll = [kaggle_adj_ig_df.adj_attribution, \n",
    "           twitter_rac_adj_ig_df.adj_attribution,\n",
    "           twitter_sex_adj_ig_df.adj_attribution,\n",
    "           wtp_agg_adj_ig_df.adj_attribution,\n",
    "           wtp_tox_adj_ig_df.adj_attribution]\n",
    "\n",
    "adj_box = axs[0, 0].violinplot(adj_coll,widths=0.9,showmeans=showmeans, showextrema=showextrema, showmedians=showmedians)\n",
    "colors = ['#0000FF', '#00FF00','#FFFF00', '#FF00FF','#000000']\n",
    "labels=[\"kaggle\", \"twitter-rac\",\"twitter-sex\",\"wtp-agg\", \"wtp-tox\"]\n",
    "\n",
    "for patch, color, label in zip(adj_box['bodies'], colors, labels):\n",
    "    patch.set_facecolor(color)\n",
    "    patch.set_label(label)\n",
    "    \n",
    "axs[0, 0].set_title(\"adj tags\", fontsize=18)\n",
    "axs[0, 0].set_xscale(x_scale)\n",
    "axs[0, 0].tick_params(axis=\"x\", labelsize=14)\n",
    "axs[0, 0].tick_params(axis=\"y\", labelsize=14)\n",
    "#axs[0, 0].legend([adj_box[\"bodies\"][0],\n",
    " #                 adj_box[\"bodies\"][1],\n",
    "  #                adj_box[\"bodies\"][2],\n",
    "   #               adj_box[\"bodies\"][3],\n",
    "    #              adj_box[\"bodies\"][4]],\n",
    "     #             [\"kaggle\", \"twitter-rac\",\"twitter-sex\",\"wtp-agg\", \"wtp-tox\"], loc=\"upper left\",fontsize=12)\n",
    "\n",
    "##############################################################################################################\n",
    "pron_coll = [kaggle_pron_ig_df.pron_attribution,\n",
    "            twitter_rac_pron_ig_df.pron_attribution,\n",
    "            twitter_sex_pron_ig_df.pron_attribution,\n",
    "            wtp_agg_pron_ig_df.pron_attribution,\n",
    "            wtp_tox_pron_ig_df.pron_attribution]\n",
    "\n",
    "pron_box = axs[0, 1].violinplot(pron_coll,widths=0.9,showmeans=showmeans, showextrema=showextrema, showmedians=showmedians)\n",
    "colors = colors\n",
    "labels = labels\n",
    "\n",
    "for patch, color, label in zip(pron_box['bodies'], colors, labels):\n",
    "    patch.set_facecolor(color)\n",
    "    patch.set_label(label)\n",
    "axs[0, 1].set_title(\"pron tags\", fontsize=18)\n",
    "axs[0, 1].set_xscale(x_scale)\n",
    "axs[0, 1].tick_params(axis=\"x\", labelsize=14)\n",
    "axs[0, 1].tick_params(axis=\"y\", labelsize=14)\n",
    "#axs[0, 1].legend([pron_box[\"bodies\"][0],\n",
    " #                 pron_box[\"bodies\"][1],\n",
    "  #                pron_box[\"bodies\"][2],\n",
    "   #               pron_box[\"bodies\"][3],\n",
    "    #              pron_box[\"bodies\"][4]],\n",
    "     #             [\"kaggle\", \"twitter-rac\",\"twitter-sex\",\"wtp-agg\", \"wtp-tox\"], loc=\"upper left\", fontsize=12)\n",
    "\n",
    "\n",
    "######################################################################################################\n",
    "noun_coll = [kaggle_noun_ig_df.noun_attribution,\n",
    "             twitter_rac_noun_ig_df.noun_attribution,\n",
    "             twitter_sex_noun_ig_df.noun_attribution,\n",
    "             wtp_agg_noun_ig_df.noun_attribution,\n",
    "             wtp_tox_noun_ig_df.noun_attribution]\n",
    "noun_box = axs[0, 2].violinplot(noun_coll,widths=0.9,showmeans=showmeans, showextrema=showextrema, showmedians=showmedians)\n",
    "colors = colors\n",
    "labels = labels\n",
    "\n",
    "for patch, color, label in zip(noun_box['bodies'], colors, labels):\n",
    "    patch.set_facecolor(color)\n",
    "    patch.set_label(label)\n",
    "axs[0, 2].set_title(\"noun tags\",fontsize=18)\n",
    "axs[0, 2].set_xscale(x_scale)\n",
    "axs[0, 2].tick_params(axis=\"x\", labelsize=14)\n",
    "axs[0, 2].tick_params(axis=\"y\", labelsize=14)\n",
    "#axs[0, 2].legend([noun_box[\"bodies\"][0],\n",
    " #                 noun_box[\"bodies\"][1],\n",
    "  #                noun_box[\"bodies\"][2],\n",
    "   #               noun_box[\"bodies\"][3],\n",
    "    #              noun_box[\"bodies\"][4]],\n",
    "     #             [\"kaggle\", \"twitter-rac\",\"twitter-sex\",\"wtp-agg\", \"wtp-tox\"], loc=\"upper left\", fontsize=12)\n",
    "\n",
    "################################################################################################################\n",
    "verb_coll = [kaggle_verb_ig_df.verb_attribution,\n",
    "             twitter_rac_verb_ig_df.verb_attribution,\n",
    "             twitter_sex_verb_ig_df.verb_attribution,\n",
    "             wtp_agg_verb_ig_df.verb_attribution,\n",
    "             wtp_tox_verb_ig_df.verb_attribution]\n",
    "verb_box = axs[0, 3].violinplot(verb_coll,widths=0.9,showmeans=showmeans, showextrema=showextrema, showmedians=showmedians)\n",
    "colors = colors\n",
    "labels = labels\n",
    "\n",
    "for patch, color, label in zip(verb_box['bodies'], colors, labels):\n",
    "    patch.set_facecolor(color)\n",
    "    patch.set_label(label)\n",
    "axs[0, 3].set_title(\"verb tags\",fontsize=18)\n",
    "axs[0, 3].set_xscale(x_scale)\n",
    "axs[0, 3].tick_params(axis=\"x\", labelsize=14)\n",
    "axs[0, 3].tick_params(axis=\"y\", labelsize=14)\n",
    "#axs[0, 3].legend([verb_box[\"bodies\"][0],\n",
    " #                 verb_box[\"bodies\"][1],\n",
    "  #                verb_box[\"bodies\"][2],\n",
    "   #               verb_box[\"bodies\"][3],\n",
    "    #              verb_box[\"bodies\"][4]],\n",
    "     #             [\"kaggle\", \"twitter-rac\",\"twitter-sex\",\"wtp-agg\", \"wtp-tox\"], loc=\"upper left\",fontsize=12)\n",
    "\n",
    "##############################################################################################################\n",
    "adv_coll = [kaggle_adv_ig_df.adv_attribution,\n",
    "             twitter_rac_adv_ig_df.adv_attribution,\n",
    "             twitter_sex_adv_ig_df.adv_attribution,\n",
    "             wtp_agg_adv_ig_df.adv_attribution,\n",
    "             wtp_tox_adv_ig_df.adv_attribution]\n",
    "adv_box = axs[0, 4].violinplot(adv_coll,widths=0.9,showmeans=showmeans, showextrema=showextrema, showmedians=showmedians)\n",
    "colors = colors\n",
    "labels = labels\n",
    "\n",
    "for patch, color, label in zip(adv_box['bodies'], colors, labels):\n",
    "    patch.set_facecolor(color)\n",
    "    patch.set_label(label)\n",
    "axs[0, 4].set_title(\"adverb tags\",fontsize=18)\n",
    "axs[0, 4].set_xscale(x_scale)\n",
    "axs[0, 4].tick_params(axis=\"x\", labelsize=14)\n",
    "axs[0, 4].tick_params(axis=\"y\", labelsize=14)\n",
    "#axs[0, 4].legend([adv_box[\"bodies\"][0],\n",
    " #                 adv_box[\"bodies\"][1],\n",
    "  #                adv_box[\"bodies\"][2],\n",
    "   #               adv_box[\"bodies\"][3],\n",
    "    #              adv_box[\"bodies\"][4]],\n",
    "     #             [\"kaggle\", \"twitter-rac\",\"twitter-sex\",\"wtp-agg\", \"wtp-tox\"], loc=\"upper left\",fontsize=12,bbox_to_anchor=(1.05, 1))\n",
    "\n",
    "#############################################################################################################\n",
    "propn_coll = [kaggle_propn_ig_df.propn_attribution,\n",
    "             twitter_rac_propn_ig_df.propn_attribution,\n",
    "             twitter_sex_propn_ig_df.propn_attribution,\n",
    "             wtp_agg_propn_ig_df.propn_attribution,\n",
    "             wtp_tox_propn_ig_df.propn_attribution]\n",
    "propn_box = axs[1, 0].violinplot(propn_coll,widths=0.9,showmeans=showmeans, showextrema=showextrema, showmedians=showmedians)\n",
    "colors = colors\n",
    "labels = labels\n",
    "\n",
    "for patch, color, label in zip(propn_box['bodies'], colors, labels):\n",
    "    patch.set_facecolor(color)\n",
    "    patch.set_label(label)\n",
    "axs[1, 0].set_title(\"propn tags\",fontsize=18)\n",
    "axs[1, 0].set_xscale(x_scale)\n",
    "axs[1, 0].tick_params(axis=\"x\", labelsize=14)\n",
    "axs[1, 0].tick_params(axis=\"y\", labelsize=14)\n",
    "#axs[1, 0].legend([propn_box[\"bodies\"][0],\n",
    " #                 propn_box[\"bodies\"][1],\n",
    "  #                propn_box[\"bodies\"][2],\n",
    "   #               propn_box[\"bodies\"][3],\n",
    "    #              propn_box[\"bodies\"][4]],\n",
    "     #             [\"kaggle\", \"twitter-rac\",\"twitter-sex\",\"wtp-agg\", \"wtp-tox\"], loc=\"upper left\")\n",
    "\n",
    "#############################################################################################################\n",
    "#############################################################################################################\n",
    "det_coll = [kaggle_det_ig_df.det_attribution,\n",
    "             twitter_rac_det_ig_df.det_attribution,\n",
    "             twitter_sex_det_ig_df.det_attribution,\n",
    "             wtp_agg_det_ig_df.det_attribution,\n",
    "             wtp_tox_det_ig_df.det_attribution]\n",
    "det_box = axs[1, 1].violinplot(det_coll,widths=0.9,showmeans=showmeans, showextrema=showextrema, showmedians=showmedians)\n",
    "colors = colors\n",
    "labels = labels\n",
    "\n",
    "for patch, color, label in zip(det_box['bodies'], colors, labels):\n",
    "    patch.set_facecolor(color)\n",
    "    patch.set_label(label)\n",
    "axs[1, 1].set_title(\"det tags\",fontsize=18)\n",
    "axs[1, 1].set_xscale(x_scale)\n",
    "axs[1, 1].tick_params(axis=\"x\", labelsize=14)\n",
    "axs[1,1].tick_params(axis=\"y\", labelsize=14)\n",
    "#axs[1, 1].legend([det_box[\"bodies\"][0],\n",
    " #                 det_box[\"bodies\"][1],\n",
    "  #                det_box[\"bodies\"][2],\n",
    "   #               det_box[\"bodies\"][3],\n",
    "    #              det_box[\"bodies\"][4]],\n",
    "     #             [\"kaggle\", \"twitter-rac\",\"twitter-sex\",\"wtp-agg\", \"wtp-tox\"], loc=\"upper left\",fontsize=12)\n",
    "\n",
    "#############################################################################################################\n",
    "punc_coll = [kaggle_punc_ig_df.punc_attribution,\n",
    "             twitter_rac_punc_ig_df.punc_attribution,\n",
    "             twitter_sex_punc_ig_df.punc_attribution,\n",
    "             wtp_agg_punc_ig_df.punc_attribution,\n",
    "             wtp_tox_punc_ig_df.punc_attribution]\n",
    "punc_box = axs[1, 2].violinplot(punc_coll,widths=0.9,showmeans=showmeans, showextrema=showextrema, showmedians=showmedians)\n",
    "colors = colors\n",
    "labels = labels\n",
    "\n",
    "for patch, color, label in zip(punc_box['bodies'], colors, labels):\n",
    "    patch.set_facecolor(color)\n",
    "    patch.set_label(label)\n",
    "axs[1, 2].set_title(\"punc tags\",fontsize=18)\n",
    "axs[1, 2].set_xscale(x_scale)\n",
    "axs[1, 2].tick_params(axis=\"x\", labelsize=14)\n",
    "axs[1, 2].tick_params(axis=\"y\", labelsize=14)\n",
    "#axs[1, 2].legend([punc_box[\"bodies\"][0],\n",
    " #                 punc_box[\"bodies\"][1],\n",
    "  #                punc_box[\"bodies\"][2],\n",
    "   #               punc_box[\"bodies\"][3],\n",
    "    #              punc_box[\"bodies\"][4]],\n",
    "     #             [\"kaggle\", \"twitter-rac\",\"twitter-sex\",\"wtp-agg\", \"wtp-tox\"], loc=\"upper left\",fontsize=12)\n",
    "\n",
    "#############################################################################################################\n",
    "aux_coll = [kaggle_aux_ig_df.aux_attribution,\n",
    "             twitter_rac_aux_ig_df.aux_attribution,\n",
    "             twitter_sex_aux_ig_df.aux_attribution,\n",
    "             wtp_agg_aux_ig_df.aux_attribution,\n",
    "             wtp_tox_aux_ig_df.aux_attribution]\n",
    "aux_box = axs[1, 3].violinplot(aux_coll,widths=0.9,showmeans=showmeans, showextrema=showextrema, showmedians=showmedians)\n",
    "colors = colors\n",
    "labels = labels\n",
    "\n",
    "for patch, color, label in zip(aux_box['bodies'], colors, labels):\n",
    "    patch.set_facecolor(color)\n",
    "    patch.set_label(label)\n",
    "axs[1, 3].set_title(\"aux tags\",fontsize=18)\n",
    "axs[1, 3].set_xscale(x_scale)\n",
    "axs[1, 3].tick_params(axis=\"x\", labelsize=14)\n",
    "axs[1, 3].tick_params(axis=\"y\", labelsize=14)\n",
    "#axs[1, 3].legend([aux_box[\"bodies\"][0],\n",
    " #                 aux_box[\"bodies\"][1],\n",
    "  #                aux_box[\"bodies\"][2],\n",
    "   #               aux_box[\"bodies\"][3],\n",
    "    #              aux_box[\"bodies\"][4]],\n",
    "     #             [\"kaggle\", \"twitter-rac\",\"twitter-sex\",\"wtp-agg\", \"wtp-tox\"], loc=\"upper left\",fontsize=12)\n",
    "\n",
    "#############################################################################################################\n",
    "adp_coll = [kaggle_adp_ig_df.adp_attribution,\n",
    "             twitter_rac_adp_ig_df.adp_attribution,\n",
    "             twitter_sex_adp_ig_df.adp_attribution,\n",
    "             wtp_agg_adp_ig_df.adp_attribution,\n",
    "             wtp_tox_adp_ig_df.adp_attribution]\n",
    "adp_box = axs[1, 4].violinplot(adp_coll,widths=0.9,showmeans=showmeans, showextrema=showextrema, showmedians=showmedians)\n",
    "colors = colors\n",
    "labels = labels\n",
    "\n",
    "for patch, color, label in zip(adp_box['bodies'], colors, labels):\n",
    "    patch.set_facecolor(color)\n",
    "    patch.set_label(label)\n",
    "axs[1, 4].set_title(\"adp tags\",fontsize=18)\n",
    "axs[1, 4].set_xscale(x_scale)\n",
    "axs[1, 4].tick_params(axis=\"x\", labelsize=14)\n",
    "axs[1, 4].tick_params(axis=\"y\", labelsize=14)\n",
    "#axs[1, 4].legend([adp_box[\"bodies\"][0],\n",
    " #                 adp_box[\"bodies\"][1],\n",
    "  #                adp_box[\"bodies\"][2],\n",
    "   #               adp_box[\"bodies\"][3],\n",
    "    #              adp_box[\"bodies\"][4]],\n",
    "     #             [\"kaggle\", \"twitter-rac\",\"twitter-sex\",\"wtp-agg\", \"wtp-tox\"], loc=\"upper left\",fontsize=12,bbox_to_anchor=(1.05, 1))\n",
    "\n",
    "\n",
    "for ax in axs.reshape(-1):\n",
    "    ax.set_xticks(np.arange(1, len(x_ticks) + 1))\n",
    "    ax.set_xticklabels(x_ticks, rotation=180)\n",
    "#############################################################################################################\n",
    "fig.tight_layout()"
   ]
  },
  {
   "cell_type": "code",
   "execution_count": 213,
   "metadata": {},
   "outputs": [
    {
     "name": "stderr",
     "output_type": "stream",
     "text": [
      "The PostScript backend does not support transparency; partially transparent artists will be rendered opaque.\n",
      "The PostScript backend does not support transparency; partially transparent artists will be rendered opaque.\n",
      "The PostScript backend does not support transparency; partially transparent artists will be rendered opaque.\n",
      "The PostScript backend does not support transparency; partially transparent artists will be rendered opaque.\n",
      "The PostScript backend does not support transparency; partially transparent artists will be rendered opaque.\n",
      "The PostScript backend does not support transparency; partially transparent artists will be rendered opaque.\n",
      "The PostScript backend does not support transparency; partially transparent artists will be rendered opaque.\n",
      "The PostScript backend does not support transparency; partially transparent artists will be rendered opaque.\n",
      "The PostScript backend does not support transparency; partially transparent artists will be rendered opaque.\n",
      "The PostScript backend does not support transparency; partially transparent artists will be rendered opaque.\n",
      "The PostScript backend does not support transparency; partially transparent artists will be rendered opaque.\n",
      "The PostScript backend does not support transparency; partially transparent artists will be rendered opaque.\n",
      "The PostScript backend does not support transparency; partially transparent artists will be rendered opaque.\n",
      "The PostScript backend does not support transparency; partially transparent artists will be rendered opaque.\n",
      "The PostScript backend does not support transparency; partially transparent artists will be rendered opaque.\n",
      "The PostScript backend does not support transparency; partially transparent artists will be rendered opaque.\n",
      "The PostScript backend does not support transparency; partially transparent artists will be rendered opaque.\n",
      "The PostScript backend does not support transparency; partially transparent artists will be rendered opaque.\n",
      "The PostScript backend does not support transparency; partially transparent artists will be rendered opaque.\n",
      "The PostScript backend does not support transparency; partially transparent artists will be rendered opaque.\n",
      "The PostScript backend does not support transparency; partially transparent artists will be rendered opaque.\n",
      "The PostScript backend does not support transparency; partially transparent artists will be rendered opaque.\n",
      "The PostScript backend does not support transparency; partially transparent artists will be rendered opaque.\n",
      "The PostScript backend does not support transparency; partially transparent artists will be rendered opaque.\n",
      "The PostScript backend does not support transparency; partially transparent artists will be rendered opaque.\n",
      "The PostScript backend does not support transparency; partially transparent artists will be rendered opaque.\n",
      "The PostScript backend does not support transparency; partially transparent artists will be rendered opaque.\n",
      "The PostScript backend does not support transparency; partially transparent artists will be rendered opaque.\n",
      "The PostScript backend does not support transparency; partially transparent artists will be rendered opaque.\n",
      "The PostScript backend does not support transparency; partially transparent artists will be rendered opaque.\n",
      "The PostScript backend does not support transparency; partially transparent artists will be rendered opaque.\n",
      "The PostScript backend does not support transparency; partially transparent artists will be rendered opaque.\n",
      "The PostScript backend does not support transparency; partially transparent artists will be rendered opaque.\n",
      "The PostScript backend does not support transparency; partially transparent artists will be rendered opaque.\n",
      "The PostScript backend does not support transparency; partially transparent artists will be rendered opaque.\n",
      "The PostScript backend does not support transparency; partially transparent artists will be rendered opaque.\n",
      "The PostScript backend does not support transparency; partially transparent artists will be rendered opaque.\n",
      "The PostScript backend does not support transparency; partially transparent artists will be rendered opaque.\n",
      "The PostScript backend does not support transparency; partially transparent artists will be rendered opaque.\n",
      "The PostScript backend does not support transparency; partially transparent artists will be rendered opaque.\n",
      "The PostScript backend does not support transparency; partially transparent artists will be rendered opaque.\n",
      "The PostScript backend does not support transparency; partially transparent artists will be rendered opaque.\n",
      "The PostScript backend does not support transparency; partially transparent artists will be rendered opaque.\n",
      "The PostScript backend does not support transparency; partially transparent artists will be rendered opaque.\n",
      "The PostScript backend does not support transparency; partially transparent artists will be rendered opaque.\n",
      "The PostScript backend does not support transparency; partially transparent artists will be rendered opaque.\n",
      "The PostScript backend does not support transparency; partially transparent artists will be rendered opaque.\n",
      "The PostScript backend does not support transparency; partially transparent artists will be rendered opaque.\n",
      "The PostScript backend does not support transparency; partially transparent artists will be rendered opaque.\n",
      "The PostScript backend does not support transparency; partially transparent artists will be rendered opaque.\n"
     ]
    }
   ],
   "source": [
    "fig.savefig(\"violin_plot_all_pos_tags_all_data.eps\", format='eps',bbox_inches='tight') "
   ]
  },
  {
   "cell_type": "code",
   "execution_count": null,
   "metadata": {},
   "outputs": [],
   "source": []
  }
 ],
 "metadata": {
  "kernelspec": {
   "display_name": "Python 3",
   "language": "python",
   "name": "python3"
  },
  "language_info": {
   "codemirror_mode": {
    "name": "ipython",
    "version": 3
   },
   "file_extension": ".py",
   "mimetype": "text/x-python",
   "name": "python",
   "nbconvert_exporter": "python",
   "pygments_lexer": "ipython3",
   "version": "3.6.9"
  }
 },
 "nbformat": 4,
 "nbformat_minor": 4
}
